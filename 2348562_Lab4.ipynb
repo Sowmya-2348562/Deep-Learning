{
  "nbformat": 4,
  "nbformat_minor": 0,
  "metadata": {
    "colab": {
      "provenance": [],
      "include_colab_link": true
    },
    "kernelspec": {
      "name": "python3",
      "display_name": "Python 3"
    },
    "language_info": {
      "name": "python"
    }
  },
  "cells": [
    {
      "cell_type": "markdown",
      "metadata": {
        "id": "view-in-github",
        "colab_type": "text"
      },
      "source": [
        "<a href=\"https://colab.research.google.com/github/Sowmya-2348562/Deep-Learning/blob/main/2348562_Lab4.ipynb\" target=\"_parent\"><img src=\"https://colab.research.google.com/assets/colab-badge.svg\" alt=\"Open In Colab\"/></a>"
      ]
    },
    {
      "cell_type": "markdown",
      "source": [
        "**Importing Necessary Libraries**\n",
        "\n",
        "---\n",
        "\n"
      ],
      "metadata": {
        "id": "cylZ9wTT-Gg8"
      }
    },
    {
      "cell_type": "code",
      "execution_count": null,
      "metadata": {
        "id": "6mK-REeG9fkJ"
      },
      "outputs": [],
      "source": [
        "import pandas as pd\n",
        "import numpy as np\n",
        "import seaborn as sns\n",
        "import matplotlib.pyplot as plt\n",
        "from termcolor import colored\n",
        "import plotly.express as px\n",
        "from sklearn.model_selection import train_test_split\n",
        "from sklearn.preprocessing import StandardScaler, LabelEncoder\n",
        "import keras\n",
        "from keras.models import Sequential\n",
        "from keras.layers import Dense, Dropout\n",
        "import tensorflow as tf\n",
        "from sklearn.metrics import accuracy_score, f1_score, roc_curve, roc_auc_score, confusion_matrix, classification_report,auc"
      ]
    },
    {
      "cell_type": "code",
      "source": [
        "data = pd.read_csv(\"/content/WA_Fn-UseC_-Telco-Customer-Churn.csv\")\n",
        "data.head()"
      ],
      "metadata": {
        "colab": {
          "base_uri": "https://localhost:8080/",
          "height": 342
        },
        "id": "lmFA89aB-PUA",
        "outputId": "cbca63b0-febd-4cc5-e862-867f3744e634"
      },
      "execution_count": null,
      "outputs": [
        {
          "output_type": "execute_result",
          "data": {
            "text/plain": [
              "   customerID  gender  SeniorCitizen Partner Dependents  tenure PhoneService  \\\n",
              "0  7590-VHVEG  Female              0     Yes         No       1           No   \n",
              "1  5575-GNVDE    Male              0      No         No      34          Yes   \n",
              "2  3668-QPYBK    Male              0      No         No       2          Yes   \n",
              "3  7795-CFOCW    Male              0      No         No      45           No   \n",
              "4  9237-HQITU  Female              0      No         No       2          Yes   \n",
              "\n",
              "      MultipleLines InternetService OnlineSecurity  ... DeviceProtection  \\\n",
              "0  No phone service             DSL             No  ...               No   \n",
              "1                No             DSL            Yes  ...              Yes   \n",
              "2                No             DSL            Yes  ...               No   \n",
              "3  No phone service             DSL            Yes  ...              Yes   \n",
              "4                No     Fiber optic             No  ...               No   \n",
              "\n",
              "  TechSupport StreamingTV StreamingMovies        Contract PaperlessBilling  \\\n",
              "0          No          No              No  Month-to-month              Yes   \n",
              "1          No          No              No        One year               No   \n",
              "2          No          No              No  Month-to-month              Yes   \n",
              "3         Yes          No              No        One year               No   \n",
              "4          No          No              No  Month-to-month              Yes   \n",
              "\n",
              "               PaymentMethod MonthlyCharges  TotalCharges Churn  \n",
              "0           Electronic check          29.85         29.85    No  \n",
              "1               Mailed check          56.95        1889.5    No  \n",
              "2               Mailed check          53.85        108.15   Yes  \n",
              "3  Bank transfer (automatic)          42.30       1840.75    No  \n",
              "4           Electronic check          70.70        151.65   Yes  \n",
              "\n",
              "[5 rows x 21 columns]"
            ],
            "text/html": [
              "\n",
              "  <div id=\"df-4e581838-4d31-44c6-8d86-a561efdaffd0\" class=\"colab-df-container\">\n",
              "    <div>\n",
              "<style scoped>\n",
              "    .dataframe tbody tr th:only-of-type {\n",
              "        vertical-align: middle;\n",
              "    }\n",
              "\n",
              "    .dataframe tbody tr th {\n",
              "        vertical-align: top;\n",
              "    }\n",
              "\n",
              "    .dataframe thead th {\n",
              "        text-align: right;\n",
              "    }\n",
              "</style>\n",
              "<table border=\"1\" class=\"dataframe\">\n",
              "  <thead>\n",
              "    <tr style=\"text-align: right;\">\n",
              "      <th></th>\n",
              "      <th>customerID</th>\n",
              "      <th>gender</th>\n",
              "      <th>SeniorCitizen</th>\n",
              "      <th>Partner</th>\n",
              "      <th>Dependents</th>\n",
              "      <th>tenure</th>\n",
              "      <th>PhoneService</th>\n",
              "      <th>MultipleLines</th>\n",
              "      <th>InternetService</th>\n",
              "      <th>OnlineSecurity</th>\n",
              "      <th>...</th>\n",
              "      <th>DeviceProtection</th>\n",
              "      <th>TechSupport</th>\n",
              "      <th>StreamingTV</th>\n",
              "      <th>StreamingMovies</th>\n",
              "      <th>Contract</th>\n",
              "      <th>PaperlessBilling</th>\n",
              "      <th>PaymentMethod</th>\n",
              "      <th>MonthlyCharges</th>\n",
              "      <th>TotalCharges</th>\n",
              "      <th>Churn</th>\n",
              "    </tr>\n",
              "  </thead>\n",
              "  <tbody>\n",
              "    <tr>\n",
              "      <th>0</th>\n",
              "      <td>7590-VHVEG</td>\n",
              "      <td>Female</td>\n",
              "      <td>0</td>\n",
              "      <td>Yes</td>\n",
              "      <td>No</td>\n",
              "      <td>1</td>\n",
              "      <td>No</td>\n",
              "      <td>No phone service</td>\n",
              "      <td>DSL</td>\n",
              "      <td>No</td>\n",
              "      <td>...</td>\n",
              "      <td>No</td>\n",
              "      <td>No</td>\n",
              "      <td>No</td>\n",
              "      <td>No</td>\n",
              "      <td>Month-to-month</td>\n",
              "      <td>Yes</td>\n",
              "      <td>Electronic check</td>\n",
              "      <td>29.85</td>\n",
              "      <td>29.85</td>\n",
              "      <td>No</td>\n",
              "    </tr>\n",
              "    <tr>\n",
              "      <th>1</th>\n",
              "      <td>5575-GNVDE</td>\n",
              "      <td>Male</td>\n",
              "      <td>0</td>\n",
              "      <td>No</td>\n",
              "      <td>No</td>\n",
              "      <td>34</td>\n",
              "      <td>Yes</td>\n",
              "      <td>No</td>\n",
              "      <td>DSL</td>\n",
              "      <td>Yes</td>\n",
              "      <td>...</td>\n",
              "      <td>Yes</td>\n",
              "      <td>No</td>\n",
              "      <td>No</td>\n",
              "      <td>No</td>\n",
              "      <td>One year</td>\n",
              "      <td>No</td>\n",
              "      <td>Mailed check</td>\n",
              "      <td>56.95</td>\n",
              "      <td>1889.5</td>\n",
              "      <td>No</td>\n",
              "    </tr>\n",
              "    <tr>\n",
              "      <th>2</th>\n",
              "      <td>3668-QPYBK</td>\n",
              "      <td>Male</td>\n",
              "      <td>0</td>\n",
              "      <td>No</td>\n",
              "      <td>No</td>\n",
              "      <td>2</td>\n",
              "      <td>Yes</td>\n",
              "      <td>No</td>\n",
              "      <td>DSL</td>\n",
              "      <td>Yes</td>\n",
              "      <td>...</td>\n",
              "      <td>No</td>\n",
              "      <td>No</td>\n",
              "      <td>No</td>\n",
              "      <td>No</td>\n",
              "      <td>Month-to-month</td>\n",
              "      <td>Yes</td>\n",
              "      <td>Mailed check</td>\n",
              "      <td>53.85</td>\n",
              "      <td>108.15</td>\n",
              "      <td>Yes</td>\n",
              "    </tr>\n",
              "    <tr>\n",
              "      <th>3</th>\n",
              "      <td>7795-CFOCW</td>\n",
              "      <td>Male</td>\n",
              "      <td>0</td>\n",
              "      <td>No</td>\n",
              "      <td>No</td>\n",
              "      <td>45</td>\n",
              "      <td>No</td>\n",
              "      <td>No phone service</td>\n",
              "      <td>DSL</td>\n",
              "      <td>Yes</td>\n",
              "      <td>...</td>\n",
              "      <td>Yes</td>\n",
              "      <td>Yes</td>\n",
              "      <td>No</td>\n",
              "      <td>No</td>\n",
              "      <td>One year</td>\n",
              "      <td>No</td>\n",
              "      <td>Bank transfer (automatic)</td>\n",
              "      <td>42.30</td>\n",
              "      <td>1840.75</td>\n",
              "      <td>No</td>\n",
              "    </tr>\n",
              "    <tr>\n",
              "      <th>4</th>\n",
              "      <td>9237-HQITU</td>\n",
              "      <td>Female</td>\n",
              "      <td>0</td>\n",
              "      <td>No</td>\n",
              "      <td>No</td>\n",
              "      <td>2</td>\n",
              "      <td>Yes</td>\n",
              "      <td>No</td>\n",
              "      <td>Fiber optic</td>\n",
              "      <td>No</td>\n",
              "      <td>...</td>\n",
              "      <td>No</td>\n",
              "      <td>No</td>\n",
              "      <td>No</td>\n",
              "      <td>No</td>\n",
              "      <td>Month-to-month</td>\n",
              "      <td>Yes</td>\n",
              "      <td>Electronic check</td>\n",
              "      <td>70.70</td>\n",
              "      <td>151.65</td>\n",
              "      <td>Yes</td>\n",
              "    </tr>\n",
              "  </tbody>\n",
              "</table>\n",
              "<p>5 rows × 21 columns</p>\n",
              "</div>\n",
              "    <div class=\"colab-df-buttons\">\n",
              "\n",
              "  <div class=\"colab-df-container\">\n",
              "    <button class=\"colab-df-convert\" onclick=\"convertToInteractive('df-4e581838-4d31-44c6-8d86-a561efdaffd0')\"\n",
              "            title=\"Convert this dataframe to an interactive table.\"\n",
              "            style=\"display:none;\">\n",
              "\n",
              "  <svg xmlns=\"http://www.w3.org/2000/svg\" height=\"24px\" viewBox=\"0 -960 960 960\">\n",
              "    <path d=\"M120-120v-720h720v720H120Zm60-500h600v-160H180v160Zm220 220h160v-160H400v160Zm0 220h160v-160H400v160ZM180-400h160v-160H180v160Zm440 0h160v-160H620v160ZM180-180h160v-160H180v160Zm440 0h160v-160H620v160Z\"/>\n",
              "  </svg>\n",
              "    </button>\n",
              "\n",
              "  <style>\n",
              "    .colab-df-container {\n",
              "      display:flex;\n",
              "      gap: 12px;\n",
              "    }\n",
              "\n",
              "    .colab-df-convert {\n",
              "      background-color: #E8F0FE;\n",
              "      border: none;\n",
              "      border-radius: 50%;\n",
              "      cursor: pointer;\n",
              "      display: none;\n",
              "      fill: #1967D2;\n",
              "      height: 32px;\n",
              "      padding: 0 0 0 0;\n",
              "      width: 32px;\n",
              "    }\n",
              "\n",
              "    .colab-df-convert:hover {\n",
              "      background-color: #E2EBFA;\n",
              "      box-shadow: 0px 1px 2px rgba(60, 64, 67, 0.3), 0px 1px 3px 1px rgba(60, 64, 67, 0.15);\n",
              "      fill: #174EA6;\n",
              "    }\n",
              "\n",
              "    .colab-df-buttons div {\n",
              "      margin-bottom: 4px;\n",
              "    }\n",
              "\n",
              "    [theme=dark] .colab-df-convert {\n",
              "      background-color: #3B4455;\n",
              "      fill: #D2E3FC;\n",
              "    }\n",
              "\n",
              "    [theme=dark] .colab-df-convert:hover {\n",
              "      background-color: #434B5C;\n",
              "      box-shadow: 0px 1px 3px 1px rgba(0, 0, 0, 0.15);\n",
              "      filter: drop-shadow(0px 1px 2px rgba(0, 0, 0, 0.3));\n",
              "      fill: #FFFFFF;\n",
              "    }\n",
              "  </style>\n",
              "\n",
              "    <script>\n",
              "      const buttonEl =\n",
              "        document.querySelector('#df-4e581838-4d31-44c6-8d86-a561efdaffd0 button.colab-df-convert');\n",
              "      buttonEl.style.display =\n",
              "        google.colab.kernel.accessAllowed ? 'block' : 'none';\n",
              "\n",
              "      async function convertToInteractive(key) {\n",
              "        const element = document.querySelector('#df-4e581838-4d31-44c6-8d86-a561efdaffd0');\n",
              "        const dataTable =\n",
              "          await google.colab.kernel.invokeFunction('convertToInteractive',\n",
              "                                                    [key], {});\n",
              "        if (!dataTable) return;\n",
              "\n",
              "        const docLinkHtml = 'Like what you see? Visit the ' +\n",
              "          '<a target=\"_blank\" href=https://colab.research.google.com/notebooks/data_table.ipynb>data table notebook</a>'\n",
              "          + ' to learn more about interactive tables.';\n",
              "        element.innerHTML = '';\n",
              "        dataTable['output_type'] = 'display_data';\n",
              "        await google.colab.output.renderOutput(dataTable, element);\n",
              "        const docLink = document.createElement('div');\n",
              "        docLink.innerHTML = docLinkHtml;\n",
              "        element.appendChild(docLink);\n",
              "      }\n",
              "    </script>\n",
              "  </div>\n",
              "\n",
              "\n",
              "<div id=\"df-2f68e3e6-9957-4f7b-bb88-7e386f25cbb5\">\n",
              "  <button class=\"colab-df-quickchart\" onclick=\"quickchart('df-2f68e3e6-9957-4f7b-bb88-7e386f25cbb5')\"\n",
              "            title=\"Suggest charts\"\n",
              "            style=\"display:none;\">\n",
              "\n",
              "<svg xmlns=\"http://www.w3.org/2000/svg\" height=\"24px\"viewBox=\"0 0 24 24\"\n",
              "     width=\"24px\">\n",
              "    <g>\n",
              "        <path d=\"M19 3H5c-1.1 0-2 .9-2 2v14c0 1.1.9 2 2 2h14c1.1 0 2-.9 2-2V5c0-1.1-.9-2-2-2zM9 17H7v-7h2v7zm4 0h-2V7h2v10zm4 0h-2v-4h2v4z\"/>\n",
              "    </g>\n",
              "</svg>\n",
              "  </button>\n",
              "\n",
              "<style>\n",
              "  .colab-df-quickchart {\n",
              "      --bg-color: #E8F0FE;\n",
              "      --fill-color: #1967D2;\n",
              "      --hover-bg-color: #E2EBFA;\n",
              "      --hover-fill-color: #174EA6;\n",
              "      --disabled-fill-color: #AAA;\n",
              "      --disabled-bg-color: #DDD;\n",
              "  }\n",
              "\n",
              "  [theme=dark] .colab-df-quickchart {\n",
              "      --bg-color: #3B4455;\n",
              "      --fill-color: #D2E3FC;\n",
              "      --hover-bg-color: #434B5C;\n",
              "      --hover-fill-color: #FFFFFF;\n",
              "      --disabled-bg-color: #3B4455;\n",
              "      --disabled-fill-color: #666;\n",
              "  }\n",
              "\n",
              "  .colab-df-quickchart {\n",
              "    background-color: var(--bg-color);\n",
              "    border: none;\n",
              "    border-radius: 50%;\n",
              "    cursor: pointer;\n",
              "    display: none;\n",
              "    fill: var(--fill-color);\n",
              "    height: 32px;\n",
              "    padding: 0;\n",
              "    width: 32px;\n",
              "  }\n",
              "\n",
              "  .colab-df-quickchart:hover {\n",
              "    background-color: var(--hover-bg-color);\n",
              "    box-shadow: 0 1px 2px rgba(60, 64, 67, 0.3), 0 1px 3px 1px rgba(60, 64, 67, 0.15);\n",
              "    fill: var(--button-hover-fill-color);\n",
              "  }\n",
              "\n",
              "  .colab-df-quickchart-complete:disabled,\n",
              "  .colab-df-quickchart-complete:disabled:hover {\n",
              "    background-color: var(--disabled-bg-color);\n",
              "    fill: var(--disabled-fill-color);\n",
              "    box-shadow: none;\n",
              "  }\n",
              "\n",
              "  .colab-df-spinner {\n",
              "    border: 2px solid var(--fill-color);\n",
              "    border-color: transparent;\n",
              "    border-bottom-color: var(--fill-color);\n",
              "    animation:\n",
              "      spin 1s steps(1) infinite;\n",
              "  }\n",
              "\n",
              "  @keyframes spin {\n",
              "    0% {\n",
              "      border-color: transparent;\n",
              "      border-bottom-color: var(--fill-color);\n",
              "      border-left-color: var(--fill-color);\n",
              "    }\n",
              "    20% {\n",
              "      border-color: transparent;\n",
              "      border-left-color: var(--fill-color);\n",
              "      border-top-color: var(--fill-color);\n",
              "    }\n",
              "    30% {\n",
              "      border-color: transparent;\n",
              "      border-left-color: var(--fill-color);\n",
              "      border-top-color: var(--fill-color);\n",
              "      border-right-color: var(--fill-color);\n",
              "    }\n",
              "    40% {\n",
              "      border-color: transparent;\n",
              "      border-right-color: var(--fill-color);\n",
              "      border-top-color: var(--fill-color);\n",
              "    }\n",
              "    60% {\n",
              "      border-color: transparent;\n",
              "      border-right-color: var(--fill-color);\n",
              "    }\n",
              "    80% {\n",
              "      border-color: transparent;\n",
              "      border-right-color: var(--fill-color);\n",
              "      border-bottom-color: var(--fill-color);\n",
              "    }\n",
              "    90% {\n",
              "      border-color: transparent;\n",
              "      border-bottom-color: var(--fill-color);\n",
              "    }\n",
              "  }\n",
              "</style>\n",
              "\n",
              "  <script>\n",
              "    async function quickchart(key) {\n",
              "      const quickchartButtonEl =\n",
              "        document.querySelector('#' + key + ' button');\n",
              "      quickchartButtonEl.disabled = true;  // To prevent multiple clicks.\n",
              "      quickchartButtonEl.classList.add('colab-df-spinner');\n",
              "      try {\n",
              "        const charts = await google.colab.kernel.invokeFunction(\n",
              "            'suggestCharts', [key], {});\n",
              "      } catch (error) {\n",
              "        console.error('Error during call to suggestCharts:', error);\n",
              "      }\n",
              "      quickchartButtonEl.classList.remove('colab-df-spinner');\n",
              "      quickchartButtonEl.classList.add('colab-df-quickchart-complete');\n",
              "    }\n",
              "    (() => {\n",
              "      let quickchartButtonEl =\n",
              "        document.querySelector('#df-2f68e3e6-9957-4f7b-bb88-7e386f25cbb5 button');\n",
              "      quickchartButtonEl.style.display =\n",
              "        google.colab.kernel.accessAllowed ? 'block' : 'none';\n",
              "    })();\n",
              "  </script>\n",
              "</div>\n",
              "    </div>\n",
              "  </div>\n"
            ],
            "application/vnd.google.colaboratory.intrinsic+json": {
              "type": "dataframe",
              "variable_name": "data"
            }
          },
          "metadata": {},
          "execution_count": 2
        }
      ]
    },
    {
      "cell_type": "code",
      "source": [
        "\n",
        "# Dropping the unnecesary ID column\n",
        "data = data.drop(columns=['customerID'])"
      ],
      "metadata": {
        "id": "XHherys8-X1o"
      },
      "execution_count": null,
      "outputs": []
    },
    {
      "cell_type": "markdown",
      "source": [
        "**Exploratory Data Analysis**"
      ],
      "metadata": {
        "id": "hlhqXQwv-kHl"
      }
    },
    {
      "cell_type": "code",
      "source": [
        "data.info()"
      ],
      "metadata": {
        "colab": {
          "base_uri": "https://localhost:8080/"
        },
        "id": "BV-C2IlO-pux",
        "outputId": "12da2a6a-d5a3-4f5b-a65f-62d67a2e8e59"
      },
      "execution_count": null,
      "outputs": [
        {
          "output_type": "stream",
          "name": "stdout",
          "text": [
            "<class 'pandas.core.frame.DataFrame'>\n",
            "RangeIndex: 7043 entries, 0 to 7042\n",
            "Data columns (total 20 columns):\n",
            " #   Column            Non-Null Count  Dtype  \n",
            "---  ------            --------------  -----  \n",
            " 0   gender            7043 non-null   object \n",
            " 1   SeniorCitizen     7043 non-null   int64  \n",
            " 2   Partner           7043 non-null   object \n",
            " 3   Dependents        7043 non-null   object \n",
            " 4   tenure            7043 non-null   int64  \n",
            " 5   PhoneService      7043 non-null   object \n",
            " 6   MultipleLines     7043 non-null   object \n",
            " 7   InternetService   7043 non-null   object \n",
            " 8   OnlineSecurity    7043 non-null   object \n",
            " 9   OnlineBackup      7043 non-null   object \n",
            " 10  DeviceProtection  7043 non-null   object \n",
            " 11  TechSupport       7043 non-null   object \n",
            " 12  StreamingTV       7043 non-null   object \n",
            " 13  StreamingMovies   7043 non-null   object \n",
            " 14  Contract          7043 non-null   object \n",
            " 15  PaperlessBilling  7043 non-null   object \n",
            " 16  PaymentMethod     7043 non-null   object \n",
            " 17  MonthlyCharges    7043 non-null   float64\n",
            " 18  TotalCharges      7043 non-null   object \n",
            " 19  Churn             7043 non-null   object \n",
            "dtypes: float64(1), int64(2), object(17)\n",
            "memory usage: 1.1+ MB\n"
          ]
        }
      ]
    },
    {
      "cell_type": "code",
      "source": [
        "data.describe(include='all')"
      ],
      "metadata": {
        "colab": {
          "base_uri": "https://localhost:8080/",
          "height": 432
        },
        "id": "X5Ss24BRAF5L",
        "outputId": "d462ad04-c5fa-45f7-bbf0-9ab73f47684e"
      },
      "execution_count": null,
      "outputs": [
        {
          "output_type": "execute_result",
          "data": {
            "text/plain": [
              "       gender  SeniorCitizen Partner Dependents       tenure PhoneService  \\\n",
              "count    7043    7043.000000    7043       7043  7043.000000         7043   \n",
              "unique      2            NaN       2          2          NaN            2   \n",
              "top      Male            NaN      No         No          NaN          Yes   \n",
              "freq     3555            NaN    3641       4933          NaN         6361   \n",
              "mean      NaN       0.162147     NaN        NaN    32.371149          NaN   \n",
              "std       NaN       0.368612     NaN        NaN    24.559481          NaN   \n",
              "min       NaN       0.000000     NaN        NaN     0.000000          NaN   \n",
              "25%       NaN       0.000000     NaN        NaN     9.000000          NaN   \n",
              "50%       NaN       0.000000     NaN        NaN    29.000000          NaN   \n",
              "75%       NaN       0.000000     NaN        NaN    55.000000          NaN   \n",
              "max       NaN       1.000000     NaN        NaN    72.000000          NaN   \n",
              "\n",
              "       MultipleLines InternetService OnlineSecurity OnlineBackup  \\\n",
              "count           7043            7043           7043         7043   \n",
              "unique             3               3              3            3   \n",
              "top               No     Fiber optic             No           No   \n",
              "freq            3390            3096           3498         3088   \n",
              "mean             NaN             NaN            NaN          NaN   \n",
              "std              NaN             NaN            NaN          NaN   \n",
              "min              NaN             NaN            NaN          NaN   \n",
              "25%              NaN             NaN            NaN          NaN   \n",
              "50%              NaN             NaN            NaN          NaN   \n",
              "75%              NaN             NaN            NaN          NaN   \n",
              "max              NaN             NaN            NaN          NaN   \n",
              "\n",
              "       DeviceProtection TechSupport StreamingTV StreamingMovies  \\\n",
              "count              7043        7043        7043            7043   \n",
              "unique                3           3           3               3   \n",
              "top                  No          No          No              No   \n",
              "freq               3095        3473        2810            2785   \n",
              "mean                NaN         NaN         NaN             NaN   \n",
              "std                 NaN         NaN         NaN             NaN   \n",
              "min                 NaN         NaN         NaN             NaN   \n",
              "25%                 NaN         NaN         NaN             NaN   \n",
              "50%                 NaN         NaN         NaN             NaN   \n",
              "75%                 NaN         NaN         NaN             NaN   \n",
              "max                 NaN         NaN         NaN             NaN   \n",
              "\n",
              "              Contract PaperlessBilling     PaymentMethod  MonthlyCharges  \\\n",
              "count             7043             7043              7043     7043.000000   \n",
              "unique               3                2                 4             NaN   \n",
              "top     Month-to-month              Yes  Electronic check             NaN   \n",
              "freq              3875             4171              2365             NaN   \n",
              "mean               NaN              NaN               NaN       64.761692   \n",
              "std                NaN              NaN               NaN       30.090047   \n",
              "min                NaN              NaN               NaN       18.250000   \n",
              "25%                NaN              NaN               NaN       35.500000   \n",
              "50%                NaN              NaN               NaN       70.350000   \n",
              "75%                NaN              NaN               NaN       89.850000   \n",
              "max                NaN              NaN               NaN      118.750000   \n",
              "\n",
              "       TotalCharges Churn  \n",
              "count          7043  7043  \n",
              "unique         6531     2  \n",
              "top                    No  \n",
              "freq             11  5174  \n",
              "mean            NaN   NaN  \n",
              "std             NaN   NaN  \n",
              "min             NaN   NaN  \n",
              "25%             NaN   NaN  \n",
              "50%             NaN   NaN  \n",
              "75%             NaN   NaN  \n",
              "max             NaN   NaN  "
            ],
            "text/html": [
              "\n",
              "  <div id=\"df-be62aecb-3f5f-48ce-9e19-5ae979b5e492\" class=\"colab-df-container\">\n",
              "    <div>\n",
              "<style scoped>\n",
              "    .dataframe tbody tr th:only-of-type {\n",
              "        vertical-align: middle;\n",
              "    }\n",
              "\n",
              "    .dataframe tbody tr th {\n",
              "        vertical-align: top;\n",
              "    }\n",
              "\n",
              "    .dataframe thead th {\n",
              "        text-align: right;\n",
              "    }\n",
              "</style>\n",
              "<table border=\"1\" class=\"dataframe\">\n",
              "  <thead>\n",
              "    <tr style=\"text-align: right;\">\n",
              "      <th></th>\n",
              "      <th>gender</th>\n",
              "      <th>SeniorCitizen</th>\n",
              "      <th>Partner</th>\n",
              "      <th>Dependents</th>\n",
              "      <th>tenure</th>\n",
              "      <th>PhoneService</th>\n",
              "      <th>MultipleLines</th>\n",
              "      <th>InternetService</th>\n",
              "      <th>OnlineSecurity</th>\n",
              "      <th>OnlineBackup</th>\n",
              "      <th>DeviceProtection</th>\n",
              "      <th>TechSupport</th>\n",
              "      <th>StreamingTV</th>\n",
              "      <th>StreamingMovies</th>\n",
              "      <th>Contract</th>\n",
              "      <th>PaperlessBilling</th>\n",
              "      <th>PaymentMethod</th>\n",
              "      <th>MonthlyCharges</th>\n",
              "      <th>TotalCharges</th>\n",
              "      <th>Churn</th>\n",
              "    </tr>\n",
              "  </thead>\n",
              "  <tbody>\n",
              "    <tr>\n",
              "      <th>count</th>\n",
              "      <td>7043</td>\n",
              "      <td>7043.000000</td>\n",
              "      <td>7043</td>\n",
              "      <td>7043</td>\n",
              "      <td>7043.000000</td>\n",
              "      <td>7043</td>\n",
              "      <td>7043</td>\n",
              "      <td>7043</td>\n",
              "      <td>7043</td>\n",
              "      <td>7043</td>\n",
              "      <td>7043</td>\n",
              "      <td>7043</td>\n",
              "      <td>7043</td>\n",
              "      <td>7043</td>\n",
              "      <td>7043</td>\n",
              "      <td>7043</td>\n",
              "      <td>7043</td>\n",
              "      <td>7043.000000</td>\n",
              "      <td>7043</td>\n",
              "      <td>7043</td>\n",
              "    </tr>\n",
              "    <tr>\n",
              "      <th>unique</th>\n",
              "      <td>2</td>\n",
              "      <td>NaN</td>\n",
              "      <td>2</td>\n",
              "      <td>2</td>\n",
              "      <td>NaN</td>\n",
              "      <td>2</td>\n",
              "      <td>3</td>\n",
              "      <td>3</td>\n",
              "      <td>3</td>\n",
              "      <td>3</td>\n",
              "      <td>3</td>\n",
              "      <td>3</td>\n",
              "      <td>3</td>\n",
              "      <td>3</td>\n",
              "      <td>3</td>\n",
              "      <td>2</td>\n",
              "      <td>4</td>\n",
              "      <td>NaN</td>\n",
              "      <td>6531</td>\n",
              "      <td>2</td>\n",
              "    </tr>\n",
              "    <tr>\n",
              "      <th>top</th>\n",
              "      <td>Male</td>\n",
              "      <td>NaN</td>\n",
              "      <td>No</td>\n",
              "      <td>No</td>\n",
              "      <td>NaN</td>\n",
              "      <td>Yes</td>\n",
              "      <td>No</td>\n",
              "      <td>Fiber optic</td>\n",
              "      <td>No</td>\n",
              "      <td>No</td>\n",
              "      <td>No</td>\n",
              "      <td>No</td>\n",
              "      <td>No</td>\n",
              "      <td>No</td>\n",
              "      <td>Month-to-month</td>\n",
              "      <td>Yes</td>\n",
              "      <td>Electronic check</td>\n",
              "      <td>NaN</td>\n",
              "      <td></td>\n",
              "      <td>No</td>\n",
              "    </tr>\n",
              "    <tr>\n",
              "      <th>freq</th>\n",
              "      <td>3555</td>\n",
              "      <td>NaN</td>\n",
              "      <td>3641</td>\n",
              "      <td>4933</td>\n",
              "      <td>NaN</td>\n",
              "      <td>6361</td>\n",
              "      <td>3390</td>\n",
              "      <td>3096</td>\n",
              "      <td>3498</td>\n",
              "      <td>3088</td>\n",
              "      <td>3095</td>\n",
              "      <td>3473</td>\n",
              "      <td>2810</td>\n",
              "      <td>2785</td>\n",
              "      <td>3875</td>\n",
              "      <td>4171</td>\n",
              "      <td>2365</td>\n",
              "      <td>NaN</td>\n",
              "      <td>11</td>\n",
              "      <td>5174</td>\n",
              "    </tr>\n",
              "    <tr>\n",
              "      <th>mean</th>\n",
              "      <td>NaN</td>\n",
              "      <td>0.162147</td>\n",
              "      <td>NaN</td>\n",
              "      <td>NaN</td>\n",
              "      <td>32.371149</td>\n",
              "      <td>NaN</td>\n",
              "      <td>NaN</td>\n",
              "      <td>NaN</td>\n",
              "      <td>NaN</td>\n",
              "      <td>NaN</td>\n",
              "      <td>NaN</td>\n",
              "      <td>NaN</td>\n",
              "      <td>NaN</td>\n",
              "      <td>NaN</td>\n",
              "      <td>NaN</td>\n",
              "      <td>NaN</td>\n",
              "      <td>NaN</td>\n",
              "      <td>64.761692</td>\n",
              "      <td>NaN</td>\n",
              "      <td>NaN</td>\n",
              "    </tr>\n",
              "    <tr>\n",
              "      <th>std</th>\n",
              "      <td>NaN</td>\n",
              "      <td>0.368612</td>\n",
              "      <td>NaN</td>\n",
              "      <td>NaN</td>\n",
              "      <td>24.559481</td>\n",
              "      <td>NaN</td>\n",
              "      <td>NaN</td>\n",
              "      <td>NaN</td>\n",
              "      <td>NaN</td>\n",
              "      <td>NaN</td>\n",
              "      <td>NaN</td>\n",
              "      <td>NaN</td>\n",
              "      <td>NaN</td>\n",
              "      <td>NaN</td>\n",
              "      <td>NaN</td>\n",
              "      <td>NaN</td>\n",
              "      <td>NaN</td>\n",
              "      <td>30.090047</td>\n",
              "      <td>NaN</td>\n",
              "      <td>NaN</td>\n",
              "    </tr>\n",
              "    <tr>\n",
              "      <th>min</th>\n",
              "      <td>NaN</td>\n",
              "      <td>0.000000</td>\n",
              "      <td>NaN</td>\n",
              "      <td>NaN</td>\n",
              "      <td>0.000000</td>\n",
              "      <td>NaN</td>\n",
              "      <td>NaN</td>\n",
              "      <td>NaN</td>\n",
              "      <td>NaN</td>\n",
              "      <td>NaN</td>\n",
              "      <td>NaN</td>\n",
              "      <td>NaN</td>\n",
              "      <td>NaN</td>\n",
              "      <td>NaN</td>\n",
              "      <td>NaN</td>\n",
              "      <td>NaN</td>\n",
              "      <td>NaN</td>\n",
              "      <td>18.250000</td>\n",
              "      <td>NaN</td>\n",
              "      <td>NaN</td>\n",
              "    </tr>\n",
              "    <tr>\n",
              "      <th>25%</th>\n",
              "      <td>NaN</td>\n",
              "      <td>0.000000</td>\n",
              "      <td>NaN</td>\n",
              "      <td>NaN</td>\n",
              "      <td>9.000000</td>\n",
              "      <td>NaN</td>\n",
              "      <td>NaN</td>\n",
              "      <td>NaN</td>\n",
              "      <td>NaN</td>\n",
              "      <td>NaN</td>\n",
              "      <td>NaN</td>\n",
              "      <td>NaN</td>\n",
              "      <td>NaN</td>\n",
              "      <td>NaN</td>\n",
              "      <td>NaN</td>\n",
              "      <td>NaN</td>\n",
              "      <td>NaN</td>\n",
              "      <td>35.500000</td>\n",
              "      <td>NaN</td>\n",
              "      <td>NaN</td>\n",
              "    </tr>\n",
              "    <tr>\n",
              "      <th>50%</th>\n",
              "      <td>NaN</td>\n",
              "      <td>0.000000</td>\n",
              "      <td>NaN</td>\n",
              "      <td>NaN</td>\n",
              "      <td>29.000000</td>\n",
              "      <td>NaN</td>\n",
              "      <td>NaN</td>\n",
              "      <td>NaN</td>\n",
              "      <td>NaN</td>\n",
              "      <td>NaN</td>\n",
              "      <td>NaN</td>\n",
              "      <td>NaN</td>\n",
              "      <td>NaN</td>\n",
              "      <td>NaN</td>\n",
              "      <td>NaN</td>\n",
              "      <td>NaN</td>\n",
              "      <td>NaN</td>\n",
              "      <td>70.350000</td>\n",
              "      <td>NaN</td>\n",
              "      <td>NaN</td>\n",
              "    </tr>\n",
              "    <tr>\n",
              "      <th>75%</th>\n",
              "      <td>NaN</td>\n",
              "      <td>0.000000</td>\n",
              "      <td>NaN</td>\n",
              "      <td>NaN</td>\n",
              "      <td>55.000000</td>\n",
              "      <td>NaN</td>\n",
              "      <td>NaN</td>\n",
              "      <td>NaN</td>\n",
              "      <td>NaN</td>\n",
              "      <td>NaN</td>\n",
              "      <td>NaN</td>\n",
              "      <td>NaN</td>\n",
              "      <td>NaN</td>\n",
              "      <td>NaN</td>\n",
              "      <td>NaN</td>\n",
              "      <td>NaN</td>\n",
              "      <td>NaN</td>\n",
              "      <td>89.850000</td>\n",
              "      <td>NaN</td>\n",
              "      <td>NaN</td>\n",
              "    </tr>\n",
              "    <tr>\n",
              "      <th>max</th>\n",
              "      <td>NaN</td>\n",
              "      <td>1.000000</td>\n",
              "      <td>NaN</td>\n",
              "      <td>NaN</td>\n",
              "      <td>72.000000</td>\n",
              "      <td>NaN</td>\n",
              "      <td>NaN</td>\n",
              "      <td>NaN</td>\n",
              "      <td>NaN</td>\n",
              "      <td>NaN</td>\n",
              "      <td>NaN</td>\n",
              "      <td>NaN</td>\n",
              "      <td>NaN</td>\n",
              "      <td>NaN</td>\n",
              "      <td>NaN</td>\n",
              "      <td>NaN</td>\n",
              "      <td>NaN</td>\n",
              "      <td>118.750000</td>\n",
              "      <td>NaN</td>\n",
              "      <td>NaN</td>\n",
              "    </tr>\n",
              "  </tbody>\n",
              "</table>\n",
              "</div>\n",
              "    <div class=\"colab-df-buttons\">\n",
              "\n",
              "  <div class=\"colab-df-container\">\n",
              "    <button class=\"colab-df-convert\" onclick=\"convertToInteractive('df-be62aecb-3f5f-48ce-9e19-5ae979b5e492')\"\n",
              "            title=\"Convert this dataframe to an interactive table.\"\n",
              "            style=\"display:none;\">\n",
              "\n",
              "  <svg xmlns=\"http://www.w3.org/2000/svg\" height=\"24px\" viewBox=\"0 -960 960 960\">\n",
              "    <path d=\"M120-120v-720h720v720H120Zm60-500h600v-160H180v160Zm220 220h160v-160H400v160Zm0 220h160v-160H400v160ZM180-400h160v-160H180v160Zm440 0h160v-160H620v160ZM180-180h160v-160H180v160Zm440 0h160v-160H620v160Z\"/>\n",
              "  </svg>\n",
              "    </button>\n",
              "\n",
              "  <style>\n",
              "    .colab-df-container {\n",
              "      display:flex;\n",
              "      gap: 12px;\n",
              "    }\n",
              "\n",
              "    .colab-df-convert {\n",
              "      background-color: #E8F0FE;\n",
              "      border: none;\n",
              "      border-radius: 50%;\n",
              "      cursor: pointer;\n",
              "      display: none;\n",
              "      fill: #1967D2;\n",
              "      height: 32px;\n",
              "      padding: 0 0 0 0;\n",
              "      width: 32px;\n",
              "    }\n",
              "\n",
              "    .colab-df-convert:hover {\n",
              "      background-color: #E2EBFA;\n",
              "      box-shadow: 0px 1px 2px rgba(60, 64, 67, 0.3), 0px 1px 3px 1px rgba(60, 64, 67, 0.15);\n",
              "      fill: #174EA6;\n",
              "    }\n",
              "\n",
              "    .colab-df-buttons div {\n",
              "      margin-bottom: 4px;\n",
              "    }\n",
              "\n",
              "    [theme=dark] .colab-df-convert {\n",
              "      background-color: #3B4455;\n",
              "      fill: #D2E3FC;\n",
              "    }\n",
              "\n",
              "    [theme=dark] .colab-df-convert:hover {\n",
              "      background-color: #434B5C;\n",
              "      box-shadow: 0px 1px 3px 1px rgba(0, 0, 0, 0.15);\n",
              "      filter: drop-shadow(0px 1px 2px rgba(0, 0, 0, 0.3));\n",
              "      fill: #FFFFFF;\n",
              "    }\n",
              "  </style>\n",
              "\n",
              "    <script>\n",
              "      const buttonEl =\n",
              "        document.querySelector('#df-be62aecb-3f5f-48ce-9e19-5ae979b5e492 button.colab-df-convert');\n",
              "      buttonEl.style.display =\n",
              "        google.colab.kernel.accessAllowed ? 'block' : 'none';\n",
              "\n",
              "      async function convertToInteractive(key) {\n",
              "        const element = document.querySelector('#df-be62aecb-3f5f-48ce-9e19-5ae979b5e492');\n",
              "        const dataTable =\n",
              "          await google.colab.kernel.invokeFunction('convertToInteractive',\n",
              "                                                    [key], {});\n",
              "        if (!dataTable) return;\n",
              "\n",
              "        const docLinkHtml = 'Like what you see? Visit the ' +\n",
              "          '<a target=\"_blank\" href=https://colab.research.google.com/notebooks/data_table.ipynb>data table notebook</a>'\n",
              "          + ' to learn more about interactive tables.';\n",
              "        element.innerHTML = '';\n",
              "        dataTable['output_type'] = 'display_data';\n",
              "        await google.colab.output.renderOutput(dataTable, element);\n",
              "        const docLink = document.createElement('div');\n",
              "        docLink.innerHTML = docLinkHtml;\n",
              "        element.appendChild(docLink);\n",
              "      }\n",
              "    </script>\n",
              "  </div>\n",
              "\n",
              "\n",
              "<div id=\"df-cae45a15-2309-4b70-be54-9fcade1bc6cc\">\n",
              "  <button class=\"colab-df-quickchart\" onclick=\"quickchart('df-cae45a15-2309-4b70-be54-9fcade1bc6cc')\"\n",
              "            title=\"Suggest charts\"\n",
              "            style=\"display:none;\">\n",
              "\n",
              "<svg xmlns=\"http://www.w3.org/2000/svg\" height=\"24px\"viewBox=\"0 0 24 24\"\n",
              "     width=\"24px\">\n",
              "    <g>\n",
              "        <path d=\"M19 3H5c-1.1 0-2 .9-2 2v14c0 1.1.9 2 2 2h14c1.1 0 2-.9 2-2V5c0-1.1-.9-2-2-2zM9 17H7v-7h2v7zm4 0h-2V7h2v10zm4 0h-2v-4h2v4z\"/>\n",
              "    </g>\n",
              "</svg>\n",
              "  </button>\n",
              "\n",
              "<style>\n",
              "  .colab-df-quickchart {\n",
              "      --bg-color: #E8F0FE;\n",
              "      --fill-color: #1967D2;\n",
              "      --hover-bg-color: #E2EBFA;\n",
              "      --hover-fill-color: #174EA6;\n",
              "      --disabled-fill-color: #AAA;\n",
              "      --disabled-bg-color: #DDD;\n",
              "  }\n",
              "\n",
              "  [theme=dark] .colab-df-quickchart {\n",
              "      --bg-color: #3B4455;\n",
              "      --fill-color: #D2E3FC;\n",
              "      --hover-bg-color: #434B5C;\n",
              "      --hover-fill-color: #FFFFFF;\n",
              "      --disabled-bg-color: #3B4455;\n",
              "      --disabled-fill-color: #666;\n",
              "  }\n",
              "\n",
              "  .colab-df-quickchart {\n",
              "    background-color: var(--bg-color);\n",
              "    border: none;\n",
              "    border-radius: 50%;\n",
              "    cursor: pointer;\n",
              "    display: none;\n",
              "    fill: var(--fill-color);\n",
              "    height: 32px;\n",
              "    padding: 0;\n",
              "    width: 32px;\n",
              "  }\n",
              "\n",
              "  .colab-df-quickchart:hover {\n",
              "    background-color: var(--hover-bg-color);\n",
              "    box-shadow: 0 1px 2px rgba(60, 64, 67, 0.3), 0 1px 3px 1px rgba(60, 64, 67, 0.15);\n",
              "    fill: var(--button-hover-fill-color);\n",
              "  }\n",
              "\n",
              "  .colab-df-quickchart-complete:disabled,\n",
              "  .colab-df-quickchart-complete:disabled:hover {\n",
              "    background-color: var(--disabled-bg-color);\n",
              "    fill: var(--disabled-fill-color);\n",
              "    box-shadow: none;\n",
              "  }\n",
              "\n",
              "  .colab-df-spinner {\n",
              "    border: 2px solid var(--fill-color);\n",
              "    border-color: transparent;\n",
              "    border-bottom-color: var(--fill-color);\n",
              "    animation:\n",
              "      spin 1s steps(1) infinite;\n",
              "  }\n",
              "\n",
              "  @keyframes spin {\n",
              "    0% {\n",
              "      border-color: transparent;\n",
              "      border-bottom-color: var(--fill-color);\n",
              "      border-left-color: var(--fill-color);\n",
              "    }\n",
              "    20% {\n",
              "      border-color: transparent;\n",
              "      border-left-color: var(--fill-color);\n",
              "      border-top-color: var(--fill-color);\n",
              "    }\n",
              "    30% {\n",
              "      border-color: transparent;\n",
              "      border-left-color: var(--fill-color);\n",
              "      border-top-color: var(--fill-color);\n",
              "      border-right-color: var(--fill-color);\n",
              "    }\n",
              "    40% {\n",
              "      border-color: transparent;\n",
              "      border-right-color: var(--fill-color);\n",
              "      border-top-color: var(--fill-color);\n",
              "    }\n",
              "    60% {\n",
              "      border-color: transparent;\n",
              "      border-right-color: var(--fill-color);\n",
              "    }\n",
              "    80% {\n",
              "      border-color: transparent;\n",
              "      border-right-color: var(--fill-color);\n",
              "      border-bottom-color: var(--fill-color);\n",
              "    }\n",
              "    90% {\n",
              "      border-color: transparent;\n",
              "      border-bottom-color: var(--fill-color);\n",
              "    }\n",
              "  }\n",
              "</style>\n",
              "\n",
              "  <script>\n",
              "    async function quickchart(key) {\n",
              "      const quickchartButtonEl =\n",
              "        document.querySelector('#' + key + ' button');\n",
              "      quickchartButtonEl.disabled = true;  // To prevent multiple clicks.\n",
              "      quickchartButtonEl.classList.add('colab-df-spinner');\n",
              "      try {\n",
              "        const charts = await google.colab.kernel.invokeFunction(\n",
              "            'suggestCharts', [key], {});\n",
              "      } catch (error) {\n",
              "        console.error('Error during call to suggestCharts:', error);\n",
              "      }\n",
              "      quickchartButtonEl.classList.remove('colab-df-spinner');\n",
              "      quickchartButtonEl.classList.add('colab-df-quickchart-complete');\n",
              "    }\n",
              "    (() => {\n",
              "      let quickchartButtonEl =\n",
              "        document.querySelector('#df-cae45a15-2309-4b70-be54-9fcade1bc6cc button');\n",
              "      quickchartButtonEl.style.display =\n",
              "        google.colab.kernel.accessAllowed ? 'block' : 'none';\n",
              "    })();\n",
              "  </script>\n",
              "</div>\n",
              "    </div>\n",
              "  </div>\n"
            ],
            "application/vnd.google.colaboratory.intrinsic+json": {
              "type": "dataframe",
              "summary": "{\n  \"name\": \"data\",\n  \"rows\": 11,\n  \"fields\": [\n    {\n      \"column\": \"gender\",\n      \"properties\": {\n        \"dtype\": \"category\",\n        \"num_unique_values\": 4,\n        \"samples\": [\n          2,\n          \"3555\",\n          \"7043\"\n        ],\n        \"semantic_type\": \"\",\n        \"description\": \"\"\n      }\n    },\n    {\n      \"column\": \"SeniorCitizen\",\n      \"properties\": {\n        \"dtype\": \"number\",\n        \"std\": 2489.9992387084,\n        \"min\": 0.0,\n        \"max\": 7043.0,\n        \"num_unique_values\": 5,\n        \"samples\": [\n          0.1621468124378816,\n          1.0,\n          0.3686116056100131\n        ],\n        \"semantic_type\": \"\",\n        \"description\": \"\"\n      }\n    },\n    {\n      \"column\": \"Partner\",\n      \"properties\": {\n        \"dtype\": \"category\",\n        \"num_unique_values\": 4,\n        \"samples\": [\n          2,\n          \"3641\",\n          \"7043\"\n        ],\n        \"semantic_type\": \"\",\n        \"description\": \"\"\n      }\n    },\n    {\n      \"column\": \"Dependents\",\n      \"properties\": {\n        \"dtype\": \"category\",\n        \"num_unique_values\": 4,\n        \"samples\": [\n          2,\n          \"4933\",\n          \"7043\"\n        ],\n        \"semantic_type\": \"\",\n        \"description\": \"\"\n      }\n    },\n    {\n      \"column\": \"tenure\",\n      \"properties\": {\n        \"dtype\": \"number\",\n        \"std\": 2478.9752758409018,\n        \"min\": 0.0,\n        \"max\": 7043.0,\n        \"num_unique_values\": 8,\n        \"samples\": [\n          32.37114865824223,\n          29.0,\n          7043.0\n        ],\n        \"semantic_type\": \"\",\n        \"description\": \"\"\n      }\n    },\n    {\n      \"column\": \"PhoneService\",\n      \"properties\": {\n        \"dtype\": \"category\",\n        \"num_unique_values\": 4,\n        \"samples\": [\n          2,\n          \"6361\",\n          \"7043\"\n        ],\n        \"semantic_type\": \"\",\n        \"description\": \"\"\n      }\n    },\n    {\n      \"column\": \"MultipleLines\",\n      \"properties\": {\n        \"dtype\": \"category\",\n        \"num_unique_values\": 4,\n        \"samples\": [\n          3,\n          \"3390\",\n          \"7043\"\n        ],\n        \"semantic_type\": \"\",\n        \"description\": \"\"\n      }\n    },\n    {\n      \"column\": \"InternetService\",\n      \"properties\": {\n        \"dtype\": \"category\",\n        \"num_unique_values\": 4,\n        \"samples\": [\n          3,\n          \"3096\",\n          \"7043\"\n        ],\n        \"semantic_type\": \"\",\n        \"description\": \"\"\n      }\n    },\n    {\n      \"column\": \"OnlineSecurity\",\n      \"properties\": {\n        \"dtype\": \"category\",\n        \"num_unique_values\": 4,\n        \"samples\": [\n          3,\n          \"3498\",\n          \"7043\"\n        ],\n        \"semantic_type\": \"\",\n        \"description\": \"\"\n      }\n    },\n    {\n      \"column\": \"OnlineBackup\",\n      \"properties\": {\n        \"dtype\": \"category\",\n        \"num_unique_values\": 4,\n        \"samples\": [\n          3,\n          \"3088\",\n          \"7043\"\n        ],\n        \"semantic_type\": \"\",\n        \"description\": \"\"\n      }\n    },\n    {\n      \"column\": \"DeviceProtection\",\n      \"properties\": {\n        \"dtype\": \"category\",\n        \"num_unique_values\": 4,\n        \"samples\": [\n          3,\n          \"3095\",\n          \"7043\"\n        ],\n        \"semantic_type\": \"\",\n        \"description\": \"\"\n      }\n    },\n    {\n      \"column\": \"TechSupport\",\n      \"properties\": {\n        \"dtype\": \"category\",\n        \"num_unique_values\": 4,\n        \"samples\": [\n          3,\n          \"3473\",\n          \"7043\"\n        ],\n        \"semantic_type\": \"\",\n        \"description\": \"\"\n      }\n    },\n    {\n      \"column\": \"StreamingTV\",\n      \"properties\": {\n        \"dtype\": \"category\",\n        \"num_unique_values\": 4,\n        \"samples\": [\n          3,\n          \"2810\",\n          \"7043\"\n        ],\n        \"semantic_type\": \"\",\n        \"description\": \"\"\n      }\n    },\n    {\n      \"column\": \"StreamingMovies\",\n      \"properties\": {\n        \"dtype\": \"category\",\n        \"num_unique_values\": 4,\n        \"samples\": [\n          3,\n          \"2785\",\n          \"7043\"\n        ],\n        \"semantic_type\": \"\",\n        \"description\": \"\"\n      }\n    },\n    {\n      \"column\": \"Contract\",\n      \"properties\": {\n        \"dtype\": \"category\",\n        \"num_unique_values\": 4,\n        \"samples\": [\n          3,\n          \"3875\",\n          \"7043\"\n        ],\n        \"semantic_type\": \"\",\n        \"description\": \"\"\n      }\n    },\n    {\n      \"column\": \"PaperlessBilling\",\n      \"properties\": {\n        \"dtype\": \"category\",\n        \"num_unique_values\": 4,\n        \"samples\": [\n          2,\n          \"4171\",\n          \"7043\"\n        ],\n        \"semantic_type\": \"\",\n        \"description\": \"\"\n      }\n    },\n    {\n      \"column\": \"PaymentMethod\",\n      \"properties\": {\n        \"dtype\": \"category\",\n        \"num_unique_values\": 4,\n        \"samples\": [\n          4,\n          \"2365\",\n          \"7043\"\n        ],\n        \"semantic_type\": \"\",\n        \"description\": \"\"\n      }\n    },\n    {\n      \"column\": \"MonthlyCharges\",\n      \"properties\": {\n        \"dtype\": \"number\",\n        \"std\": 2468.7047672837775,\n        \"min\": 18.25,\n        \"max\": 7043.0,\n        \"num_unique_values\": 8,\n        \"samples\": [\n          64.76169246059918,\n          70.35,\n          7043.0\n        ],\n        \"semantic_type\": \"\",\n        \"description\": \"\"\n      }\n    },\n    {\n      \"column\": \"TotalCharges\",\n      \"properties\": {\n        \"dtype\": \"category\",\n        \"num_unique_values\": 4,\n        \"samples\": [\n          6531,\n          \"11\",\n          \"7043\"\n        ],\n        \"semantic_type\": \"\",\n        \"description\": \"\"\n      }\n    },\n    {\n      \"column\": \"Churn\",\n      \"properties\": {\n        \"dtype\": \"category\",\n        \"num_unique_values\": 4,\n        \"samples\": [\n          2,\n          \"5174\",\n          \"7043\"\n        ],\n        \"semantic_type\": \"\",\n        \"description\": \"\"\n      }\n    }\n  ]\n}"
            }
          },
          "metadata": {},
          "execution_count": 5
        }
      ]
    },
    {
      "cell_type": "code",
      "source": [
        "data.shape"
      ],
      "metadata": {
        "colab": {
          "base_uri": "https://localhost:8080/"
        },
        "id": "HxtzksgqAL9i",
        "outputId": "17e9d171-dcd8-4a21-8432-c572966006bb"
      },
      "execution_count": null,
      "outputs": [
        {
          "output_type": "execute_result",
          "data": {
            "text/plain": [
              "(7043, 20)"
            ]
          },
          "metadata": {},
          "execution_count": 6
        }
      ]
    },
    {
      "cell_type": "code",
      "source": [
        "for col in data.select_dtypes(include=\"object\").columns:\n",
        "  print(colored(f\"{col}\", 'green', attrs=['bold']), f\"feature has\", colored(f\"{data[col].nunique()}\", 'green', attrs=['bold']), f\"unique values.\")"
      ],
      "metadata": {
        "colab": {
          "base_uri": "https://localhost:8080/"
        },
        "id": "NlEpyyjGAcnf",
        "outputId": "05f7a291-bfff-4a59-a41f-7964e4edbb1c"
      },
      "execution_count": null,
      "outputs": [
        {
          "output_type": "stream",
          "name": "stdout",
          "text": [
            "gender feature has 2 unique values.\n",
            "Partner feature has 2 unique values.\n",
            "Dependents feature has 2 unique values.\n",
            "PhoneService feature has 2 unique values.\n",
            "MultipleLines feature has 3 unique values.\n",
            "InternetService feature has 3 unique values.\n",
            "OnlineSecurity feature has 3 unique values.\n",
            "OnlineBackup feature has 3 unique values.\n",
            "DeviceProtection feature has 3 unique values.\n",
            "TechSupport feature has 3 unique values.\n",
            "StreamingTV feature has 3 unique values.\n",
            "StreamingMovies feature has 3 unique values.\n",
            "Contract feature has 3 unique values.\n",
            "PaperlessBilling feature has 2 unique values.\n",
            "PaymentMethod feature has 4 unique values.\n",
            "TotalCharges feature has 6531 unique values.\n",
            "Churn feature has 2 unique values.\n"
          ]
        }
      ]
    },
    {
      "cell_type": "code",
      "source": [
        "sns.countplot(x='Churn',data=data,hue='Churn')\n",
        "plt.title(\"Customer Churn Distribution\")\n",
        "plt.show()"
      ],
      "metadata": {
        "colab": {
          "base_uri": "https://localhost:8080/",
          "height": 472
        },
        "id": "BozhursbAfvI",
        "outputId": "33353ff7-efa5-47c3-b23f-39104bc2a0cb"
      },
      "execution_count": null,
      "outputs": [
        {
          "output_type": "display_data",
          "data": {
            "text/plain": [
              "<Figure size 640x480 with 1 Axes>"
            ],
            "image/png": "[encoded data removed]"
          },
          "metadata": {}
        }
      ]
    },
    {
      "cell_type": "code",
      "source": [
        "np.sum(data['Churn']==1)"
      ],
      "metadata": {
        "colab": {
          "base_uri": "https://localhost:8080/"
        },
        "id": "tZFM50OClLJe",
        "outputId": "a1b36232-f747-4cd6-c43f-f7641fc3a53e"
      },
      "execution_count": null,
      "outputs": [
        {
          "output_type": "execute_result",
          "data": {
            "text/plain": [
              "0"
            ]
          },
          "metadata": {},
          "execution_count": 9
        }
      ]
    },
    {
      "cell_type": "code",
      "source": [
        "data.isnull().sum()"
      ],
      "metadata": {
        "colab": {
          "base_uri": "https://localhost:8080/"
        },
        "id": "gj2Yo4RdGvqi",
        "outputId": "74f1c069-97bc-4030-8077-6684c6716a9b"
      },
      "execution_count": null,
      "outputs": [
        {
          "output_type": "execute_result",
          "data": {
            "text/plain": [
              "gender              0\n",
              "SeniorCitizen       0\n",
              "Partner             0\n",
              "Dependents          0\n",
              "tenure              0\n",
              "PhoneService        0\n",
              "MultipleLines       0\n",
              "InternetService     0\n",
              "OnlineSecurity      0\n",
              "OnlineBackup        0\n",
              "DeviceProtection    0\n",
              "TechSupport         0\n",
              "StreamingTV         0\n",
              "StreamingMovies     0\n",
              "Contract            0\n",
              "PaperlessBilling    0\n",
              "PaymentMethod       0\n",
              "MonthlyCharges      0\n",
              "TotalCharges        0\n",
              "Churn               0\n",
              "dtype: int64"
            ]
          },
          "metadata": {},
          "execution_count": 10
        }
      ]
    },
    {
      "cell_type": "code",
      "source": [
        "fig = px.histogram(data, x=\"Churn\", color=\"Contract\", barmode=\"group\", title=\"<b>Customer contract distribution<b>\")\n",
        "fig.update_layout(width=700, height=500, bargap=0.1)\n",
        "fig.show()"
      ],
      "metadata": {
        "colab": {
          "base_uri": "https://localhost:8080/",
          "height": 517
        },
        "id": "s56NCIj0G7wf",
        "outputId": "38277689-b45f-444a-bd60-92ee0348e39a"
      },
      "execution_count": null,
      "outputs": [
        {
          "output_type": "display_data",
          "data": {
            "text/html": [
              "<html>\n",
              "<head><meta charset=\"utf-8\" /></head>\n",
              "<body>\n",
              "    <div>            <script src=\"https://cdnjs.cloudflare.com/ajax/libs/mathjax/2.7.5/MathJax.js?config=TeX-AMS-MML_SVG\"></script><script type=\"text/javascript\">if (window.MathJax && window.MathJax.Hub && window.MathJax.Hub.Config) {window.MathJax.Hub.Config({SVG: {font: \"STIX-Web\"}});}</script>                <script type=\"text/javascript\">window.PlotlyConfig = {MathJaxConfig: 'local'};</script>\n",
              "        <script charset=\"utf-8\" src=\"https://cdn.plot.ly/plotly-2.24.1.min.js\"></script>                <div id=\"b1dc1961-aa10-4110-8729-af5f25a37223\" class=\"plotly-graph-div\" style=\"height:500px; width:700px;\"></div>            <script type=\"text/javascript\">                                    window.PLOTLYENV=window.PLOTLYENV || {};                                    if (document.getElementById(\"b1dc1961-aa10-4110-8729-af5f25a37223\")) {                    Plotly.newPlot(                        \"b1dc1961-aa10-4110-8729-af5f25a37223\",                        [{\"alignmentgroup\":\"True\",\"bingroup\":\"x\",\"hovertemplate\":\"Contract=Month-to-month\\u003cbr\\u003eChurn=%{x}\\u003cbr\\u003ecount=%{y}\\u003cextra\\u003e\\u003c\\u002fextra\\u003e\",\"legendgroup\":\"Month-to-month\",\"marker\":{\"color\":\"#636efa\",\"pattern\":{\"shape\":\"\"}},\"name\":\"Month-to-month\",\"offsetgroup\":\"Month-to-month\",\"orientation\":\"v\",\"showlegend\":true,\"x\":[\"No\",\"Yes\",\"Yes\",\"Yes\",\"No\",\"No\",\"Yes\",\"No\",\"Yes\",\"No\",\"Yes\",\"No\",\"Yes\",\"Yes\",\"No\",\"No\",\"Yes\",\"Yes\",\"Yes\",\"No\",\"No\",\"No\",\"Yes\",\"No\",\"Yes\",\"Yes\",\"No\",\"No\",\"No\",\"Yes\",\"No\",\"Yes\",\"No\",\"Yes\",\"Yes\",\"No\",\"No\",\"Yes\",\"No\",\"No\",\"No\",\"No\",\"No\",\"No\",\"Yes\",\"No\",\"Yes\",\"No\",\"No\",\"No\",\"No\",\"No\",\"No\",\"Yes\",\"Yes\",\"Yes\",\"No\",\"No\",\"No\",\"Yes\",\"No\",\"Yes\",\"No\",\"Yes\",\"No\",\"No\",\"Yes\",\"No\",\"No\",\"Yes\",\"No\",\"No\",\"Yes\",\"Yes\",\"Yes\",\"No\",\"Yes\",\"Yes\",\"Yes\",\"No\",\"No\",\"Yes\",\"No\",\"No\",\"No\",\"No\",\"Yes\",\"No\",\"Yes\",\"Yes\",\"No\",\"Yes\",\"No\",\"Yes\",\"Yes\",\"No\",\"Yes\",\"No\",\"Yes\",\"Yes\",\"Yes\",\"No\",\"No\",\"No\",\"Yes\",\"No\",\"No\",\"No\",\"No\",\"No\",\"No\",\"Yes\",\"Yes\",\"Yes\",\"No\",\"No\",\"No\",\"No\",\"Yes\",\"Yes\",\"Yes\",\"No\",\"No\",\"Yes\",\"No\",\"Yes\",\"No\",\"Yes\",\"No\",\"No\",\"No\",\"Yes\",\"Yes\",\"Yes\",\"Yes\",\"No\",\"Yes\",\"No\",\"Yes\",\"Yes\",\"No\",\"No\",\"Yes\",\"Yes\",\"No\",\"Yes\",\"Yes\",\"Yes\",\"No\",\"No\",\"No\",\"No\",\"No\",\"No\",\"No\",\"Yes\",\"No\",\"Yes\",\"Yes\",\"Yes\",\"Yes\",\"No\",\"No\",\"No\",\"No\",\"No\",\"Yes\",\"Yes\",\"No\",\"No\",\"Yes\",\"No\",\"No\",\"No\",\"No\",\"Yes\",\"Yes\",\"No\",\"No\",\"No\",\"No\",\"Yes\",\"No\",\"No\",\"Yes\",\"Yes\",\"No\",\"Yes\",\"No\",\"No\",\"No\",\"Yes\",\"No\",\"No\",\"Yes\",\"Yes\",\"Yes\",\"No\",\"Yes\",\"No\",\"No\",\"Yes\",\"No\",\"No\",\"Yes\",\"No\",\"No\",\"Yes\",\"Yes\",\"Yes\",\"Yes\",\"Yes\",\"No\",\"No\",\"No\",\"No\",\"No\",\"No\",\"No\",\"No\",\"Yes\",\"No\",\"Yes\",\"No\",\"Yes\",\"Yes\",\"Yes\",\"No\",\"No\",\"No\",\"No\",\"Yes\",\"Yes\",\"No\",\"No\",\"No\",\"No\",\"No\",\"No\",\"Yes\",\"No\",\"Yes\",\"No\",\"No\",\"No\",\"No\",\"No\",\"No\",\"No\",\"Yes\",\"Yes\",\"No\",\"No\",\"No\",\"Yes\",\"No\",\"No\",\"No\",\"No\",\"No\",\"Yes\",\"Yes\",\"Yes\",\"Yes\",\"No\",\"No\",\"Yes\",\"Yes\",\"No\",\"No\",\"Yes\",\"Yes\",\"Yes\",\"No\",\"Yes\",\"No\",\"Yes\",\"No\",\"Yes\",\"No\",\"No\",\"Yes\",\"Yes\",\"No\",\"Yes\",\"No\",\"Yes\",\"Yes\",\"No\",\"No\",\"Yes\",\"No\",\"No\",\"Yes\",\"No\",\"Yes\",\"No\",\"No\",\"No\",\"Yes\",\"Yes\",\"No\",\"Yes\",\"No\",\"No\",\"No\",\"No\",\"Yes\",\"Yes\",\"Yes\",\"No\",\"Yes\",\"No\",\"No\",\"No\",\"No\",\"No\",\"No\",\"Yes\",\"No\",\"No\",\"No\",\"No\",\"Yes\",\"Yes\",\"Yes\",\"No\",\"No\",\"Yes\",\"No\",\"No\",\"Yes\",\"No\",\"No\",\"Yes\",\"Yes\",\"Yes\",\"No\",\"No\",\"No\",\"No\",\"No\",\"Yes\",\"No\",\"No\",\"Yes\",\"Yes\",\"No\",\"Yes\",\"Yes\",\"Yes\",\"Yes\",\"No\",\"Yes\",\"Yes\",\"Yes\",\"No\",\"Yes\",\"Yes\",\"No\",\"Yes\",\"No\",\"No\",\"Yes\",\"No\",\"No\",\"No\",\"Yes\",\"No\",\"Yes\",\"Yes\",\"No\",\"Yes\",\"Yes\",\"No\",\"No\",\"Yes\",\"No\",\"No\",\"No\",\"Yes\",\"No\",\"No\",\"Yes\",\"No\",\"Yes\",\"No\",\"No\",\"No\",\"No\",\"Yes\",\"No\",\"No\",\"Yes\",\"No\",\"No\",\"No\",\"No\",\"No\",\"No\",\"Yes\",\"Yes\",\"Yes\",\"No\",\"No\",\"Yes\",\"Yes\",\"No\",\"No\",\"No\",\"No\",\"No\",\"No\",\"Yes\",\"No\",\"No\",\"No\",\"No\",\"No\",\"Yes\",\"No\",\"Yes\",\"No\",\"Yes\",\"Yes\",\"No\",\"No\",\"No\",\"No\",\"Yes\",\"Yes\",\"Yes\",\"No\",\"Yes\",\"Yes\",\"No\",\"No\",\"Yes\",\"No\",\"No\",\"No\",\"No\",\"No\",\"Yes\",\"Yes\",\"No\",\"Yes\",\"Yes\",\"No\",\"No\",\"Yes\",\"Yes\",\"No\",\"No\",\"Yes\",\"Yes\",\"No\",\"No\",\"No\",\"Yes\",\"No\",\"Yes\",\"No\",\"No\",\"Yes\",\"No\",\"No\",\"Yes\",\"Yes\",\"Yes\",\"Yes\",\"Yes\",\"No\",\"Yes\",\"No\",\"Yes\",\"No\",\"Yes\",\"Yes\",\"No\",\"No\",\"Yes\",\"No\",\"Yes\",\"No\",\"Yes\",\"No\",\"Yes\",\"No\",\"No\",\"Yes\",\"Yes\",\"Yes\",\"No\",\"No\",\"Yes\",\"No\",\"Yes\",\"No\",\"No\",\"No\",\"No\",\"No\",\"No\",\"Yes\",\"Yes\",\"No\",\"Yes\",\"No\",\"Yes\",\"No\",\"No\",\"No\",\"No\",\"Yes\",\"No\",\"No\",\"Yes\",\"Yes\",\"No\",\"No\",\"No\",\"No\",\"Yes\",\"No\",\"No\",\"No\",\"No\",\"No\",\"Yes\",\"Yes\",\"Yes\",\"No\",\"Yes\",\"Yes\",\"No\",\"Yes\",\"Yes\",\"No\",\"No\",\"Yes\",\"Yes\",\"No\",\"No\",\"No\",\"Yes\",\"Yes\",\"Yes\",\"No\",\"Yes\",\"Yes\",\"No\",\"No\",\"Yes\",\"Yes\",\"Yes\",\"No\",\"No\",\"No\",\"Yes\",\"No\",\"No\",\"No\",\"No\",\"No\",\"No\",\"Yes\",\"Yes\",\"Yes\",\"No\",\"No\",\"Yes\",\"No\",\"Yes\",\"Yes\",\"No\",\"Yes\",\"No\",\"No\",\"Yes\",\"Yes\",\"No\",\"Yes\",\"Yes\",\"Yes\",\"Yes\",\"Yes\",\"Yes\",\"No\",\"No\",\"Yes\",\"No\",\"Yes\",\"Yes\",\"Yes\",\"Yes\",\"No\",\"No\",\"Yes\",\"No\",\"No\",\"Yes\",\"Yes\",\"Yes\",\"No\",\"Yes\",\"No\",\"No\",\"No\",\"No\",\"No\",\"No\",\"Yes\",\"No\",\"No\",\"Yes\",\"Yes\",\"No\",\"No\",\"No\",\"No\",\"Yes\",\"Yes\",\"No\",\"No\",\"Yes\",\"Yes\",\"No\",\"No\",\"No\",\"No\",\"No\",\"No\",\"Yes\",\"No\",\"No\",\"Yes\",\"Yes\",\"No\",\"No\",\"No\",\"No\",\"Yes\",\"No\",\"Yes\",\"Yes\",\"No\",\"No\",\"Yes\",\"No\",\"Yes\",\"Yes\",\"No\",\"Yes\",\"No\",\"No\",\"Yes\",\"No\",\"Yes\",\"No\",\"No\",\"No\",\"No\",\"No\",\"No\",\"Yes\",\"No\",\"No\",\"Yes\",\"Yes\",\"Yes\",\"No\",\"Yes\",\"Yes\",\"Yes\",\"No\",\"No\",\"No\",\"Yes\",\"Yes\",\"Yes\",\"No\",\"No\",\"No\",\"Yes\",\"Yes\",\"Yes\",\"No\",\"No\",\"No\",\"No\",\"Yes\",\"Yes\",\"No\",\"No\",\"Yes\",\"Yes\",\"Yes\",\"No\",\"Yes\",\"Yes\",\"No\",\"No\",\"No\",\"Yes\",\"No\",\"No\",\"No\",\"No\",\"Yes\",\"No\",\"Yes\",\"Yes\",\"No\",\"No\",\"Yes\",\"Yes\",\"No\",\"Yes\",\"Yes\",\"Yes\",\"Yes\",\"No\",\"No\",\"No\",\"Yes\",\"No\",\"Yes\",\"Yes\",\"No\",\"No\",\"Yes\",\"Yes\",\"No\",\"Yes\",\"Yes\",\"Yes\",\"No\",\"Yes\",\"Yes\",\"No\",\"No\",\"Yes\",\"No\",\"No\",\"No\",\"No\",\"Yes\",\"Yes\",\"Yes\",\"Yes\",\"Yes\",\"Yes\",\"No\",\"No\",\"Yes\",\"No\",\"No\",\"No\",\"No\",\"Yes\",\"Yes\",\"No\",\"Yes\",\"No\",\"No\",\"No\",\"No\",\"No\",\"Yes\",\"Yes\",\"No\",\"Yes\",\"No\",\"Yes\",\"No\",\"Yes\",\"No\",\"No\",\"No\",\"No\",\"Yes\",\"Yes\",\"No\",\"No\",\"Yes\",\"No\",\"No\",\"Yes\",\"No\",\"Yes\",\"No\",\"Yes\",\"No\",\"No\",\"No\",\"Yes\",\"No\",\"No\",\"No\",\"No\",\"No\",\"No\",\"No\",\"Yes\",\"Yes\",\"Yes\",\"No\",\"Yes\",\"No\",\"No\",\"No\",\"Yes\",\"No\",\"No\",\"Yes\",\"Yes\",\"No\",\"No\",\"Yes\",\"No\",\"Yes\",\"Yes\",\"No\",\"No\",\"Yes\",\"No\",\"No\",\"No\",\"No\",\"Yes\",\"No\",\"No\",\"No\",\"Yes\",\"No\",\"Yes\",\"No\",\"Yes\",\"No\",\"No\",\"Yes\",\"No\",\"Yes\",\"No\",\"No\",\"No\",\"No\",\"No\",\"Yes\",\"No\",\"No\",\"Yes\",\"No\",\"Yes\",\"No\",\"No\",\"Yes\",\"No\",\"No\",\"Yes\",\"No\",\"No\",\"No\",\"Yes\",\"No\",\"Yes\",\"No\",\"Yes\",\"No\",\"No\",\"Yes\",\"No\",\"No\",\"No\",\"No\",\"No\",\"Yes\",\"Yes\",\"Yes\",\"Yes\",\"No\",\"No\",\"No\",\"No\",\"Yes\",\"No\",\"Yes\",\"No\",\"Yes\",\"Yes\",\"Yes\",\"Yes\",\"No\",\"No\",\"Yes\",\"No\",\"Yes\",\"Yes\",\"No\",\"No\",\"No\",\"No\",\"Yes\",\"No\",\"Yes\",\"No\",\"No\",\"Yes\",\"Yes\",\"Yes\",\"No\",\"No\",\"Yes\",\"Yes\",\"No\",\"Yes\",\"No\",\"No\",\"Yes\",\"No\",\"No\",\"Yes\",\"Yes\",\"Yes\",\"No\",\"No\",\"No\",\"Yes\",\"Yes\",\"Yes\",\"No\",\"No\",\"No\",\"No\",\"Yes\",\"No\",\"No\",\"Yes\",\"Yes\",\"Yes\",\"No\",\"Yes\",\"No\",\"No\",\"Yes\",\"No\",\"No\",\"No\",\"No\",\"No\",\"Yes\",\"No\",\"No\",\"No\",\"No\",\"Yes\",\"Yes\",\"No\",\"Yes\",\"Yes\",\"No\",\"Yes\",\"No\",\"No\",\"Yes\",\"Yes\",\"No\",\"Yes\",\"No\",\"No\",\"No\",\"No\",\"No\",\"Yes\",\"Yes\",\"Yes\",\"No\",\"No\",\"No\",\"No\",\"Yes\",\"Yes\",\"Yes\",\"No\",\"Yes\",\"No\",\"Yes\",\"No\",\"Yes\",\"No\",\"No\",\"No\",\"Yes\",\"Yes\",\"Yes\",\"No\",\"No\",\"No\",\"No\",\"No\",\"Yes\",\"Yes\",\"Yes\",\"No\",\"No\",\"No\",\"No\",\"No\",\"Yes\",\"No\",\"Yes\",\"No\",\"Yes\",\"Yes\",\"No\",\"No\",\"Yes\",\"No\",\"Yes\",\"Yes\",\"Yes\",\"Yes\",\"Yes\",\"Yes\",\"Yes\",\"Yes\",\"No\",\"Yes\",\"No\",\"No\",\"No\",\"No\",\"Yes\",\"Yes\",\"No\",\"No\",\"Yes\",\"No\",\"Yes\",\"No\",\"Yes\",\"Yes\",\"No\",\"No\",\"No\",\"No\",\"Yes\",\"Yes\",\"No\",\"No\",\"Yes\",\"No\",\"No\",\"No\",\"No\",\"Yes\",\"No\",\"Yes\",\"No\",\"No\",\"No\",\"Yes\",\"Yes\",\"Yes\",\"No\",\"No\",\"No\",\"Yes\",\"No\",\"No\",\"No\",\"No\",\"Yes\",\"No\",\"Yes\",\"Yes\",\"No\",\"No\",\"Yes\",\"Yes\",\"No\",\"No\",\"No\",\"No\",\"No\",\"No\",\"Yes\",\"No\",\"Yes\",\"No\",\"Yes\",\"Yes\",\"No\",\"No\",\"Yes\",\"No\",\"Yes\",\"Yes\",\"Yes\",\"Yes\",\"No\",\"Yes\",\"Yes\",\"Yes\",\"Yes\",\"No\",\"No\",\"Yes\",\"Yes\",\"Yes\",\"Yes\",\"Yes\",\"No\",\"Yes\",\"No\",\"No\",\"Yes\",\"Yes\",\"No\",\"Yes\",\"No\",\"No\",\"Yes\",\"Yes\",\"No\",\"No\",\"No\",\"Yes\",\"Yes\",\"No\",\"No\",\"No\",\"No\",\"Yes\",\"No\",\"No\",\"Yes\",\"Yes\",\"No\",\"No\",\"Yes\",\"No\",\"Yes\",\"No\",\"No\",\"Yes\",\"Yes\",\"No\",\"Yes\",\"No\",\"Yes\",\"No\",\"No\",\"No\",\"Yes\",\"Yes\",\"Yes\",\"Yes\",\"Yes\",\"No\",\"No\",\"No\",\"Yes\",\"Yes\",\"No\",\"No\",\"No\",\"No\",\"No\",\"Yes\",\"Yes\",\"No\",\"No\",\"No\",\"No\",\"Yes\",\"No\",\"No\",\"No\",\"Yes\",\"No\",\"No\",\"Yes\",\"Yes\",\"No\",\"No\",\"No\",\"No\",\"Yes\",\"No\",\"No\",\"No\",\"No\",\"No\",\"No\",\"No\",\"No\",\"Yes\",\"Yes\",\"Yes\",\"No\",\"Yes\",\"Yes\",\"Yes\",\"No\",\"No\",\"No\",\"Yes\",\"No\",\"Yes\",\"Yes\",\"No\",\"Yes\",\"Yes\",\"No\",\"No\",\"Yes\",\"Yes\",\"Yes\",\"Yes\",\"No\",\"Yes\",\"No\",\"No\",\"No\",\"Yes\",\"Yes\",\"No\",\"Yes\",\"No\",\"No\",\"No\",\"No\",\"Yes\",\"No\",\"No\",\"No\",\"No\",\"Yes\",\"No\",\"Yes\",\"Yes\",\"Yes\",\"Yes\",\"Yes\",\"No\",\"No\",\"Yes\",\"Yes\",\"No\",\"Yes\",\"No\",\"No\",\"Yes\",\"Yes\",\"Yes\",\"No\",\"Yes\",\"No\",\"No\",\"Yes\",\"Yes\",\"Yes\",\"Yes\",\"No\",\"No\",\"Yes\",\"No\",\"No\",\"No\",\"No\",\"No\",\"No\",\"Yes\",\"Yes\",\"No\",\"No\",\"No\",\"No\",\"No\",\"No\",\"No\",\"Yes\",\"Yes\",\"No\",\"No\",\"No\",\"No\",\"No\",\"No\",\"No\",\"No\",\"No\",\"Yes\",\"No\",\"No\",\"No\",\"No\",\"Yes\",\"Yes\",\"No\",\"No\",\"No\",\"Yes\",\"Yes\",\"No\",\"No\",\"No\",\"No\",\"No\",\"No\",\"No\",\"No\",\"No\",\"Yes\",\"No\",\"No\",\"No\",\"No\",\"No\",\"Yes\",\"Yes\",\"Yes\",\"No\",\"Yes\",\"No\",\"No\",\"No\",\"No\",\"No\",\"No\",\"No\",\"Yes\",\"Yes\",\"Yes\",\"No\",\"No\",\"No\",\"No\",\"Yes\",\"No\",\"No\",\"Yes\",\"Yes\",\"No\",\"Yes\",\"No\",\"Yes\",\"No\",\"Yes\",\"No\",\"Yes\",\"No\",\"No\",\"No\",\"Yes\",\"Yes\",\"Yes\",\"Yes\",\"No\",\"No\",\"No\",\"No\",\"Yes\",\"No\",\"Yes\",\"No\",\"Yes\",\"No\",\"Yes\",\"No\",\"Yes\",\"No\",\"Yes\",\"No\",\"No\",\"Yes\",\"Yes\",\"Yes\",\"Yes\",\"Yes\",\"No\",\"No\",\"Yes\",\"Yes\",\"Yes\",\"Yes\",\"No\",\"Yes\",\"No\",\"No\",\"No\",\"No\",\"No\",\"No\",\"No\",\"No\",\"No\",\"Yes\",\"Yes\",\"Yes\",\"Yes\",\"Yes\",\"Yes\",\"No\",\"No\",\"Yes\",\"Yes\",\"No\",\"No\",\"No\",\"No\",\"No\",\"No\",\"Yes\",\"No\",\"No\",\"No\",\"No\",\"No\",\"No\",\"No\",\"Yes\",\"Yes\",\"Yes\",\"Yes\",\"Yes\",\"No\",\"Yes\",\"Yes\",\"Yes\",\"Yes\",\"No\",\"No\",\"No\",\"No\",\"No\",\"Yes\",\"Yes\",\"Yes\",\"Yes\",\"No\",\"No\",\"Yes\",\"Yes\",\"Yes\",\"No\",\"No\",\"No\",\"No\",\"Yes\",\"No\",\"Yes\",\"Yes\",\"No\",\"No\",\"Yes\",\"Yes\",\"Yes\",\"No\",\"Yes\",\"No\",\"Yes\",\"Yes\",\"Yes\",\"Yes\",\"Yes\",\"No\",\"Yes\",\"Yes\",\"No\",\"No\",\"No\",\"No\",\"No\",\"No\",\"Yes\",\"Yes\",\"Yes\",\"Yes\",\"No\",\"No\",\"No\",\"No\",\"No\",\"Yes\",\"Yes\",\"No\",\"No\",\"Yes\",\"Yes\",\"No\",\"No\",\"No\",\"No\",\"No\",\"No\",\"Yes\",\"Yes\",\"Yes\",\"No\",\"Yes\",\"No\",\"Yes\",\"Yes\",\"No\",\"No\",\"Yes\",\"No\",\"No\",\"Yes\",\"No\",\"No\",\"No\",\"No\",\"Yes\",\"Yes\",\"No\",\"No\",\"No\",\"Yes\",\"No\",\"Yes\",\"No\",\"No\",\"Yes\",\"No\",\"No\",\"No\",\"No\",\"Yes\",\"No\",\"Yes\",\"Yes\",\"No\",\"Yes\",\"No\",\"No\",\"Yes\",\"Yes\",\"No\",\"Yes\",\"Yes\",\"No\",\"No\",\"Yes\",\"Yes\",\"No\",\"Yes\",\"No\",\"No\",\"No\",\"Yes\",\"No\",\"No\",\"No\",\"No\",\"No\",\"No\",\"No\",\"No\",\"Yes\",\"Yes\",\"No\",\"No\",\"No\",\"No\",\"Yes\",\"Yes\",\"Yes\",\"Yes\",\"Yes\",\"No\",\"Yes\",\"No\",\"No\",\"No\",\"Yes\",\"Yes\",\"Yes\",\"Yes\",\"No\",\"Yes\",\"Yes\",\"No\",\"No\",\"Yes\",\"No\",\"Yes\",\"Yes\",\"Yes\",\"No\",\"No\",\"No\",\"Yes\",\"Yes\",\"No\",\"Yes\",\"No\",\"No\",\"No\",\"No\",\"Yes\",\"Yes\",\"No\",\"No\",\"No\",\"No\",\"Yes\",\"No\",\"No\",\"Yes\",\"Yes\",\"Yes\",\"No\",\"No\",\"No\",\"No\",\"Yes\",\"No\",\"Yes\",\"Yes\",\"No\",\"No\",\"Yes\",\"Yes\",\"Yes\",\"No\",\"No\",\"No\",\"No\",\"No\",\"Yes\",\"No\",\"No\",\"No\",\"No\",\"Yes\",\"No\",\"No\",\"Yes\",\"No\",\"Yes\",\"Yes\",\"No\",\"Yes\",\"Yes\",\"No\",\"No\",\"No\",\"Yes\",\"Yes\",\"No\",\"No\",\"No\",\"Yes\",\"No\",\"Yes\",\"Yes\",\"Yes\",\"Yes\",\"No\",\"No\",\"Yes\",\"Yes\",\"Yes\",\"Yes\",\"No\",\"Yes\",\"Yes\",\"No\",\"Yes\",\"Yes\",\"No\",\"No\",\"No\",\"No\",\"No\",\"Yes\",\"No\",\"No\",\"No\",\"Yes\",\"Yes\",\"Yes\",\"No\",\"Yes\",\"Yes\",\"No\",\"Yes\",\"Yes\",\"Yes\",\"No\",\"No\",\"Yes\",\"No\",\"No\",\"Yes\",\"Yes\",\"No\",\"No\",\"No\",\"No\",\"No\",\"Yes\",\"Yes\",\"Yes\",\"No\",\"No\",\"No\",\"Yes\",\"No\",\"No\",\"No\",\"Yes\",\"Yes\",\"Yes\",\"Yes\",\"No\",\"Yes\",\"Yes\",\"No\",\"No\",\"Yes\",\"Yes\",\"No\",\"No\",\"No\",\"No\",\"No\",\"No\",\"No\",\"No\",\"Yes\",\"Yes\",\"No\",\"No\",\"No\",\"No\",\"No\",\"Yes\",\"Yes\",\"Yes\",\"No\",\"Yes\",\"Yes\",\"No\",\"Yes\",\"No\",\"No\",\"Yes\",\"No\",\"Yes\",\"No\",\"No\",\"No\",\"Yes\",\"No\",\"No\",\"Yes\",\"No\",\"No\",\"No\",\"No\",\"Yes\",\"No\",\"No\",\"No\",\"Yes\",\"No\",\"No\",\"No\",\"No\",\"Yes\",\"No\",\"No\",\"Yes\",\"Yes\",\"Yes\",\"No\",\"Yes\",\"No\",\"No\",\"No\",\"No\",\"No\",\"Yes\",\"Yes\",\"No\",\"No\",\"Yes\",\"No\",\"Yes\",\"Yes\",\"Yes\",\"No\",\"Yes\",\"No\",\"Yes\",\"No\",\"No\",\"No\",\"No\",\"No\",\"Yes\",\"No\",\"No\",\"Yes\",\"Yes\",\"No\",\"No\",\"Yes\",\"No\",\"No\",\"No\",\"Yes\",\"Yes\",\"No\",\"Yes\",\"No\",\"No\",\"Yes\",\"No\",\"No\",\"Yes\",\"Yes\",\"Yes\",\"No\",\"No\",\"Yes\",\"Yes\",\"No\",\"Yes\",\"No\",\"Yes\",\"Yes\",\"Yes\",\"Yes\",\"No\",\"Yes\",\"Yes\",\"No\",\"No\",\"Yes\",\"No\",\"Yes\",\"Yes\",\"No\",\"No\",\"Yes\",\"No\",\"Yes\",\"Yes\",\"No\",\"No\",\"Yes\",\"Yes\",\"Yes\",\"Yes\",\"No\",\"No\",\"No\",\"No\",\"No\",\"No\",\"Yes\",\"No\",\"No\",\"Yes\",\"Yes\",\"Yes\",\"No\",\"No\",\"No\",\"No\",\"No\",\"Yes\",\"Yes\",\"Yes\",\"No\",\"Yes\",\"Yes\",\"No\",\"Yes\",\"No\",\"Yes\",\"No\",\"No\",\"Yes\",\"No\",\"Yes\",\"No\",\"No\",\"Yes\",\"No\",\"No\",\"No\",\"Yes\",\"No\",\"No\",\"No\",\"No\",\"Yes\",\"No\",\"No\",\"Yes\",\"No\",\"No\",\"No\",\"No\",\"Yes\",\"No\",\"Yes\",\"No\",\"No\",\"Yes\",\"Yes\",\"No\",\"No\",\"Yes\",\"Yes\",\"No\",\"No\",\"No\",\"No\",\"No\",\"No\",\"No\",\"Yes\",\"No\",\"No\",\"No\",\"Yes\",\"Yes\",\"Yes\",\"Yes\",\"Yes\",\"No\",\"No\",\"Yes\",\"No\",\"Yes\",\"No\",\"Yes\",\"No\",\"Yes\",\"Yes\",\"No\",\"Yes\",\"No\",\"No\",\"Yes\",\"Yes\",\"No\",\"Yes\",\"Yes\",\"No\",\"No\",\"No\",\"No\",\"No\",\"No\",\"No\",\"No\",\"Yes\",\"No\",\"No\",\"Yes\",\"Yes\",\"No\",\"No\",\"Yes\",\"Yes\",\"Yes\",\"No\",\"Yes\",\"Yes\",\"No\",\"No\",\"No\",\"Yes\",\"No\",\"No\",\"Yes\",\"No\",\"No\",\"Yes\",\"Yes\",\"No\",\"Yes\",\"Yes\",\"No\",\"No\",\"Yes\",\"No\",\"No\",\"No\",\"No\",\"Yes\",\"Yes\",\"No\",\"No\",\"No\",\"Yes\",\"Yes\",\"Yes\",\"No\",\"No\",\"No\",\"Yes\",\"No\",\"No\",\"No\",\"Yes\",\"No\",\"No\",\"Yes\",\"No\",\"No\",\"Yes\",\"Yes\",\"Yes\",\"No\",\"No\",\"No\",\"Yes\",\"Yes\",\"Yes\",\"Yes\",\"No\",\"Yes\",\"No\",\"Yes\",\"Yes\",\"No\",\"No\",\"Yes\",\"No\",\"No\",\"Yes\",\"Yes\",\"No\",\"No\",\"Yes\",\"No\",\"Yes\",\"No\",\"No\",\"No\",\"Yes\",\"No\",\"Yes\",\"Yes\",\"Yes\",\"Yes\",\"No\",\"No\",\"Yes\",\"No\",\"No\",\"No\",\"Yes\",\"Yes\",\"Yes\",\"No\",\"Yes\",\"No\",\"No\",\"No\",\"Yes\",\"Yes\",\"No\",\"Yes\",\"No\",\"No\",\"Yes\",\"No\",\"Yes\",\"No\",\"No\",\"Yes\",\"Yes\",\"Yes\",\"Yes\",\"No\",\"No\",\"No\",\"Yes\",\"Yes\",\"No\",\"No\",\"No\",\"No\",\"Yes\",\"No\",\"No\",\"No\",\"Yes\",\"No\",\"Yes\",\"Yes\",\"No\",\"No\",\"Yes\",\"No\",\"Yes\",\"No\",\"No\",\"No\",\"Yes\",\"No\",\"Yes\",\"No\",\"No\",\"Yes\",\"Yes\",\"No\",\"No\",\"No\",\"Yes\",\"No\",\"Yes\",\"Yes\",\"No\",\"No\",\"No\",\"No\",\"No\",\"No\",\"No\",\"No\",\"No\",\"No\",\"No\",\"Yes\",\"No\",\"Yes\",\"Yes\",\"No\",\"No\",\"No\",\"Yes\",\"No\",\"No\",\"No\",\"No\",\"Yes\",\"Yes\",\"No\",\"No\",\"No\",\"No\",\"No\",\"No\",\"Yes\",\"Yes\",\"No\",\"Yes\",\"Yes\",\"No\",\"Yes\",\"Yes\",\"Yes\",\"No\",\"No\",\"Yes\",\"No\",\"Yes\",\"No\",\"No\",\"Yes\",\"No\",\"No\",\"No\",\"No\",\"Yes\",\"No\",\"No\",\"Yes\",\"No\",\"Yes\",\"Yes\",\"No\",\"No\",\"Yes\",\"Yes\",\"No\",\"No\",\"Yes\",\"Yes\",\"No\",\"No\",\"Yes\",\"No\",\"No\",\"Yes\",\"Yes\",\"No\",\"Yes\",\"No\",\"Yes\",\"No\",\"Yes\",\"No\",\"No\",\"Yes\",\"Yes\",\"No\",\"Yes\",\"No\",\"Yes\",\"No\",\"Yes\",\"No\",\"No\",\"No\",\"Yes\",\"Yes\",\"No\",\"No\",\"Yes\",\"Yes\",\"No\",\"No\",\"No\",\"No\",\"No\",\"No\",\"No\",\"Yes\",\"No\",\"No\",\"Yes\",\"No\",\"No\",\"Yes\",\"Yes\",\"Yes\",\"No\",\"Yes\",\"Yes\",\"No\",\"Yes\",\"No\",\"No\",\"No\",\"Yes\",\"Yes\",\"No\",\"No\",\"No\",\"Yes\",\"Yes\",\"Yes\",\"No\",\"Yes\",\"Yes\",\"No\",\"No\",\"No\",\"No\",\"No\",\"No\",\"No\",\"No\",\"Yes\",\"No\",\"No\",\"No\",\"No\",\"Yes\",\"Yes\",\"No\",\"No\",\"Yes\",\"No\",\"No\",\"No\",\"No\",\"Yes\",\"No\",\"No\",\"Yes\",\"Yes\",\"No\",\"No\",\"No\",\"Yes\",\"No\",\"No\",\"Yes\",\"No\",\"No\",\"Yes\",\"No\",\"No\",\"No\",\"Yes\",\"No\",\"No\",\"No\",\"No\",\"No\",\"Yes\",\"Yes\",\"No\",\"No\",\"Yes\",\"No\",\"No\",\"Yes\",\"No\",\"Yes\",\"No\",\"Yes\",\"No\",\"Yes\",\"Yes\",\"No\",\"No\",\"No\",\"No\",\"No\",\"No\",\"No\",\"Yes\",\"Yes\",\"Yes\",\"Yes\",\"No\",\"No\",\"No\",\"No\",\"No\",\"Yes\",\"Yes\",\"Yes\",\"Yes\",\"No\",\"Yes\",\"Yes\",\"Yes\",\"No\",\"No\",\"No\",\"No\",\"No\",\"Yes\",\"No\",\"Yes\",\"Yes\",\"No\",\"Yes\",\"Yes\",\"Yes\",\"No\",\"Yes\",\"No\",\"No\",\"No\",\"No\",\"No\",\"No\",\"Yes\",\"Yes\",\"Yes\",\"Yes\",\"Yes\",\"No\",\"No\",\"No\",\"Yes\",\"No\",\"No\",\"Yes\",\"No\",\"Yes\",\"Yes\",\"No\",\"No\",\"No\",\"No\",\"Yes\",\"No\",\"No\",\"Yes\",\"Yes\",\"No\",\"No\",\"No\",\"No\",\"No\",\"No\",\"Yes\",\"Yes\",\"No\",\"Yes\",\"Yes\",\"No\",\"No\",\"No\",\"Yes\",\"No\",\"No\",\"No\",\"No\",\"No\",\"No\",\"No\",\"Yes\",\"Yes\",\"No\",\"No\",\"Yes\",\"No\",\"Yes\",\"No\",\"No\",\"No\",\"No\",\"No\",\"Yes\",\"No\",\"Yes\",\"Yes\",\"No\",\"No\",\"No\",\"Yes\",\"No\",\"No\",\"Yes\",\"No\",\"No\",\"No\",\"No\",\"Yes\",\"No\",\"No\",\"Yes\",\"No\",\"No\",\"No\",\"Yes\",\"No\",\"Yes\",\"No\",\"No\",\"No\",\"No\",\"No\",\"No\",\"Yes\",\"No\",\"Yes\",\"Yes\",\"No\",\"Yes\",\"Yes\",\"No\",\"Yes\",\"No\",\"Yes\",\"No\",\"Yes\",\"Yes\",\"No\",\"No\",\"Yes\",\"Yes\",\"Yes\",\"Yes\",\"Yes\",\"No\",\"Yes\",\"No\",\"No\",\"Yes\",\"No\",\"Yes\",\"No\",\"Yes\",\"No\",\"No\",\"Yes\",\"No\",\"No\",\"Yes\",\"Yes\",\"Yes\",\"Yes\",\"No\",\"No\",\"Yes\",\"No\",\"No\",\"No\",\"Yes\",\"Yes\",\"Yes\",\"No\",\"No\",\"Yes\",\"No\",\"No\",\"No\",\"No\",\"Yes\",\"Yes\",\"No\",\"Yes\",\"Yes\",\"No\",\"Yes\",\"No\",\"Yes\",\"No\",\"Yes\",\"No\",\"Yes\",\"No\",\"Yes\",\"No\",\"No\",\"No\",\"No\",\"Yes\",\"Yes\",\"No\",\"No\",\"Yes\",\"Yes\",\"No\",\"Yes\",\"No\",\"No\",\"No\",\"No\",\"No\",\"No\",\"No\",\"Yes\",\"No\",\"No\",\"No\",\"No\",\"Yes\",\"Yes\",\"No\",\"No\",\"No\",\"No\",\"No\",\"Yes\",\"No\",\"No\",\"No\",\"No\",\"Yes\",\"No\",\"No\",\"No\",\"Yes\",\"No\",\"No\",\"No\",\"No\",\"No\",\"Yes\",\"Yes\",\"No\",\"Yes\",\"No\",\"Yes\",\"No\",\"No\",\"No\",\"Yes\",\"No\",\"No\",\"No\",\"No\",\"Yes\",\"Yes\",\"No\",\"No\",\"No\",\"Yes\",\"No\",\"Yes\",\"Yes\",\"No\",\"No\",\"No\",\"No\",\"Yes\",\"No\",\"Yes\",\"No\",\"Yes\",\"Yes\",\"No\",\"Yes\",\"Yes\",\"No\",\"Yes\",\"No\",\"No\",\"No\",\"Yes\",\"No\",\"No\",\"No\",\"No\",\"No\",\"Yes\",\"No\",\"No\",\"Yes\",\"No\",\"Yes\",\"Yes\",\"Yes\",\"Yes\",\"No\",\"No\",\"Yes\",\"No\",\"Yes\",\"No\",\"No\",\"Yes\",\"Yes\",\"Yes\",\"Yes\",\"No\",\"No\",\"Yes\",\"Yes\",\"No\",\"No\",\"Yes\",\"Yes\",\"Yes\",\"No\",\"No\",\"No\",\"No\",\"No\",\"No\",\"Yes\",\"No\",\"Yes\",\"No\",\"No\",\"No\",\"No\",\"No\",\"Yes\",\"No\",\"No\",\"No\",\"Yes\",\"Yes\",\"Yes\",\"No\",\"Yes\",\"No\",\"Yes\",\"No\",\"Yes\",\"Yes\",\"No\",\"No\",\"No\",\"No\",\"Yes\",\"Yes\",\"No\",\"No\",\"Yes\",\"No\",\"Yes\",\"Yes\",\"Yes\",\"Yes\",\"No\",\"Yes\",\"No\",\"No\",\"No\",\"Yes\",\"No\",\"No\",\"Yes\",\"Yes\",\"Yes\",\"No\",\"No\",\"Yes\",\"No\",\"No\",\"No\",\"No\",\"No\",\"Yes\",\"No\",\"No\",\"No\",\"Yes\",\"Yes\",\"Yes\",\"Yes\",\"No\",\"Yes\",\"No\",\"Yes\",\"Yes\",\"No\",\"No\",\"No\",\"No\",\"No\",\"No\",\"Yes\",\"Yes\",\"No\",\"No\",\"No\",\"No\",\"Yes\",\"No\",\"No\",\"Yes\",\"Yes\",\"No\",\"Yes\",\"Yes\",\"No\",\"Yes\",\"Yes\",\"No\",\"No\",\"Yes\",\"Yes\",\"Yes\",\"No\",\"No\",\"Yes\",\"Yes\",\"No\",\"No\",\"Yes\",\"Yes\",\"No\",\"Yes\",\"No\",\"No\",\"No\",\"Yes\",\"Yes\",\"Yes\",\"Yes\",\"No\",\"No\",\"No\",\"No\",\"No\",\"Yes\",\"Yes\",\"Yes\",\"No\",\"Yes\",\"Yes\",\"No\",\"Yes\",\"No\",\"No\",\"No\",\"No\",\"No\",\"No\",\"Yes\",\"No\",\"Yes\",\"No\",\"Yes\",\"No\",\"Yes\",\"No\",\"No\",\"No\",\"No\",\"Yes\",\"Yes\",\"Yes\",\"No\",\"Yes\",\"No\",\"No\",\"No\",\"No\",\"Yes\",\"No\",\"No\",\"No\",\"No\",\"No\",\"Yes\",\"No\",\"Yes\",\"Yes\",\"Yes\",\"No\",\"Yes\",\"No\",\"No\",\"No\",\"No\",\"No\",\"No\",\"No\",\"No\",\"Yes\",\"Yes\",\"No\",\"No\",\"Yes\",\"Yes\",\"Yes\",\"No\",\"No\",\"No\",\"No\",\"No\",\"Yes\",\"Yes\",\"No\",\"Yes\",\"No\",\"No\",\"No\",\"Yes\",\"Yes\",\"No\",\"No\",\"No\",\"Yes\",\"Yes\",\"Yes\",\"Yes\",\"No\",\"No\",\"No\",\"No\",\"No\",\"No\",\"No\",\"No\",\"No\",\"No\",\"No\",\"Yes\",\"No\",\"No\",\"No\",\"No\",\"No\",\"No\",\"Yes\",\"Yes\",\"No\",\"No\",\"No\",\"Yes\",\"No\",\"Yes\",\"Yes\",\"Yes\",\"Yes\",\"No\",\"No\",\"No\",\"No\",\"Yes\",\"Yes\",\"No\",\"No\",\"No\",\"Yes\",\"No\",\"Yes\",\"No\",\"Yes\",\"Yes\",\"No\",\"No\",\"No\",\"No\",\"No\",\"No\",\"Yes\",\"No\",\"Yes\",\"No\",\"No\",\"Yes\",\"No\",\"Yes\",\"Yes\",\"No\",\"Yes\",\"No\",\"No\",\"Yes\",\"No\",\"No\",\"No\",\"No\",\"Yes\",\"No\",\"Yes\",\"Yes\",\"Yes\",\"No\",\"Yes\",\"No\",\"Yes\",\"Yes\",\"No\",\"Yes\",\"No\",\"No\",\"Yes\",\"Yes\",\"Yes\",\"No\",\"No\",\"No\",\"Yes\",\"No\",\"No\",\"Yes\",\"Yes\",\"No\",\"Yes\",\"Yes\",\"No\",\"Yes\",\"Yes\",\"Yes\",\"Yes\",\"No\",\"No\",\"No\",\"Yes\",\"Yes\",\"Yes\",\"No\",\"No\",\"No\",\"No\",\"No\",\"Yes\",\"Yes\",\"Yes\",\"Yes\",\"No\",\"No\",\"No\",\"Yes\",\"Yes\",\"No\",\"Yes\",\"Yes\",\"Yes\",\"No\",\"Yes\",\"No\",\"No\",\"Yes\",\"No\",\"Yes\",\"Yes\",\"No\",\"Yes\",\"Yes\",\"No\",\"No\",\"No\",\"Yes\",\"Yes\",\"No\",\"No\",\"No\",\"Yes\",\"No\",\"No\",\"Yes\",\"Yes\",\"Yes\",\"No\",\"No\",\"Yes\",\"Yes\",\"Yes\",\"No\",\"No\",\"No\",\"Yes\",\"No\",\"Yes\",\"Yes\",\"No\",\"Yes\",\"No\",\"Yes\",\"No\",\"Yes\",\"Yes\",\"No\",\"No\",\"No\",\"No\",\"No\",\"Yes\",\"Yes\",\"No\",\"No\",\"Yes\",\"Yes\",\"No\",\"No\",\"No\",\"No\",\"Yes\",\"Yes\",\"Yes\",\"Yes\",\"Yes\",\"No\",\"Yes\",\"No\",\"Yes\",\"No\",\"No\",\"No\",\"Yes\",\"Yes\",\"No\",\"No\",\"Yes\",\"No\",\"No\",\"No\",\"No\",\"Yes\",\"Yes\",\"Yes\",\"No\",\"Yes\",\"No\",\"No\",\"Yes\",\"Yes\",\"No\",\"Yes\",\"Yes\",\"No\",\"No\",\"No\",\"No\",\"No\",\"No\",\"Yes\",\"No\",\"Yes\",\"No\",\"Yes\",\"No\",\"Yes\",\"Yes\",\"Yes\",\"Yes\",\"Yes\",\"No\",\"Yes\",\"No\",\"No\",\"Yes\",\"Yes\",\"Yes\",\"Yes\",\"No\",\"No\",\"Yes\",\"Yes\",\"Yes\",\"No\",\"Yes\",\"No\",\"No\",\"No\",\"Yes\",\"Yes\",\"No\",\"No\",\"No\",\"No\",\"No\",\"Yes\",\"Yes\",\"Yes\",\"No\",\"No\",\"Yes\",\"No\",\"Yes\",\"Yes\",\"No\",\"Yes\",\"Yes\",\"Yes\",\"Yes\",\"No\",\"No\",\"Yes\",\"No\",\"Yes\",\"No\",\"No\",\"No\",\"No\",\"Yes\",\"No\",\"Yes\",\"No\",\"No\",\"No\",\"Yes\",\"No\",\"No\",\"Yes\",\"Yes\",\"Yes\",\"No\",\"Yes\",\"Yes\",\"No\",\"No\",\"Yes\",\"Yes\",\"No\",\"No\",\"No\",\"Yes\",\"No\",\"No\",\"Yes\",\"No\",\"No\",\"Yes\",\"No\",\"Yes\",\"Yes\",\"No\",\"Yes\",\"Yes\",\"No\",\"Yes\",\"Yes\",\"No\",\"No\",\"No\",\"No\",\"No\",\"Yes\",\"Yes\",\"Yes\",\"No\",\"Yes\",\"No\",\"No\",\"No\",\"No\",\"Yes\",\"No\",\"No\",\"No\",\"No\",\"No\",\"No\",\"No\",\"No\",\"Yes\",\"Yes\",\"No\",\"Yes\",\"No\",\"No\",\"No\",\"Yes\",\"No\",\"No\",\"No\",\"Yes\",\"Yes\",\"No\",\"No\",\"No\",\"Yes\",\"No\",\"Yes\",\"No\",\"Yes\",\"Yes\",\"No\",\"Yes\",\"No\",\"Yes\",\"No\",\"No\",\"Yes\",\"Yes\",\"No\",\"Yes\",\"Yes\",\"No\",\"No\",\"No\",\"No\",\"No\",\"No\",\"No\",\"Yes\",\"No\",\"Yes\",\"Yes\",\"No\",\"No\",\"No\",\"Yes\",\"Yes\",\"No\",\"Yes\",\"No\",\"No\",\"No\",\"Yes\",\"Yes\",\"Yes\",\"No\",\"Yes\",\"Yes\",\"Yes\",\"No\",\"No\",\"Yes\",\"No\",\"No\",\"Yes\",\"No\",\"No\",\"Yes\",\"Yes\",\"No\",\"No\",\"Yes\",\"No\",\"Yes\",\"No\",\"No\",\"Yes\",\"No\",\"No\",\"No\",\"No\",\"No\",\"No\",\"Yes\",\"Yes\",\"Yes\",\"Yes\",\"No\",\"Yes\",\"No\",\"No\",\"No\",\"Yes\",\"Yes\",\"Yes\",\"No\",\"No\",\"No\",\"No\",\"No\",\"No\",\"No\",\"Yes\",\"Yes\",\"No\",\"No\",\"No\",\"No\",\"Yes\",\"Yes\",\"No\",\"No\",\"Yes\",\"No\",\"Yes\",\"No\",\"No\",\"No\",\"Yes\",\"No\",\"Yes\",\"No\",\"Yes\",\"No\",\"Yes\",\"No\",\"No\",\"Yes\",\"No\",\"Yes\",\"No\",\"Yes\",\"No\",\"No\",\"No\",\"No\",\"Yes\",\"No\",\"No\",\"Yes\",\"No\",\"Yes\",\"No\",\"Yes\",\"Yes\",\"No\",\"Yes\",\"Yes\",\"No\",\"Yes\",\"No\",\"No\",\"No\",\"Yes\",\"No\",\"No\",\"Yes\",\"No\",\"No\",\"No\",\"No\",\"No\",\"No\",\"Yes\",\"Yes\",\"Yes\",\"No\",\"Yes\",\"No\",\"Yes\",\"No\",\"Yes\",\"No\",\"Yes\",\"Yes\",\"Yes\",\"Yes\",\"No\",\"No\",\"Yes\",\"No\",\"Yes\",\"No\",\"No\",\"No\",\"No\",\"No\",\"No\",\"No\",\"No\",\"Yes\",\"Yes\",\"No\",\"No\",\"Yes\",\"No\",\"No\",\"No\",\"Yes\",\"No\",\"No\",\"No\",\"Yes\",\"Yes\",\"No\",\"Yes\",\"No\",\"Yes\",\"Yes\",\"Yes\",\"No\",\"Yes\",\"No\",\"No\",\"No\",\"No\",\"Yes\",\"No\",\"Yes\",\"Yes\",\"No\",\"No\",\"Yes\",\"No\",\"Yes\",\"Yes\",\"Yes\",\"Yes\",\"No\",\"No\",\"Yes\",\"No\",\"No\",\"Yes\",\"Yes\",\"Yes\",\"No\",\"No\",\"Yes\",\"No\",\"Yes\",\"Yes\",\"Yes\",\"Yes\",\"No\",\"Yes\",\"Yes\",\"No\",\"Yes\",\"Yes\",\"No\",\"Yes\",\"No\",\"Yes\",\"No\",\"Yes\",\"Yes\",\"No\",\"No\",\"No\",\"No\",\"No\",\"Yes\",\"Yes\",\"No\",\"No\",\"Yes\",\"Yes\",\"No\",\"Yes\",\"Yes\",\"No\",\"Yes\",\"No\",\"No\",\"Yes\",\"No\",\"Yes\",\"No\",\"No\",\"Yes\",\"Yes\",\"Yes\",\"No\",\"No\",\"Yes\",\"No\",\"Yes\",\"No\",\"No\",\"Yes\",\"Yes\",\"No\",\"Yes\",\"No\",\"No\",\"No\",\"No\",\"Yes\",\"No\",\"Yes\",\"No\",\"Yes\",\"No\",\"Yes\",\"No\",\"No\",\"No\",\"Yes\",\"No\",\"No\",\"No\",\"Yes\",\"No\",\"No\",\"No\",\"Yes\",\"Yes\",\"Yes\",\"No\",\"Yes\",\"Yes\",\"Yes\",\"Yes\",\"No\",\"No\",\"Yes\",\"No\",\"Yes\",\"No\",\"No\",\"No\",\"No\",\"Yes\",\"No\",\"No\",\"Yes\",\"Yes\",\"No\",\"Yes\",\"No\",\"No\",\"Yes\",\"Yes\",\"No\",\"No\",\"No\",\"No\",\"No\",\"No\",\"No\",\"Yes\",\"No\",\"No\",\"No\",\"No\",\"Yes\",\"No\",\"Yes\",\"No\",\"No\",\"No\",\"Yes\",\"No\",\"Yes\",\"No\",\"No\",\"Yes\",\"No\",\"No\",\"Yes\",\"Yes\",\"Yes\",\"Yes\",\"No\",\"Yes\",\"Yes\",\"No\",\"Yes\",\"No\",\"No\",\"Yes\",\"Yes\",\"Yes\",\"Yes\",\"Yes\",\"No\",\"No\",\"Yes\",\"Yes\",\"No\",\"Yes\",\"Yes\",\"No\",\"Yes\",\"Yes\",\"Yes\",\"No\",\"No\",\"No\",\"Yes\",\"No\",\"Yes\",\"Yes\",\"Yes\",\"No\",\"No\",\"Yes\",\"Yes\",\"Yes\",\"Yes\",\"No\",\"Yes\",\"No\",\"No\",\"Yes\",\"Yes\",\"No\",\"No\",\"No\",\"No\",\"No\",\"No\",\"No\",\"No\",\"Yes\",\"Yes\",\"Yes\",\"No\",\"Yes\",\"Yes\",\"Yes\",\"No\",\"No\",\"No\",\"Yes\",\"Yes\",\"Yes\",\"No\",\"Yes\",\"No\",\"No\",\"Yes\",\"No\",\"No\",\"Yes\",\"Yes\",\"Yes\",\"Yes\",\"Yes\",\"No\",\"No\",\"Yes\",\"Yes\",\"Yes\",\"Yes\",\"No\",\"No\",\"No\",\"No\",\"No\",\"No\",\"No\",\"No\",\"Yes\",\"Yes\",\"Yes\",\"No\",\"No\",\"No\",\"Yes\",\"No\",\"No\",\"No\",\"No\",\"No\",\"No\",\"Yes\",\"No\",\"Yes\",\"No\",\"No\",\"No\",\"No\",\"Yes\",\"No\",\"No\",\"Yes\",\"No\",\"No\",\"No\",\"No\",\"No\",\"Yes\",\"Yes\",\"Yes\",\"No\",\"Yes\",\"No\",\"No\",\"No\",\"Yes\",\"No\",\"No\",\"Yes\",\"Yes\",\"No\",\"Yes\",\"Yes\",\"Yes\",\"No\",\"No\",\"No\",\"Yes\",\"No\",\"Yes\",\"Yes\",\"No\",\"No\",\"No\",\"Yes\",\"No\",\"No\",\"No\",\"No\",\"Yes\",\"No\",\"No\",\"Yes\",\"No\",\"No\",\"Yes\",\"Yes\",\"No\",\"Yes\",\"No\",\"No\",\"No\",\"No\",\"Yes\",\"Yes\",\"Yes\",\"No\",\"No\",\"Yes\",\"Yes\",\"No\",\"Yes\",\"Yes\",\"No\",\"Yes\",\"No\",\"No\",\"No\",\"Yes\",\"No\",\"Yes\",\"No\",\"Yes\",\"Yes\",\"No\",\"No\",\"Yes\",\"No\",\"No\",\"Yes\",\"No\",\"No\",\"No\",\"No\",\"Yes\",\"No\",\"No\",\"Yes\",\"Yes\",\"Yes\",\"Yes\",\"Yes\",\"Yes\",\"Yes\",\"No\",\"No\",\"No\",\"Yes\",\"Yes\",\"No\",\"No\",\"No\",\"Yes\",\"Yes\",\"Yes\",\"No\",\"No\",\"No\",\"Yes\",\"Yes\",\"Yes\",\"No\",\"Yes\",\"No\",\"No\",\"Yes\",\"Yes\",\"No\",\"No\",\"Yes\",\"No\",\"No\",\"No\",\"Yes\",\"Yes\",\"No\",\"No\",\"Yes\",\"No\",\"Yes\",\"Yes\",\"No\",\"Yes\",\"No\",\"No\",\"No\",\"Yes\",\"Yes\",\"No\",\"No\",\"No\",\"No\",\"Yes\",\"Yes\",\"No\",\"No\",\"Yes\",\"Yes\",\"Yes\",\"Yes\",\"Yes\",\"No\",\"No\",\"Yes\",\"No\",\"No\",\"No\",\"Yes\",\"No\",\"No\",\"Yes\",\"Yes\",\"No\",\"No\",\"Yes\",\"Yes\",\"No\",\"No\",\"Yes\",\"Yes\",\"Yes\",\"Yes\",\"Yes\",\"No\",\"No\",\"No\",\"No\",\"Yes\",\"No\",\"No\",\"No\",\"No\",\"Yes\",\"No\",\"No\",\"No\",\"Yes\",\"No\",\"Yes\",\"No\",\"No\",\"Yes\"],\"xaxis\":\"x\",\"yaxis\":\"y\",\"type\":\"histogram\"},{\"alignmentgroup\":\"True\",\"bingroup\":\"x\",\"hovertemplate\":\"Contract=One year\\u003cbr\\u003eChurn=%{x}\\u003cbr\\u003ecount=%{y}\\u003cextra\\u003e\\u003c\\u002fextra\\u003e\",\"legendgroup\":\"One year\",\"marker\":{\"color\":\"#EF553B\",\"pattern\":{\"shape\":\"\"}},\"name\":\"One year\",\"offsetgroup\":\"One year\",\"orientation\":\"v\",\"showlegend\":true,\"x\":[\"No\",\"No\",\"No\",\"No\",\"No\",\"No\",\"No\",\"No\",\"No\",\"No\",\"No\",\"No\",\"No\",\"No\",\"No\",\"No\",\"No\",\"No\",\"No\",\"No\",\"No\",\"No\",\"No\",\"No\",\"No\",\"No\",\"No\",\"No\",\"No\",\"No\",\"No\",\"No\",\"No\",\"No\",\"No\",\"Yes\",\"No\",\"No\",\"No\",\"No\",\"No\",\"No\",\"No\",\"No\",\"No\",\"No\",\"No\",\"No\",\"No\",\"No\",\"No\",\"No\",\"No\",\"No\",\"No\",\"No\",\"No\",\"No\",\"No\",\"No\",\"No\",\"No\",\"Yes\",\"Yes\",\"No\",\"No\",\"No\",\"Yes\",\"No\",\"No\",\"No\",\"No\",\"No\",\"No\",\"No\",\"No\",\"No\",\"No\",\"No\",\"No\",\"No\",\"No\",\"No\",\"No\",\"No\",\"No\",\"No\",\"No\",\"No\",\"No\",\"No\",\"No\",\"No\",\"No\",\"No\",\"No\",\"No\",\"No\",\"No\",\"Yes\",\"No\",\"No\",\"No\",\"No\",\"No\",\"No\",\"No\",\"No\",\"No\",\"No\",\"No\",\"No\",\"No\",\"No\",\"No\",\"No\",\"No\",\"No\",\"No\",\"Yes\",\"No\",\"No\",\"No\",\"No\",\"No\",\"No\",\"No\",\"No\",\"No\",\"No\",\"No\",\"No\",\"No\",\"No\",\"No\",\"Yes\",\"No\",\"No\",\"No\",\"Yes\",\"No\",\"No\",\"No\",\"No\",\"No\",\"No\",\"No\",\"No\",\"No\",\"No\",\"No\",\"No\",\"No\",\"No\",\"No\",\"Yes\",\"No\",\"No\",\"Yes\",\"No\",\"No\",\"No\",\"Yes\",\"Yes\",\"No\",\"No\",\"No\",\"Yes\",\"Yes\",\"No\",\"No\",\"Yes\",\"Yes\",\"No\",\"No\",\"Yes\",\"No\",\"No\",\"Yes\",\"No\",\"No\",\"No\",\"No\",\"No\",\"No\",\"No\",\"No\",\"No\",\"No\",\"No\",\"No\",\"No\",\"No\",\"No\",\"No\",\"No\",\"No\",\"No\",\"No\",\"No\",\"Yes\",\"No\",\"No\",\"No\",\"No\",\"No\",\"Yes\",\"No\",\"No\",\"No\",\"No\",\"No\",\"No\",\"No\",\"No\",\"No\",\"No\",\"No\",\"No\",\"No\",\"No\",\"No\",\"No\",\"No\",\"No\",\"Yes\",\"No\",\"No\",\"No\",\"No\",\"No\",\"Yes\",\"No\",\"No\",\"No\",\"No\",\"No\",\"No\",\"No\",\"No\",\"No\",\"No\",\"No\",\"Yes\",\"No\",\"No\",\"No\",\"No\",\"No\",\"No\",\"Yes\",\"No\",\"No\",\"No\",\"No\",\"No\",\"No\",\"No\",\"No\",\"Yes\",\"No\",\"Yes\",\"No\",\"No\",\"No\",\"No\",\"No\",\"No\",\"No\",\"Yes\",\"No\",\"No\",\"No\",\"Yes\",\"No\",\"No\",\"No\",\"Yes\",\"No\",\"No\",\"No\",\"No\",\"No\",\"No\",\"Yes\",\"No\",\"No\",\"No\",\"No\",\"Yes\",\"Yes\",\"No\",\"No\",\"No\",\"No\",\"No\",\"No\",\"No\",\"No\",\"No\",\"No\",\"No\",\"No\",\"No\",\"No\",\"No\",\"Yes\",\"No\",\"No\",\"No\",\"No\",\"No\",\"No\",\"Yes\",\"No\",\"No\",\"No\",\"No\",\"No\",\"Yes\",\"Yes\",\"No\",\"No\",\"No\",\"No\",\"Yes\",\"No\",\"No\",\"No\",\"No\",\"No\",\"No\",\"No\",\"No\",\"Yes\",\"No\",\"No\",\"Yes\",\"Yes\",\"No\",\"No\",\"No\",\"No\",\"No\",\"No\",\"No\",\"No\",\"No\",\"No\",\"No\",\"No\",\"No\",\"No\",\"Yes\",\"No\",\"No\",\"No\",\"No\",\"No\",\"No\",\"No\",\"No\",\"No\",\"No\",\"No\",\"No\",\"No\",\"No\",\"No\",\"Yes\",\"No\",\"No\",\"No\",\"No\",\"No\",\"No\",\"No\",\"No\",\"No\",\"No\",\"No\",\"No\",\"No\",\"No\",\"No\",\"No\",\"No\",\"No\",\"No\",\"No\",\"No\",\"No\",\"No\",\"No\",\"No\",\"No\",\"No\",\"No\",\"No\",\"No\",\"No\",\"No\",\"No\",\"No\",\"Yes\",\"No\",\"No\",\"No\",\"Yes\",\"No\",\"No\",\"Yes\",\"No\",\"Yes\",\"No\",\"No\",\"No\",\"No\",\"Yes\",\"No\",\"No\",\"No\",\"No\",\"No\",\"No\",\"No\",\"No\",\"No\",\"No\",\"Yes\",\"No\",\"No\",\"No\",\"No\",\"No\",\"Yes\",\"Yes\",\"No\",\"No\",\"No\",\"No\",\"No\",\"No\",\"No\",\"No\",\"No\",\"No\",\"No\",\"No\",\"No\",\"No\",\"No\",\"No\",\"No\",\"Yes\",\"No\",\"No\",\"No\",\"No\",\"No\",\"No\",\"No\",\"No\",\"Yes\",\"No\",\"No\",\"No\",\"No\",\"No\",\"No\",\"No\",\"Yes\",\"Yes\",\"No\",\"No\",\"No\",\"No\",\"No\",\"No\",\"No\",\"No\",\"No\",\"No\",\"Yes\",\"No\",\"No\",\"No\",\"No\",\"No\",\"No\",\"No\",\"No\",\"No\",\"No\",\"Yes\",\"No\",\"No\",\"No\",\"No\",\"No\",\"No\",\"Yes\",\"No\",\"No\",\"No\",\"No\",\"No\",\"No\",\"No\",\"No\",\"Yes\",\"No\",\"No\",\"No\",\"No\",\"No\",\"No\",\"No\",\"No\",\"No\",\"No\",\"No\",\"No\",\"No\",\"No\",\"No\",\"Yes\",\"No\",\"No\",\"Yes\",\"No\",\"No\",\"No\",\"No\",\"No\",\"Yes\",\"No\",\"No\",\"No\",\"No\",\"Yes\",\"No\",\"No\",\"No\",\"No\",\"Yes\",\"No\",\"No\",\"No\",\"No\",\"No\",\"No\",\"No\",\"No\",\"No\",\"No\",\"No\",\"No\",\"No\",\"No\",\"Yes\",\"No\",\"No\",\"No\",\"No\",\"No\",\"No\",\"No\",\"No\",\"No\",\"No\",\"No\",\"Yes\",\"No\",\"Yes\",\"No\",\"No\",\"No\",\"No\",\"Yes\",\"No\",\"No\",\"Yes\",\"No\",\"No\",\"No\",\"No\",\"No\",\"No\",\"No\",\"No\",\"No\",\"No\",\"No\",\"No\",\"Yes\",\"No\",\"No\",\"No\",\"No\",\"No\",\"No\",\"No\",\"No\",\"No\",\"No\",\"No\",\"No\",\"No\",\"No\",\"No\",\"No\",\"No\",\"No\",\"No\",\"No\",\"No\",\"No\",\"Yes\",\"No\",\"No\",\"No\",\"No\",\"No\",\"No\",\"No\",\"Yes\",\"No\",\"No\",\"No\",\"No\",\"No\",\"No\",\"No\",\"No\",\"No\",\"No\",\"No\",\"No\",\"No\",\"No\",\"No\",\"No\",\"No\",\"No\",\"No\",\"No\",\"No\",\"No\",\"No\",\"No\",\"No\",\"No\",\"No\",\"No\",\"No\",\"No\",\"Yes\",\"No\",\"No\",\"No\",\"No\",\"No\",\"No\",\"No\",\"No\",\"No\",\"No\",\"No\",\"Yes\",\"No\",\"No\",\"No\",\"No\",\"No\",\"No\",\"No\",\"No\",\"No\",\"No\",\"No\",\"Yes\",\"No\",\"No\",\"Yes\",\"No\",\"No\",\"No\",\"No\",\"No\",\"Yes\",\"No\",\"No\",\"No\",\"No\",\"No\",\"No\",\"No\",\"No\",\"No\",\"No\",\"No\",\"No\",\"No\",\"No\",\"No\",\"No\",\"No\",\"Yes\",\"No\",\"No\",\"No\",\"No\",\"No\",\"No\",\"No\",\"No\",\"No\",\"No\",\"No\",\"No\",\"No\",\"No\",\"No\",\"No\",\"No\",\"No\",\"No\",\"No\",\"No\",\"No\",\"No\",\"No\",\"No\",\"No\",\"No\",\"No\",\"Yes\",\"No\",\"No\",\"No\",\"No\",\"Yes\",\"No\",\"No\",\"No\",\"No\",\"No\",\"No\",\"No\",\"No\",\"No\",\"Yes\",\"No\",\"No\",\"No\",\"No\",\"No\",\"No\",\"No\",\"No\",\"No\",\"No\",\"No\",\"No\",\"No\",\"No\",\"No\",\"No\",\"No\",\"Yes\",\"No\",\"No\",\"Yes\",\"No\",\"No\",\"No\",\"No\",\"No\",\"No\",\"No\",\"No\",\"No\",\"No\",\"No\",\"No\",\"No\",\"No\",\"No\",\"No\",\"No\",\"No\",\"No\",\"No\",\"Yes\",\"No\",\"No\",\"No\",\"No\",\"No\",\"Yes\",\"No\",\"Yes\",\"No\",\"No\",\"Yes\",\"Yes\",\"No\",\"No\",\"No\",\"No\",\"Yes\",\"Yes\",\"No\",\"No\",\"No\",\"Yes\",\"No\",\"No\",\"No\",\"No\",\"No\",\"No\",\"Yes\",\"No\",\"No\",\"No\",\"No\",\"No\",\"No\",\"No\",\"No\",\"No\",\"No\",\"No\",\"No\",\"No\",\"Yes\",\"No\",\"No\",\"No\",\"No\",\"No\",\"No\",\"No\",\"No\",\"No\",\"No\",\"Yes\",\"Yes\",\"No\",\"No\",\"No\",\"No\",\"No\",\"No\",\"No\",\"No\",\"No\",\"No\",\"Yes\",\"No\",\"No\",\"No\",\"No\",\"No\",\"No\",\"No\",\"No\",\"No\",\"No\",\"Yes\",\"No\",\"No\",\"No\",\"No\",\"No\",\"No\",\"No\",\"No\",\"No\",\"No\",\"No\",\"No\",\"No\",\"Yes\",\"Yes\",\"No\",\"No\",\"Yes\",\"No\",\"No\",\"No\",\"No\",\"No\",\"Yes\",\"No\",\"No\",\"No\",\"No\",\"No\",\"No\",\"No\",\"No\",\"No\",\"Yes\",\"No\",\"No\",\"No\",\"No\",\"No\",\"No\",\"No\",\"No\",\"No\",\"No\",\"No\",\"No\",\"No\",\"No\",\"No\",\"Yes\",\"No\",\"No\",\"No\",\"No\",\"No\",\"No\",\"No\",\"No\",\"No\",\"No\",\"No\",\"No\",\"No\",\"No\",\"No\",\"No\",\"No\",\"No\",\"No\",\"No\",\"No\",\"No\",\"No\",\"No\",\"No\",\"No\",\"No\",\"No\",\"No\",\"Yes\",\"No\",\"No\",\"No\",\"No\",\"No\",\"No\",\"No\",\"Yes\",\"Yes\",\"No\",\"No\",\"No\",\"No\",\"No\",\"No\",\"No\",\"No\",\"No\",\"No\",\"No\",\"No\",\"Yes\",\"No\",\"No\",\"No\",\"No\",\"No\",\"No\",\"No\",\"No\",\"No\",\"No\",\"Yes\",\"No\",\"No\",\"Yes\",\"No\",\"Yes\",\"No\",\"No\",\"No\",\"Yes\",\"No\",\"No\",\"No\",\"No\",\"No\",\"No\",\"No\",\"No\",\"No\",\"No\",\"No\",\"No\",\"No\",\"No\",\"No\",\"No\",\"No\",\"No\",\"No\",\"No\",\"No\",\"No\",\"No\",\"No\",\"Yes\",\"No\",\"No\",\"No\",\"No\",\"No\",\"No\",\"No\",\"No\",\"Yes\",\"No\",\"Yes\",\"No\",\"Yes\",\"No\",\"No\",\"No\",\"No\",\"No\",\"No\",\"No\",\"No\",\"No\",\"No\",\"No\",\"No\",\"Yes\",\"No\",\"No\",\"Yes\",\"No\",\"No\",\"No\",\"Yes\",\"No\",\"No\",\"No\",\"Yes\",\"Yes\",\"No\",\"Yes\",\"No\",\"No\",\"No\",\"No\",\"No\",\"No\",\"No\",\"No\",\"No\",\"No\",\"No\",\"No\",\"No\",\"No\",\"No\",\"No\",\"Yes\",\"Yes\",\"No\",\"No\",\"No\",\"No\",\"No\",\"Yes\",\"No\",\"No\",\"No\",\"No\",\"No\",\"No\",\"No\",\"Yes\",\"No\",\"No\",\"No\",\"No\",\"No\",\"No\",\"No\",\"No\",\"No\",\"No\",\"No\",\"No\",\"No\",\"No\",\"No\",\"No\",\"No\",\"No\",\"No\",\"No\",\"No\",\"No\",\"No\",\"Yes\",\"No\",\"No\",\"Yes\",\"No\",\"No\",\"No\",\"No\",\"No\",\"No\",\"No\",\"No\",\"No\",\"Yes\",\"No\",\"No\",\"No\",\"No\",\"No\",\"No\",\"No\",\"No\",\"No\",\"No\",\"No\",\"Yes\",\"No\",\"No\",\"Yes\",\"No\",\"Yes\",\"No\",\"No\",\"No\",\"No\",\"No\",\"No\",\"No\",\"No\",\"No\",\"No\",\"No\",\"No\",\"No\",\"No\",\"No\",\"No\",\"No\",\"No\",\"No\",\"No\",\"No\",\"No\",\"No\",\"No\",\"No\",\"No\",\"No\",\"No\",\"No\",\"No\",\"No\",\"No\",\"No\",\"No\",\"No\",\"No\",\"No\",\"No\",\"No\",\"No\",\"No\",\"Yes\",\"No\",\"No\",\"No\",\"Yes\",\"No\",\"No\",\"No\",\"No\",\"No\",\"No\",\"Yes\",\"No\",\"No\",\"No\",\"Yes\",\"No\",\"No\",\"No\",\"No\",\"No\",\"No\",\"No\",\"Yes\",\"No\",\"No\",\"No\",\"No\",\"No\",\"No\",\"Yes\",\"No\",\"No\",\"Yes\",\"No\",\"Yes\",\"No\",\"No\",\"No\",\"No\",\"No\",\"No\",\"No\",\"Yes\",\"No\",\"No\",\"No\",\"Yes\",\"No\",\"No\",\"No\",\"Yes\",\"No\",\"No\",\"No\",\"No\",\"No\",\"No\",\"No\",\"Yes\",\"No\",\"No\",\"No\",\"Yes\",\"No\",\"No\",\"No\",\"No\",\"No\",\"No\",\"No\",\"No\",\"No\",\"No\",\"No\",\"No\",\"No\",\"No\",\"Yes\",\"No\",\"No\",\"No\",\"No\",\"No\",\"No\",\"No\",\"No\",\"No\",\"No\",\"No\",\"No\",\"No\",\"No\",\"No\",\"No\",\"Yes\",\"No\",\"No\",\"Yes\",\"No\",\"No\",\"No\",\"No\",\"No\",\"No\",\"No\",\"No\",\"No\",\"No\",\"No\",\"No\",\"No\",\"No\",\"No\",\"No\",\"No\",\"No\",\"No\",\"No\",\"No\",\"No\",\"No\",\"No\",\"No\",\"No\",\"No\",\"No\",\"Yes\",\"No\",\"No\",\"No\",\"No\",\"Yes\",\"No\",\"No\",\"No\",\"No\",\"Yes\",\"No\",\"No\",\"No\",\"No\",\"No\",\"Yes\",\"No\",\"No\",\"No\",\"No\",\"No\",\"No\",\"No\",\"No\",\"No\",\"No\",\"No\",\"No\",\"No\",\"Yes\",\"No\",\"No\",\"Yes\",\"No\",\"No\",\"No\",\"No\",\"No\",\"No\",\"No\",\"No\",\"No\",\"No\",\"No\",\"No\",\"No\",\"No\",\"No\",\"Yes\",\"No\",\"No\",\"No\",\"Yes\",\"Yes\",\"No\",\"No\",\"No\",\"No\",\"No\",\"No\",\"No\",\"No\",\"No\",\"No\",\"No\",\"No\",\"No\",\"No\",\"No\",\"Yes\",\"Yes\",\"No\",\"No\",\"No\",\"No\",\"No\",\"No\",\"No\",\"No\",\"No\",\"No\",\"No\",\"No\",\"No\",\"No\",\"No\",\"No\",\"No\",\"No\",\"No\",\"No\",\"No\",\"No\",\"No\",\"No\",\"No\",\"No\",\"No\",\"No\",\"No\",\"No\",\"No\",\"No\",\"Yes\",\"No\",\"No\",\"No\",\"Yes\",\"Yes\",\"Yes\",\"No\",\"No\",\"No\",\"No\",\"No\",\"No\",\"No\",\"Yes\",\"No\",\"No\",\"No\",\"No\",\"No\",\"No\",\"No\",\"No\",\"No\",\"No\",\"No\",\"Yes\",\"No\",\"No\",\"No\",\"No\",\"No\",\"No\",\"No\",\"No\",\"No\",\"No\",\"No\",\"No\",\"Yes\",\"No\",\"No\",\"No\",\"No\",\"No\",\"No\",\"No\",\"Yes\",\"No\",\"No\",\"Yes\",\"No\",\"No\",\"No\",\"No\",\"No\"],\"xaxis\":\"x\",\"yaxis\":\"y\",\"type\":\"histogram\"},{\"alignmentgroup\":\"True\",\"bingroup\":\"x\",\"hovertemplate\":\"Contract=Two year\\u003cbr\\u003eChurn=%{x}\\u003cbr\\u003ecount=%{y}\\u003cextra\\u003e\\u003c\\u002fextra\\u003e\",\"legendgroup\":\"Two year\",\"marker\":{\"color\":\"#00cc96\",\"pattern\":{\"shape\":\"\"}},\"name\":\"Two year\",\"offsetgroup\":\"Two year\",\"orientation\":\"v\",\"showlegend\":true,\"x\":[\"No\",\"No\",\"No\",\"No\",\"No\",\"No\",\"No\",\"No\",\"No\",\"No\",\"No\",\"No\",\"No\",\"No\",\"No\",\"No\",\"No\",\"No\",\"No\",\"No\",\"No\",\"No\",\"No\",\"No\",\"Yes\",\"No\",\"No\",\"No\",\"No\",\"No\",\"No\",\"No\",\"No\",\"No\",\"No\",\"No\",\"No\",\"No\",\"No\",\"No\",\"No\",\"No\",\"No\",\"No\",\"No\",\"No\",\"No\",\"No\",\"No\",\"No\",\"No\",\"No\",\"No\",\"No\",\"No\",\"No\",\"No\",\"No\",\"No\",\"No\",\"No\",\"No\",\"No\",\"No\",\"No\",\"No\",\"No\",\"No\",\"No\",\"No\",\"Yes\",\"No\",\"No\",\"No\",\"No\",\"No\",\"No\",\"No\",\"No\",\"No\",\"No\",\"No\",\"Yes\",\"No\",\"No\",\"No\",\"No\",\"No\",\"No\",\"No\",\"No\",\"No\",\"No\",\"No\",\"No\",\"No\",\"No\",\"No\",\"No\",\"No\",\"No\",\"No\",\"No\",\"No\",\"No\",\"No\",\"No\",\"No\",\"No\",\"No\",\"No\",\"No\",\"No\",\"No\",\"No\",\"No\",\"No\",\"No\",\"No\",\"No\",\"No\",\"No\",\"No\",\"No\",\"No\",\"No\",\"No\",\"No\",\"No\",\"No\",\"No\",\"No\",\"No\",\"No\",\"No\",\"No\",\"No\",\"No\",\"No\",\"No\",\"No\",\"No\",\"No\",\"No\",\"No\",\"No\",\"No\",\"No\",\"No\",\"No\",\"No\",\"No\",\"No\",\"No\",\"No\",\"No\",\"No\",\"No\",\"No\",\"No\",\"No\",\"No\",\"No\",\"No\",\"No\",\"No\",\"No\",\"No\",\"No\",\"No\",\"No\",\"No\",\"No\",\"No\",\"No\",\"No\",\"No\",\"No\",\"No\",\"No\",\"No\",\"No\",\"No\",\"No\",\"No\",\"No\",\"No\",\"No\",\"No\",\"No\",\"No\",\"No\",\"No\",\"No\",\"No\",\"No\",\"No\",\"No\",\"No\",\"Yes\",\"No\",\"No\",\"No\",\"No\",\"No\",\"No\",\"No\",\"No\",\"No\",\"No\",\"No\",\"No\",\"No\",\"No\",\"No\",\"No\",\"No\",\"No\",\"No\",\"No\",\"No\",\"No\",\"No\",\"No\",\"No\",\"No\",\"No\",\"No\",\"No\",\"No\",\"No\",\"No\",\"No\",\"No\",\"No\",\"No\",\"No\",\"No\",\"Yes\",\"No\",\"No\",\"No\",\"No\",\"No\",\"No\",\"No\",\"No\",\"No\",\"No\",\"No\",\"No\",\"No\",\"No\",\"No\",\"No\",\"No\",\"No\",\"No\",\"No\",\"No\",\"No\",\"No\",\"No\",\"No\",\"No\",\"No\",\"No\",\"No\",\"No\",\"No\",\"No\",\"No\",\"No\",\"No\",\"No\",\"No\",\"No\",\"No\",\"No\",\"No\",\"No\",\"No\",\"No\",\"No\",\"No\",\"No\",\"No\",\"No\",\"No\",\"No\",\"No\",\"No\",\"No\",\"No\",\"No\",\"No\",\"No\",\"No\",\"No\",\"No\",\"No\",\"No\",\"No\",\"No\",\"No\",\"No\",\"No\",\"No\",\"No\",\"No\",\"No\",\"No\",\"No\",\"No\",\"No\",\"No\",\"No\",\"No\",\"No\",\"No\",\"No\",\"No\",\"No\",\"No\",\"No\",\"No\",\"No\",\"No\",\"No\",\"No\",\"No\",\"No\",\"No\",\"No\",\"No\",\"No\",\"No\",\"No\",\"No\",\"No\",\"No\",\"No\",\"No\",\"No\",\"No\",\"No\",\"No\",\"No\",\"No\",\"No\",\"No\",\"No\",\"No\",\"No\",\"No\",\"No\",\"No\",\"No\",\"No\",\"No\",\"No\",\"No\",\"No\",\"No\",\"No\",\"No\",\"No\",\"No\",\"No\",\"No\",\"No\",\"No\",\"No\",\"No\",\"No\",\"No\",\"No\",\"No\",\"No\",\"No\",\"No\",\"No\",\"No\",\"No\",\"No\",\"No\",\"No\",\"No\",\"No\",\"No\",\"No\",\"No\",\"No\",\"No\",\"No\",\"No\",\"No\",\"No\",\"No\",\"No\",\"No\",\"No\",\"No\",\"No\",\"No\",\"No\",\"No\",\"No\",\"No\",\"No\",\"No\",\"No\",\"No\",\"No\",\"No\",\"No\",\"No\",\"No\",\"No\",\"No\",\"No\",\"No\",\"No\",\"No\",\"No\",\"No\",\"No\",\"No\",\"No\",\"No\",\"No\",\"No\",\"No\",\"No\",\"No\",\"No\",\"No\",\"No\",\"No\",\"No\",\"No\",\"No\",\"No\",\"No\",\"No\",\"No\",\"No\",\"Yes\",\"No\",\"No\",\"No\",\"No\",\"No\",\"No\",\"No\",\"No\",\"No\",\"No\",\"No\",\"No\",\"No\",\"No\",\"No\",\"No\",\"No\",\"No\",\"No\",\"No\",\"No\",\"No\",\"No\",\"No\",\"No\",\"No\",\"No\",\"No\",\"No\",\"No\",\"No\",\"No\",\"No\",\"No\",\"No\",\"No\",\"Yes\",\"No\",\"No\",\"No\",\"No\",\"No\",\"No\",\"No\",\"No\",\"No\",\"No\",\"No\",\"No\",\"No\",\"No\",\"No\",\"No\",\"No\",\"No\",\"No\",\"No\",\"No\",\"No\",\"No\",\"No\",\"No\",\"No\",\"No\",\"No\",\"No\",\"No\",\"No\",\"No\",\"No\",\"No\",\"No\",\"No\",\"No\",\"No\",\"No\",\"No\",\"No\",\"No\",\"No\",\"No\",\"No\",\"No\",\"No\",\"No\",\"No\",\"No\",\"No\",\"No\",\"No\",\"No\",\"No\",\"No\",\"No\",\"No\",\"No\",\"No\",\"No\",\"No\",\"No\",\"No\",\"No\",\"No\",\"No\",\"No\",\"No\",\"No\",\"No\",\"Yes\",\"No\",\"No\",\"No\",\"No\",\"No\",\"No\",\"No\",\"No\",\"No\",\"No\",\"No\",\"No\",\"No\",\"No\",\"No\",\"No\",\"No\",\"No\",\"No\",\"No\",\"No\",\"No\",\"No\",\"No\",\"No\",\"No\",\"No\",\"No\",\"No\",\"No\",\"Yes\",\"No\",\"No\",\"No\",\"No\",\"No\",\"No\",\"No\",\"No\",\"No\",\"No\",\"No\",\"No\",\"No\",\"No\",\"No\",\"No\",\"No\",\"No\",\"No\",\"No\",\"No\",\"No\",\"No\",\"No\",\"No\",\"No\",\"No\",\"No\",\"No\",\"No\",\"No\",\"No\",\"No\",\"No\",\"No\",\"No\",\"No\",\"No\",\"No\",\"No\",\"No\",\"No\",\"No\",\"No\",\"No\",\"No\",\"No\",\"No\",\"No\",\"No\",\"No\",\"No\",\"No\",\"No\",\"No\",\"No\",\"No\",\"No\",\"No\",\"No\",\"No\",\"No\",\"No\",\"No\",\"No\",\"No\",\"No\",\"No\",\"No\",\"No\",\"No\",\"No\",\"No\",\"No\",\"No\",\"No\",\"No\",\"No\",\"No\",\"No\",\"No\",\"No\",\"No\",\"No\",\"No\",\"No\",\"No\",\"No\",\"No\",\"No\",\"No\",\"No\",\"No\",\"No\",\"No\",\"No\",\"No\",\"Yes\",\"No\",\"No\",\"No\",\"No\",\"No\",\"No\",\"No\",\"No\",\"No\",\"No\",\"No\",\"No\",\"No\",\"No\",\"No\",\"No\",\"No\",\"No\",\"No\",\"No\",\"No\",\"No\",\"No\",\"No\",\"No\",\"No\",\"No\",\"No\",\"No\",\"No\",\"No\",\"No\",\"No\",\"No\",\"No\",\"No\",\"No\",\"No\",\"No\",\"No\",\"No\",\"No\",\"No\",\"No\",\"No\",\"No\",\"No\",\"No\",\"No\",\"No\",\"No\",\"No\",\"No\",\"No\",\"No\",\"No\",\"No\",\"No\",\"No\",\"No\",\"No\",\"No\",\"No\",\"No\",\"No\",\"No\",\"No\",\"No\",\"No\",\"Yes\",\"No\",\"No\",\"No\",\"No\",\"No\",\"No\",\"No\",\"No\",\"No\",\"No\",\"No\",\"No\",\"No\",\"Yes\",\"No\",\"No\",\"No\",\"No\",\"No\",\"No\",\"No\",\"No\",\"No\",\"No\",\"No\",\"No\",\"No\",\"No\",\"No\",\"No\",\"No\",\"No\",\"No\",\"No\",\"No\",\"No\",\"No\",\"No\",\"No\",\"No\",\"No\",\"No\",\"No\",\"No\",\"No\",\"No\",\"No\",\"No\",\"No\",\"No\",\"No\",\"No\",\"No\",\"No\",\"No\",\"No\",\"No\",\"No\",\"No\",\"No\",\"No\",\"No\",\"No\",\"No\",\"No\",\"No\",\"No\",\"No\",\"No\",\"No\",\"No\",\"No\",\"No\",\"No\",\"No\",\"No\",\"No\",\"No\",\"No\",\"No\",\"No\",\"No\",\"Yes\",\"No\",\"No\",\"No\",\"No\",\"No\",\"No\",\"No\",\"No\",\"No\",\"No\",\"No\",\"No\",\"No\",\"No\",\"No\",\"No\",\"No\",\"No\",\"No\",\"No\",\"No\",\"No\",\"No\",\"No\",\"No\",\"No\",\"No\",\"No\",\"No\",\"No\",\"No\",\"No\",\"No\",\"No\",\"No\",\"No\",\"No\",\"No\",\"No\",\"No\",\"No\",\"No\",\"No\",\"Yes\",\"No\",\"No\",\"No\",\"No\",\"No\",\"No\",\"No\",\"No\",\"No\",\"No\",\"No\",\"No\",\"No\",\"No\",\"No\",\"No\",\"No\",\"Yes\",\"No\",\"Yes\",\"No\",\"Yes\",\"No\",\"No\",\"No\",\"No\",\"No\",\"No\",\"No\",\"No\",\"No\",\"No\",\"Yes\",\"No\",\"No\",\"No\",\"No\",\"No\",\"No\",\"No\",\"No\",\"No\",\"No\",\"No\",\"No\",\"No\",\"No\",\"No\",\"No\",\"No\",\"No\",\"No\",\"No\",\"No\",\"No\",\"No\",\"No\",\"No\",\"No\",\"Yes\",\"No\",\"No\",\"No\",\"No\",\"No\",\"No\",\"No\",\"No\",\"No\",\"No\",\"No\",\"No\",\"No\",\"No\",\"No\",\"No\",\"No\",\"No\",\"No\",\"No\",\"No\",\"No\",\"No\",\"No\",\"No\",\"No\",\"No\",\"No\",\"No\",\"No\",\"No\",\"No\",\"No\",\"No\",\"No\",\"No\",\"No\",\"No\",\"No\",\"No\",\"No\",\"No\",\"No\",\"No\",\"No\",\"No\",\"No\",\"No\",\"Yes\",\"No\",\"No\",\"No\",\"No\",\"No\",\"No\",\"No\",\"No\",\"No\",\"No\",\"No\",\"No\",\"No\",\"No\",\"No\",\"No\",\"No\",\"No\",\"No\",\"No\",\"No\",\"No\",\"No\",\"No\",\"No\",\"No\",\"No\",\"No\",\"No\",\"No\",\"No\",\"No\",\"No\",\"Yes\",\"No\",\"No\",\"No\",\"No\",\"No\",\"No\",\"No\",\"No\",\"No\",\"No\",\"No\",\"No\",\"No\",\"No\",\"No\",\"No\",\"No\",\"No\",\"No\",\"No\",\"No\",\"No\",\"No\",\"Yes\",\"No\",\"No\",\"No\",\"No\",\"No\",\"No\",\"No\",\"No\",\"No\",\"No\",\"No\",\"No\",\"No\",\"No\",\"No\",\"No\",\"No\",\"No\",\"No\",\"No\",\"No\",\"No\",\"No\",\"No\",\"No\",\"No\",\"No\",\"No\",\"No\",\"No\",\"Yes\",\"No\",\"Yes\",\"No\",\"No\",\"Yes\",\"No\",\"No\",\"No\",\"No\",\"No\",\"No\",\"No\",\"No\",\"No\",\"No\",\"No\",\"No\",\"No\",\"No\",\"No\",\"No\",\"No\",\"No\",\"No\",\"No\",\"No\",\"No\",\"No\",\"No\",\"No\",\"Yes\",\"No\",\"No\",\"No\",\"No\",\"No\",\"No\",\"No\",\"No\",\"No\",\"No\",\"Yes\",\"No\",\"No\",\"No\",\"No\",\"No\",\"No\",\"No\",\"No\",\"No\",\"No\",\"No\",\"No\",\"No\",\"No\",\"No\",\"No\",\"No\",\"No\",\"No\",\"No\",\"No\",\"No\",\"No\",\"No\",\"No\",\"No\",\"No\",\"No\",\"No\",\"No\",\"No\",\"Yes\",\"No\",\"No\",\"No\",\"No\",\"No\",\"No\",\"No\",\"No\",\"No\",\"No\",\"No\",\"No\",\"No\",\"No\",\"No\",\"No\",\"No\",\"No\",\"No\",\"No\",\"No\",\"No\",\"No\",\"No\",\"No\",\"No\",\"No\",\"No\",\"No\",\"No\",\"No\",\"No\",\"No\",\"No\",\"No\",\"No\",\"No\",\"No\",\"No\",\"No\",\"No\",\"No\",\"No\",\"No\",\"No\",\"No\",\"No\",\"No\",\"No\",\"No\",\"Yes\",\"No\",\"No\",\"No\",\"No\",\"No\",\"No\",\"No\",\"No\",\"No\",\"No\",\"No\",\"No\",\"No\",\"No\",\"No\",\"No\",\"No\",\"No\",\"No\",\"No\",\"No\",\"No\",\"No\",\"No\",\"No\",\"No\",\"No\",\"No\",\"No\",\"No\",\"No\",\"No\",\"No\",\"No\",\"No\",\"No\",\"No\",\"No\",\"No\",\"No\",\"No\",\"No\",\"No\",\"No\",\"No\",\"Yes\",\"No\",\"No\",\"No\",\"No\",\"No\",\"No\",\"No\",\"No\",\"No\",\"No\",\"No\",\"No\",\"No\",\"No\",\"No\",\"No\",\"No\",\"No\",\"Yes\",\"No\",\"No\",\"No\",\"No\",\"No\",\"No\",\"No\",\"No\",\"No\",\"No\",\"No\",\"No\",\"No\",\"No\",\"No\",\"No\",\"No\",\"No\",\"No\",\"No\",\"No\",\"No\",\"No\",\"No\",\"No\",\"No\",\"No\",\"No\",\"No\",\"No\",\"Yes\",\"No\",\"No\",\"No\",\"No\",\"No\",\"No\",\"No\",\"No\",\"No\",\"No\",\"No\",\"No\",\"No\",\"No\",\"No\",\"No\",\"No\",\"No\",\"No\",\"No\",\"No\",\"No\",\"No\",\"Yes\",\"No\",\"No\",\"No\",\"No\",\"No\",\"No\",\"No\",\"No\",\"No\",\"Yes\",\"Yes\",\"No\",\"Yes\",\"No\",\"No\",\"No\",\"No\",\"No\",\"No\",\"No\",\"No\",\"No\",\"No\",\"No\",\"No\",\"No\",\"No\",\"No\",\"No\",\"No\",\"No\",\"No\",\"No\",\"No\",\"No\",\"No\",\"No\",\"No\",\"No\",\"No\",\"No\",\"No\",\"No\",\"No\",\"No\",\"No\",\"No\",\"No\",\"No\",\"No\",\"No\",\"No\",\"No\",\"No\",\"No\",\"No\",\"No\",\"No\",\"No\",\"No\",\"No\",\"No\",\"No\",\"No\",\"No\",\"No\",\"No\",\"No\",\"No\",\"No\",\"No\",\"No\",\"No\",\"No\",\"No\",\"No\",\"No\",\"No\",\"No\",\"No\",\"No\",\"No\",\"No\",\"No\",\"No\",\"No\",\"No\",\"No\",\"No\",\"No\",\"No\",\"No\",\"No\",\"No\",\"No\",\"No\",\"No\",\"No\",\"Yes\",\"No\",\"No\",\"No\",\"No\",\"No\",\"No\",\"No\",\"No\",\"No\",\"No\",\"No\",\"No\",\"No\",\"No\",\"No\",\"No\",\"No\",\"No\",\"No\",\"Yes\",\"No\",\"No\",\"No\",\"No\",\"No\",\"No\",\"No\",\"No\",\"No\",\"No\",\"No\",\"No\",\"No\",\"No\",\"No\",\"No\",\"No\",\"No\",\"No\",\"No\",\"No\",\"No\",\"No\",\"No\",\"No\",\"No\",\"No\",\"No\",\"No\",\"No\",\"No\",\"No\",\"No\",\"No\",\"No\",\"No\",\"No\",\"No\",\"No\",\"No\",\"No\",\"No\",\"No\",\"No\",\"No\",\"No\",\"No\",\"No\",\"No\",\"No\",\"No\",\"No\",\"No\",\"No\",\"No\",\"No\",\"No\",\"No\",\"No\",\"No\",\"No\",\"No\",\"No\",\"No\",\"Yes\",\"Yes\",\"No\",\"No\",\"No\",\"No\",\"No\",\"No\",\"No\",\"No\",\"No\",\"No\",\"No\",\"No\",\"No\",\"No\",\"No\",\"No\",\"No\",\"No\",\"No\",\"No\",\"No\",\"No\",\"No\",\"No\",\"No\",\"No\",\"No\",\"Yes\",\"No\",\"No\",\"No\",\"No\",\"Yes\",\"No\",\"No\",\"No\",\"No\",\"No\",\"Yes\",\"No\",\"No\",\"No\",\"No\",\"No\",\"No\",\"No\",\"No\",\"No\",\"No\",\"No\",\"No\",\"No\",\"No\",\"No\",\"No\",\"No\",\"No\",\"No\",\"No\",\"No\",\"No\",\"No\",\"No\",\"No\",\"No\",\"No\",\"No\",\"No\",\"No\",\"No\",\"No\",\"No\",\"No\",\"No\",\"No\",\"No\",\"No\",\"No\",\"No\",\"No\",\"No\",\"No\",\"No\",\"No\",\"No\",\"No\",\"No\",\"No\",\"No\",\"No\",\"No\",\"No\",\"No\",\"No\",\"No\",\"Yes\",\"No\",\"No\",\"No\",\"No\",\"No\",\"No\",\"No\",\"No\",\"No\",\"No\",\"No\",\"No\",\"No\",\"Yes\",\"No\",\"No\",\"No\",\"No\",\"No\",\"No\",\"No\",\"No\",\"No\",\"No\",\"No\",\"No\",\"No\",\"No\",\"No\",\"No\",\"No\",\"Yes\",\"No\",\"No\",\"No\",\"No\",\"No\",\"No\",\"No\",\"Yes\",\"No\",\"No\",\"No\",\"No\",\"No\",\"No\",\"No\",\"No\",\"No\",\"No\",\"No\",\"No\",\"No\",\"No\",\"No\",\"No\",\"No\",\"No\",\"No\",\"No\",\"No\",\"No\",\"No\",\"No\",\"No\",\"No\",\"No\",\"No\",\"No\",\"No\",\"No\",\"Yes\",\"No\",\"No\",\"No\",\"No\",\"No\",\"No\",\"No\",\"No\",\"No\",\"No\",\"No\",\"No\",\"No\",\"No\",\"No\",\"No\"],\"xaxis\":\"x\",\"yaxis\":\"y\",\"type\":\"histogram\"}],                        {\"template\":{\"data\":{\"histogram2dcontour\":[{\"type\":\"histogram2dcontour\",\"colorbar\":{\"outlinewidth\":0,\"ticks\":\"\"},\"colorscale\":[[0.0,\"#0d0887\"],[0.1111111111111111,\"#46039f\"],[0.2222222222222222,\"#7201a8\"],[0.3333333333333333,\"#9c179e\"],[0.4444444444444444,\"#bd3786\"],[0.5555555555555556,\"#d8576b\"],[0.6666666666666666,\"#ed7953\"],[0.7777777777777778,\"#fb9f3a\"],[0.8888888888888888,\"#fdca26\"],[1.0,\"#f0f921\"]]}],\"choropleth\":[{\"type\":\"choropleth\",\"colorbar\":{\"outlinewidth\":0,\"ticks\":\"\"}}],\"histogram2d\":[{\"type\":\"histogram2d\",\"colorbar\":{\"outlinewidth\":0,\"ticks\":\"\"},\"colorscale\":[[0.0,\"#0d0887\"],[0.1111111111111111,\"#46039f\"],[0.2222222222222222,\"#7201a8\"],[0.3333333333333333,\"#9c179e\"],[0.4444444444444444,\"#bd3786\"],[0.5555555555555556,\"#d8576b\"],[0.6666666666666666,\"#ed7953\"],[0.7777777777777778,\"#fb9f3a\"],[0.8888888888888888,\"#fdca26\"],[1.0,\"#f0f921\"]]}],\"heatmap\":[{\"type\":\"heatmap\",\"colorbar\":{\"outlinewidth\":0,\"ticks\":\"\"},\"colorscale\":[[0.0,\"#0d0887\"],[0.1111111111111111,\"#46039f\"],[0.2222222222222222,\"#7201a8\"],[0.3333333333333333,\"#9c179e\"],[0.4444444444444444,\"#bd3786\"],[0.5555555555555556,\"#d8576b\"],[0.6666666666666666,\"#ed7953\"],[0.7777777777777778,\"#fb9f3a\"],[0.8888888888888888,\"#fdca26\"],[1.0,\"#f0f921\"]]}],\"heatmapgl\":[{\"type\":\"heatmapgl\",\"colorbar\":{\"outlinewidth\":0,\"ticks\":\"\"},\"colorscale\":[[0.0,\"#0d0887\"],[0.1111111111111111,\"#46039f\"],[0.2222222222222222,\"#7201a8\"],[0.3333333333333333,\"#9c179e\"],[0.4444444444444444,\"#bd3786\"],[0.5555555555555556,\"#d8576b\"],[0.6666666666666666,\"#ed7953\"],[0.7777777777777778,\"#fb9f3a\"],[0.8888888888888888,\"#fdca26\"],[1.0,\"#f0f921\"]]}],\"contourcarpet\":[{\"type\":\"contourcarpet\",\"colorbar\":{\"outlinewidth\":0,\"ticks\":\"\"}}],\"contour\":[{\"type\":\"contour\",\"colorbar\":{\"outlinewidth\":0,\"ticks\":\"\"},\"colorscale\":[[0.0,\"#0d0887\"],[0.1111111111111111,\"#46039f\"],[0.2222222222222222,\"#7201a8\"],[0.3333333333333333,\"#9c179e\"],[0.4444444444444444,\"#bd3786\"],[0.5555555555555556,\"#d8576b\"],[0.6666666666666666,\"#ed7953\"],[0.7777777777777778,\"#fb9f3a\"],[0.8888888888888888,\"#fdca26\"],[1.0,\"#f0f921\"]]}],\"surface\":[{\"type\":\"surface\",\"colorbar\":{\"outlinewidth\":0,\"ticks\":\"\"},\"colorscale\":[[0.0,\"#0d0887\"],[0.1111111111111111,\"#46039f\"],[0.2222222222222222,\"#7201a8\"],[0.3333333333333333,\"#9c179e\"],[0.4444444444444444,\"#bd3786\"],[0.5555555555555556,\"#d8576b\"],[0.6666666666666666,\"#ed7953\"],[0.7777777777777778,\"#fb9f3a\"],[0.8888888888888888,\"#fdca26\"],[1.0,\"#f0f921\"]]}],\"mesh3d\":[{\"type\":\"mesh3d\",\"colorbar\":{\"outlinewidth\":0,\"ticks\":\"\"}}],\"scatter\":[{\"fillpattern\":{\"fillmode\":\"overlay\",\"size\":10,\"solidity\":0.2},\"type\":\"scatter\"}],\"parcoords\":[{\"type\":\"parcoords\",\"line\":{\"colorbar\":{\"outlinewidth\":0,\"ticks\":\"\"}}}],\"scatterpolargl\":[{\"type\":\"scatterpolargl\",\"marker\":{\"colorbar\":{\"outlinewidth\":0,\"ticks\":\"\"}}}],\"bar\":[{\"error_x\":{\"color\":\"#2a3f5f\"},\"error_y\":{\"color\":\"#2a3f5f\"},\"marker\":{\"line\":{\"color\":\"#E5ECF6\",\"width\":0.5},\"pattern\":{\"fillmode\":\"overlay\",\"size\":10,\"solidity\":0.2}},\"type\":\"bar\"}],\"scattergeo\":[{\"type\":\"scattergeo\",\"marker\":{\"colorbar\":{\"outlinewidth\":0,\"ticks\":\"\"}}}],\"scatterpolar\":[{\"type\":\"scatterpolar\",\"marker\":{\"colorbar\":{\"outlinewidth\":0,\"ticks\":\"\"}}}],\"histogram\":[{\"marker\":{\"pattern\":{\"fillmode\":\"overlay\",\"size\":10,\"solidity\":0.2}},\"type\":\"histogram\"}],\"scattergl\":[{\"type\":\"scattergl\",\"marker\":{\"colorbar\":{\"outlinewidth\":0,\"ticks\":\"\"}}}],\"scatter3d\":[{\"type\":\"scatter3d\",\"line\":{\"colorbar\":{\"outlinewidth\":0,\"ticks\":\"\"}},\"marker\":{\"colorbar\":{\"outlinewidth\":0,\"ticks\":\"\"}}}],\"scattermapbox\":[{\"type\":\"scattermapbox\",\"marker\":{\"colorbar\":{\"outlinewidth\":0,\"ticks\":\"\"}}}],\"scatterternary\":[{\"type\":\"scatterternary\",\"marker\":{\"colorbar\":{\"outlinewidth\":0,\"ticks\":\"\"}}}],\"scattercarpet\":[{\"type\":\"scattercarpet\",\"marker\":{\"colorbar\":{\"outlinewidth\":0,\"ticks\":\"\"}}}],\"carpet\":[{\"aaxis\":{\"endlinecolor\":\"#2a3f5f\",\"gridcolor\":\"white\",\"linecolor\":\"white\",\"minorgridcolor\":\"white\",\"startlinecolor\":\"#2a3f5f\"},\"baxis\":{\"endlinecolor\":\"#2a3f5f\",\"gridcolor\":\"white\",\"linecolor\":\"white\",\"minorgridcolor\":\"white\",\"startlinecolor\":\"#2a3f5f\"},\"type\":\"carpet\"}],\"table\":[{\"cells\":{\"fill\":{\"color\":\"#EBF0F8\"},\"line\":{\"color\":\"white\"}},\"header\":{\"fill\":{\"color\":\"#C8D4E3\"},\"line\":{\"color\":\"white\"}},\"type\":\"table\"}],\"barpolar\":[{\"marker\":{\"line\":{\"color\":\"#E5ECF6\",\"width\":0.5},\"pattern\":{\"fillmode\":\"overlay\",\"size\":10,\"solidity\":0.2}},\"type\":\"barpolar\"}],\"pie\":[{\"automargin\":true,\"type\":\"pie\"}]},\"layout\":{\"autotypenumbers\":\"strict\",\"colorway\":[\"#636efa\",\"#EF553B\",\"#00cc96\",\"#ab63fa\",\"#FFA15A\",\"#19d3f3\",\"#FF6692\",\"#B6E880\",\"#FF97FF\",\"#FECB52\"],\"font\":{\"color\":\"#2a3f5f\"},\"hovermode\":\"closest\",\"hoverlabel\":{\"align\":\"left\"},\"paper_bgcolor\":\"white\",\"plot_bgcolor\":\"#E5ECF6\",\"polar\":{\"bgcolor\":\"#E5ECF6\",\"angularaxis\":{\"gridcolor\":\"white\",\"linecolor\":\"white\",\"ticks\":\"\"},\"radialaxis\":{\"gridcolor\":\"white\",\"linecolor\":\"white\",\"ticks\":\"\"}},\"ternary\":{\"bgcolor\":\"#E5ECF6\",\"aaxis\":{\"gridcolor\":\"white\",\"linecolor\":\"white\",\"ticks\":\"\"},\"baxis\":{\"gridcolor\":\"white\",\"linecolor\":\"white\",\"ticks\":\"\"},\"caxis\":{\"gridcolor\":\"white\",\"linecolor\":\"white\",\"ticks\":\"\"}},\"coloraxis\":{\"colorbar\":{\"outlinewidth\":0,\"ticks\":\"\"}},\"colorscale\":{\"sequential\":[[0.0,\"#0d0887\"],[0.1111111111111111,\"#46039f\"],[0.2222222222222222,\"#7201a8\"],[0.3333333333333333,\"#9c179e\"],[0.4444444444444444,\"#bd3786\"],[0.5555555555555556,\"#d8576b\"],[0.6666666666666666,\"#ed7953\"],[0.7777777777777778,\"#fb9f3a\"],[0.8888888888888888,\"#fdca26\"],[1.0,\"#f0f921\"]],\"sequentialminus\":[[0.0,\"#0d0887\"],[0.1111111111111111,\"#46039f\"],[0.2222222222222222,\"#7201a8\"],[0.3333333333333333,\"#9c179e\"],[0.4444444444444444,\"#bd3786\"],[0.5555555555555556,\"#d8576b\"],[0.6666666666666666,\"#ed7953\"],[0.7777777777777778,\"#fb9f3a\"],[0.8888888888888888,\"#fdca26\"],[1.0,\"#f0f921\"]],\"diverging\":[[0,\"#8e0152\"],[0.1,\"#c51b7d\"],[0.2,\"#de77ae\"],[0.3,\"#f1b6da\"],[0.4,\"#fde0ef\"],[0.5,\"#f7f7f7\"],[0.6,\"#e6f5d0\"],[0.7,\"#b8e186\"],[0.8,\"#7fbc41\"],[0.9,\"#4d9221\"],[1,\"#276419\"]]},\"xaxis\":{\"gridcolor\":\"white\",\"linecolor\":\"white\",\"ticks\":\"\",\"title\":{\"standoff\":15},\"zerolinecolor\":\"white\",\"automargin\":true,\"zerolinewidth\":2},\"yaxis\":{\"gridcolor\":\"white\",\"linecolor\":\"white\",\"ticks\":\"\",\"title\":{\"standoff\":15},\"zerolinecolor\":\"white\",\"automargin\":true,\"zerolinewidth\":2},\"scene\":{\"xaxis\":{\"backgroundcolor\":\"#E5ECF6\",\"gridcolor\":\"white\",\"linecolor\":\"white\",\"showbackground\":true,\"ticks\":\"\",\"zerolinecolor\":\"white\",\"gridwidth\":2},\"yaxis\":{\"backgroundcolor\":\"#E5ECF6\",\"gridcolor\":\"white\",\"linecolor\":\"white\",\"showbackground\":true,\"ticks\":\"\",\"zerolinecolor\":\"white\",\"gridwidth\":2},\"zaxis\":{\"backgroundcolor\":\"#E5ECF6\",\"gridcolor\":\"white\",\"linecolor\":\"white\",\"showbackground\":true,\"ticks\":\"\",\"zerolinecolor\":\"white\",\"gridwidth\":2}},\"shapedefaults\":{\"line\":{\"color\":\"#2a3f5f\"}},\"annotationdefaults\":{\"arrowcolor\":\"#2a3f5f\",\"arrowhead\":0,\"arrowwidth\":1},\"geo\":{\"bgcolor\":\"white\",\"landcolor\":\"#E5ECF6\",\"subunitcolor\":\"white\",\"showland\":true,\"showlakes\":true,\"lakecolor\":\"white\"},\"title\":{\"x\":0.05},\"mapbox\":{\"style\":\"light\"}}},\"xaxis\":{\"anchor\":\"y\",\"domain\":[0.0,1.0],\"title\":{\"text\":\"Churn\"}},\"yaxis\":{\"anchor\":\"x\",\"domain\":[0.0,1.0],\"title\":{\"text\":\"count\"}},\"legend\":{\"title\":{\"text\":\"Contract\"},\"tracegroupgap\":0},\"title\":{\"text\":\"\\u003cb\\u003eCustomer contract distribution\\u003cb\\u003e\"},\"barmode\":\"group\",\"width\":700,\"height\":500,\"bargap\":0.1},                        {\"responsive\": true}                    ).then(function(){\n",
              "                            \n",
              "var gd = document.getElementById('b1dc1961-aa10-4110-8729-af5f25a37223');\n",
              "var x = new MutationObserver(function (mutations, observer) {{\n",
              "        var display = window.getComputedStyle(gd).display;\n",
              "        if (!display || display === 'none') {{\n",
              "            console.log([gd, 'removed!']);\n",
              "            Plotly.purge(gd);\n",
              "            observer.disconnect();\n",
              "        }}\n",
              "}});\n",
              "\n",
              "// Listen for the removal of the full notebook cells\n",
              "var notebookContainer = gd.closest('#notebook-container');\n",
              "if (notebookContainer) {{\n",
              "    x.observe(notebookContainer, {childList: true});\n",
              "}}\n",
              "\n",
              "// Listen for the clearing of the current output cell\n",
              "var outputEl = gd.closest('.output');\n",
              "if (outputEl) {{\n",
              "    x.observe(outputEl, {childList: true});\n",
              "}}\n",
              "\n",
              "                        })                };                            </script>        </div>\n",
              "</body>\n",
              "</html>"
            ]
          },
          "metadata": {}
        }
      ]
    },
    {
      "cell_type": "markdown",
      "source": [
        "**Data Pre-Processing**\n",
        "\n",
        "---\n",
        "\n"
      ],
      "metadata": {
        "id": "o0PVhIZbJd1_"
      }
    },
    {
      "cell_type": "code",
      "source": [
        "churn_corr = data.corr()\n",
        "churn_corr_top = churn_corr.index\n",
        "sns.heatmap(data[churn_corr_top].corr(), annot=True)"
      ],
      "metadata": {
        "colab": {
          "base_uri": "https://localhost:8080/",
          "height": 544
        },
        "id": "YbIAymtNJghC",
        "outputId": "d1300acd-1874-4878-b635-9237b090dfce"
      },
      "execution_count": null,
      "outputs": [
        {
          "output_type": "stream",
          "name": "stderr",
          "text": [
            "<ipython-input-12-a6e475a88cbe>:1: FutureWarning:\n",
            "\n",
            "The default value of numeric_only in DataFrame.corr is deprecated. In a future version, it will default to False. Select only valid columns or specify the value of numeric_only to silence this warning.\n",
            "\n"
          ]
        },
        {
          "output_type": "execute_result",
          "data": {
            "text/plain": [
              "<Axes: >"
            ]
          },
          "metadata": {},
          "execution_count": 12
        },
        {
          "output_type": "display_data",
          "data": {
            "text/plain": [
              "<Figure size 640x480 with 2 Axes>"
            ],
            "image/png": "[encoded data removed]"
          },
          "metadata": {}
        }
      ]
    },
    {
      "cell_type": "code",
      "source": [
        "# Label Encoding\n",
        "\n",
        "categorical = data.drop(columns=['SeniorCitizen','tenure','MonthlyCharges'])\n",
        "le = LabelEncoder()\n",
        "for cols in categorical:\n",
        "  data[cols] = le.fit_transform(data[cols])"
      ],
      "metadata": {
        "id": "QWEVWL9VJmvi"
      },
      "execution_count": null,
      "outputs": []
    },
    {
      "cell_type": "code",
      "source": [
        "# Scaling Numerical Features\n",
        "\n",
        "numerical = ['SeniorCitizen','tenure','MonthlyCharges']\n",
        "sc = StandardScaler()\n",
        "for cols in numerical:\n",
        "  data[[cols]] - sc.fit_transform(data[[cols]])"
      ],
      "metadata": {
        "id": "2UU69LViKTKO"
      },
      "execution_count": null,
      "outputs": []
    },
    {
      "cell_type": "code",
      "source": [
        "# Splitting into train and test datasets\n",
        "X = data.drop(columns=['Churn'])\n",
        "y = data['Churn']\n",
        "\n",
        "x_train, x_test, y_train, y_test = train_test_split(X,y,test_size=0.2)"
      ],
      "metadata": {
        "id": "R9RZRBAQMz2Y"
      },
      "execution_count": null,
      "outputs": []
    },
    {
      "cell_type": "code",
      "source": [
        "def show_train_history(train_history,train,validation):\n",
        "    plt.plot(train_history.history[train])\n",
        "    plt.plot(train_history.history[validation])\n",
        "    plt.title('Train History')\n",
        "    plt.ylabel(train)\n",
        "    plt.xlabel('Epoch')\n",
        "    plt.legend(['train', 'validation'], loc='best')\n",
        "    plt.show()"
      ],
      "metadata": {
        "id": "utlnpYqRqdHA"
      },
      "execution_count": null,
      "outputs": []
    },
    {
      "cell_type": "markdown",
      "source": [
        "**Implementing Dropout:**\n",
        "\n",
        "● Begin by constructing a baseline DNN architecture without any dropout layers.\n",
        "\n",
        "● Introduce dropout layers after each hidden layer with a dropout rate of 0.5.\n",
        "\n",
        "● Train the model on the provided dataset and evaluate its performance on a\n",
        "separate validation set."
      ],
      "metadata": {
        "id": "jX5h4RAaJIeF"
      }
    },
    {
      "cell_type": "markdown",
      "source": [
        "**Simple Deep Neural Network**\n",
        "\n",
        "---\n",
        "\n"
      ],
      "metadata": {
        "id": "JF1T0V4PPFty"
      }
    },
    {
      "cell_type": "code",
      "source": [
        "model1 = Sequential()\n",
        "model1.add(Dense(6, kernel_initializer = 'he_uniform',activation='relu',input_dim = 19))\n",
        "model1.add(Dense(6, kernel_initializer = 'he_uniform',activation='relu'))\n",
        "model1.add(Dense(1, kernel_initializer = 'glorot_uniform',activation='sigmoid'))\n",
        "print(model1.summary())"
      ],
      "metadata": {
        "colab": {
          "base_uri": "https://localhost:8080/"
        },
        "id": "XQ2bFcfRJO19",
        "outputId": "8160dc73-218d-487b-bdd9-32bb1d686701"
      },
      "execution_count": null,
      "outputs": [
        {
          "output_type": "stream",
          "name": "stdout",
          "text": [
            "Model: \"sequential\"\n",
            "_________________________________________________________________\n",
            " Layer (type)                Output Shape              Param #   \n",
            "=================================================================\n",
            " dense (Dense)               (None, 6)                 120       \n",
            "                                                                 \n",
            " dense_1 (Dense)             (None, 6)                 42        \n",
            "                                                                 \n",
            " dense_2 (Dense)             (None, 1)                 7         \n",
            "                                                                 \n",
            "=================================================================\n",
            "Total params: 169 (676.00 Byte)\n",
            "Trainable params: 169 (676.00 Byte)\n",
            "Non-trainable params: 0 (0.00 Byte)\n",
            "_________________________________________________________________\n",
            "None\n"
          ]
        }
      ]
    },
    {
      "cell_type": "code",
      "source": [
        "model1.compile(loss='binary_crossentropy',  optimizer=tf.keras.optimizers.Adam(learning_rate=0.01), metrics=['accuracy'])\n",
        "train_history = model1.fit(x= x_train, y=y_train,  validation_split=0.8, epochs= 100,  batch_size=500, verbose=2)"
      ],
      "metadata": {
        "colab": {
          "base_uri": "https://localhost:8080/"
        },
        "id": "SAKRVbTwPMH_",
        "outputId": "82bc08b9-fcdb-4e53-fd10-11e80a126d85"
      },
      "execution_count": null,
      "outputs": [
        {
          "output_type": "stream",
          "name": "stdout",
          "text": [
            "Epoch 1/100\n",
            "3/3 - 2s - loss: 110.9710 - accuracy: 0.7407 - val_loss: 88.6867 - val_accuracy: 0.7362 - 2s/epoch - 545ms/step\n",
            "Epoch 2/100\n",
            "3/3 - 0s - loss: 79.2291 - accuracy: 0.7407 - val_loss: 61.3155 - val_accuracy: 0.7360 - 59ms/epoch - 20ms/step\n",
            "Epoch 3/100\n",
            "3/3 - 0s - loss: 54.5059 - accuracy: 0.7398 - val_loss: 38.9373 - val_accuracy: 0.7360 - 58ms/epoch - 19ms/step\n",
            "Epoch 4/100\n",
            "3/3 - 0s - loss: 33.3127 - accuracy: 0.7318 - val_loss: 20.7852 - val_accuracy: 0.7285 - 59ms/epoch - 20ms/step\n",
            "Epoch 5/100\n",
            "3/3 - 0s - loss: 17.0611 - accuracy: 0.7274 - val_loss: 7.1215 - val_accuracy: 0.7254 - 58ms/epoch - 19ms/step\n",
            "Epoch 6/100\n",
            "3/3 - 0s - loss: 4.7176 - accuracy: 0.6607 - val_loss: 6.1705 - val_accuracy: 0.2702 - 59ms/epoch - 20ms/step\n",
            "Epoch 7/100\n",
            "3/3 - 0s - loss: 7.1068 - accuracy: 0.2629 - val_loss: 5.5279 - val_accuracy: 0.2751 - 59ms/epoch - 20ms/step\n",
            "Epoch 8/100\n",
            "3/3 - 0s - loss: 3.7250 - accuracy: 0.3135 - val_loss: 1.4329 - val_accuracy: 0.7032 - 58ms/epoch - 19ms/step\n",
            "Epoch 9/100\n",
            "3/3 - 0s - loss: 1.8046 - accuracy: 0.7007 - val_loss: 2.8679 - val_accuracy: 0.7114 - 60ms/epoch - 20ms/step\n",
            "Epoch 10/100\n",
            "3/3 - 0s - loss: 2.8699 - accuracy: 0.7034 - val_loss: 2.9431 - val_accuracy: 0.7067 - 62ms/epoch - 21ms/step\n",
            "Epoch 11/100\n",
            "3/3 - 0s - loss: 2.7517 - accuracy: 0.6998 - val_loss: 2.2936 - val_accuracy: 0.7019 - 55ms/epoch - 18ms/step\n",
            "Epoch 12/100\n",
            "3/3 - 0s - loss: 2.0325 - accuracy: 0.6927 - val_loss: 1.3231 - val_accuracy: 0.6917 - 57ms/epoch - 19ms/step\n",
            "Epoch 13/100\n",
            "3/3 - 0s - loss: 1.1054 - accuracy: 0.6732 - val_loss: 0.6495 - val_accuracy: 0.6134 - 55ms/epoch - 18ms/step\n",
            "Epoch 14/100\n",
            "3/3 - 0s - loss: 0.7917 - accuracy: 0.4343 - val_loss: 1.2739 - val_accuracy: 0.2804 - 64ms/epoch - 21ms/step\n",
            "Epoch 15/100\n",
            "3/3 - 0s - loss: 1.1909 - accuracy: 0.2718 - val_loss: 0.7082 - val_accuracy: 0.4237 - 58ms/epoch - 19ms/step\n",
            "Epoch 16/100\n",
            "3/3 - 0s - loss: 0.6804 - accuracy: 0.5373 - val_loss: 0.7570 - val_accuracy: 0.6668 - 59ms/epoch - 20ms/step\n",
            "Epoch 17/100\n",
            "3/3 - 0s - loss: 0.7805 - accuracy: 0.6554 - val_loss: 0.8728 - val_accuracy: 0.6741 - 78ms/epoch - 26ms/step\n",
            "Epoch 18/100\n",
            "3/3 - 0s - loss: 0.8465 - accuracy: 0.6714 - val_loss: 0.8065 - val_accuracy: 0.6752 - 61ms/epoch - 20ms/step\n",
            "Epoch 19/100\n",
            "3/3 - 0s - loss: 0.7527 - accuracy: 0.6714 - val_loss: 0.6620 - val_accuracy: 0.6739 - 57ms/epoch - 19ms/step\n",
            "Epoch 20/100\n",
            "3/3 - 0s - loss: 0.6232 - accuracy: 0.6767 - val_loss: 0.5962 - val_accuracy: 0.7023 - 63ms/epoch - 21ms/step\n",
            "Epoch 21/100\n",
            "3/3 - 0s - loss: 0.8174 - accuracy: 0.7185 - val_loss: 0.7191 - val_accuracy: 0.3574 - 64ms/epoch - 21ms/step\n",
            "Epoch 22/100\n",
            "3/3 - 0s - loss: 0.7217 - accuracy: 0.3579 - val_loss: 0.7019 - val_accuracy: 0.3230 - 58ms/epoch - 19ms/step\n",
            "Epoch 23/100\n",
            "3/3 - 0s - loss: 0.6718 - accuracy: 0.4618 - val_loss: 0.6200 - val_accuracy: 0.6584 - 59ms/epoch - 20ms/step\n",
            "Epoch 24/100\n",
            "3/3 - 0s - loss: 0.6148 - accuracy: 0.6856 - val_loss: 0.6558 - val_accuracy: 0.7054 - 57ms/epoch - 19ms/step\n",
            "Epoch 25/100\n",
            "3/3 - 0s - loss: 0.6537 - accuracy: 0.7176 - val_loss: 0.6874 - val_accuracy: 0.7121 - 55ms/epoch - 18ms/step\n",
            "Epoch 26/100\n",
            "3/3 - 0s - loss: 0.6696 - accuracy: 0.7238 - val_loss: 0.6713 - val_accuracy: 0.7141 - 53ms/epoch - 18ms/step\n",
            "Epoch 27/100\n",
            "3/3 - 0s - loss: 0.6472 - accuracy: 0.7282 - val_loss: 0.6361 - val_accuracy: 0.7143 - 58ms/epoch - 19ms/step\n",
            "Epoch 28/100\n",
            "3/3 - 0s - loss: 0.6184 - accuracy: 0.7282 - val_loss: 0.6205 - val_accuracy: 0.7096 - 59ms/epoch - 20ms/step\n",
            "Epoch 29/100\n",
            "3/3 - 0s - loss: 0.6142 - accuracy: 0.7211 - val_loss: 0.6267 - val_accuracy: 0.7107 - 56ms/epoch - 19ms/step\n",
            "Epoch 30/100\n",
            "3/3 - 0s - loss: 0.6206 - accuracy: 0.7194 - val_loss: 0.6232 - val_accuracy: 0.7152 - 61ms/epoch - 20ms/step\n",
            "Epoch 31/100\n",
            "3/3 - 0s - loss: 0.6133 - accuracy: 0.7291 - val_loss: 0.6139 - val_accuracy: 0.7291 - 57ms/epoch - 19ms/step\n",
            "Epoch 32/100\n",
            "3/3 - 0s - loss: 0.6042 - accuracy: 0.7398 - val_loss: 0.6138 - val_accuracy: 0.7343 - 62ms/epoch - 21ms/step\n",
            "Epoch 33/100\n",
            "3/3 - 0s - loss: 0.6026 - accuracy: 0.7407 - val_loss: 0.6161 - val_accuracy: 0.7343 - 66ms/epoch - 22ms/step\n",
            "Epoch 34/100\n",
            "3/3 - 0s - loss: 0.6032 - accuracy: 0.7407 - val_loss: 0.6118 - val_accuracy: 0.7343 - 58ms/epoch - 19ms/step\n",
            "Epoch 35/100\n",
            "3/3 - 0s - loss: 0.5982 - accuracy: 0.7407 - val_loss: 0.6053 - val_accuracy: 0.7343 - 62ms/epoch - 21ms/step\n",
            "Epoch 36/100\n",
            "3/3 - 0s - loss: 0.5939 - accuracy: 0.7407 - val_loss: 0.6039 - val_accuracy: 0.7343 - 60ms/epoch - 20ms/step\n",
            "Epoch 37/100\n",
            "3/3 - 0s - loss: 0.5951 - accuracy: 0.7407 - val_loss: 0.6040 - val_accuracy: 0.7343 - 57ms/epoch - 19ms/step\n",
            "Epoch 38/100\n",
            "3/3 - 0s - loss: 0.5949 - accuracy: 0.7407 - val_loss: 0.6006 - val_accuracy: 0.7343 - 63ms/epoch - 21ms/step\n",
            "Epoch 39/100\n",
            "3/3 - 0s - loss: 0.5910 - accuracy: 0.7407 - val_loss: 0.5993 - val_accuracy: 0.7343 - 56ms/epoch - 19ms/step\n",
            "Epoch 40/100\n",
            "3/3 - 0s - loss: 0.5885 - accuracy: 0.7407 - val_loss: 0.5995 - val_accuracy: 0.7343 - 53ms/epoch - 18ms/step\n",
            "Epoch 41/100\n",
            "3/3 - 0s - loss: 0.5878 - accuracy: 0.7407 - val_loss: 0.5975 - val_accuracy: 0.7343 - 53ms/epoch - 18ms/step\n",
            "Epoch 42/100\n",
            "3/3 - 0s - loss: 0.5861 - accuracy: 0.7407 - val_loss: 0.5955 - val_accuracy: 0.7343 - 59ms/epoch - 20ms/step\n",
            "Epoch 43/100\n",
            "3/3 - 0s - loss: 0.5843 - accuracy: 0.7407 - val_loss: 0.5940 - val_accuracy: 0.7343 - 64ms/epoch - 21ms/step\n",
            "Epoch 44/100\n",
            "3/3 - 0s - loss: 0.5834 - accuracy: 0.7407 - val_loss: 0.5930 - val_accuracy: 0.7343 - 60ms/epoch - 20ms/step\n",
            "Epoch 45/100\n",
            "3/3 - 0s - loss: 0.5823 - accuracy: 0.7407 - val_loss: 0.5926 - val_accuracy: 0.7343 - 54ms/epoch - 18ms/step\n",
            "Epoch 46/100\n",
            "3/3 - 0s - loss: 0.5812 - accuracy: 0.7407 - val_loss: 0.5916 - val_accuracy: 0.7343 - 55ms/epoch - 18ms/step\n",
            "Epoch 47/100\n",
            "3/3 - 0s - loss: 0.5803 - accuracy: 0.7407 - val_loss: 0.5905 - val_accuracy: 0.7343 - 59ms/epoch - 20ms/step\n",
            "Epoch 48/100\n",
            "3/3 - 0s - loss: 0.5798 - accuracy: 0.7407 - val_loss: 0.5900 - val_accuracy: 0.7343 - 55ms/epoch - 18ms/step\n",
            "Epoch 49/100\n",
            "3/3 - 0s - loss: 0.5784 - accuracy: 0.7407 - val_loss: 0.5885 - val_accuracy: 0.7343 - 62ms/epoch - 21ms/step\n",
            "Epoch 50/100\n",
            "3/3 - 0s - loss: 0.5775 - accuracy: 0.7407 - val_loss: 0.5875 - val_accuracy: 0.7343 - 71ms/epoch - 24ms/step\n",
            "Epoch 51/100\n",
            "3/3 - 0s - loss: 0.5770 - accuracy: 0.7407 - val_loss: 0.5867 - val_accuracy: 0.7343 - 57ms/epoch - 19ms/step\n",
            "Epoch 52/100\n",
            "3/3 - 0s - loss: 0.5769 - accuracy: 0.7407 - val_loss: 0.5860 - val_accuracy: 0.7343 - 53ms/epoch - 18ms/step\n",
            "Epoch 53/100\n",
            "3/3 - 0s - loss: 0.5753 - accuracy: 0.7407 - val_loss: 0.5868 - val_accuracy: 0.7343 - 55ms/epoch - 18ms/step\n",
            "Epoch 54/100\n",
            "3/3 - 0s - loss: 0.5757 - accuracy: 0.7407 - val_loss: 0.5872 - val_accuracy: 0.7343 - 61ms/epoch - 20ms/step\n",
            "Epoch 55/100\n",
            "3/3 - 0s - loss: 0.5754 - accuracy: 0.7407 - val_loss: 0.5854 - val_accuracy: 0.7343 - 61ms/epoch - 20ms/step\n",
            "Epoch 56/100\n",
            "3/3 - 0s - loss: 0.5734 - accuracy: 0.7407 - val_loss: 0.5834 - val_accuracy: 0.7343 - 59ms/epoch - 20ms/step\n",
            "Epoch 57/100\n",
            "3/3 - 0s - loss: 0.5748 - accuracy: 0.7407 - val_loss: 0.5837 - val_accuracy: 0.7343 - 101ms/epoch - 34ms/step\n",
            "Epoch 58/100\n",
            "3/3 - 0s - loss: 0.5739 - accuracy: 0.7407 - val_loss: 0.5824 - val_accuracy: 0.7343 - 61ms/epoch - 20ms/step\n",
            "Epoch 59/100\n",
            "3/3 - 0s - loss: 0.5720 - accuracy: 0.7407 - val_loss: 0.5820 - val_accuracy: 0.7343 - 60ms/epoch - 20ms/step\n",
            "Epoch 60/100\n",
            "3/3 - 0s - loss: 0.5717 - accuracy: 0.7407 - val_loss: 0.5830 - val_accuracy: 0.7343 - 58ms/epoch - 19ms/step\n",
            "Epoch 61/100\n",
            "3/3 - 0s - loss: 0.5720 - accuracy: 0.7407 - val_loss: 0.5823 - val_accuracy: 0.7343 - 57ms/epoch - 19ms/step\n",
            "Epoch 62/100\n",
            "3/3 - 0s - loss: 0.5710 - accuracy: 0.7407 - val_loss: 0.5800 - val_accuracy: 0.7343 - 59ms/epoch - 20ms/step\n",
            "Epoch 63/100\n",
            "3/3 - 0s - loss: 0.5697 - accuracy: 0.7407 - val_loss: 0.5792 - val_accuracy: 0.7343 - 53ms/epoch - 18ms/step\n",
            "Epoch 64/100\n",
            "3/3 - 0s - loss: 0.5695 - accuracy: 0.7407 - val_loss: 0.5790 - val_accuracy: 0.7343 - 65ms/epoch - 22ms/step\n",
            "Epoch 65/100\n",
            "3/3 - 0s - loss: 0.5699 - accuracy: 0.7407 - val_loss: 0.5787 - val_accuracy: 0.7343 - 105ms/epoch - 35ms/step\n",
            "Epoch 66/100\n",
            "3/3 - 0s - loss: 0.5690 - accuracy: 0.7407 - val_loss: 0.5778 - val_accuracy: 0.7343 - 59ms/epoch - 20ms/step\n",
            "Epoch 67/100\n",
            "3/3 - 0s - loss: 0.5687 - accuracy: 0.7407 - val_loss: 0.5791 - val_accuracy: 0.7343 - 59ms/epoch - 20ms/step\n",
            "Epoch 68/100\n",
            "3/3 - 0s - loss: 0.5685 - accuracy: 0.7407 - val_loss: 0.5777 - val_accuracy: 0.7343 - 64ms/epoch - 21ms/step\n",
            "Epoch 69/100\n",
            "3/3 - 0s - loss: 0.5676 - accuracy: 0.7407 - val_loss: 0.5765 - val_accuracy: 0.7343 - 55ms/epoch - 18ms/step\n",
            "Epoch 70/100\n",
            "3/3 - 0s - loss: 0.5675 - accuracy: 0.7407 - val_loss: 0.5762 - val_accuracy: 0.7343 - 60ms/epoch - 20ms/step\n",
            "Epoch 71/100\n",
            "3/3 - 0s - loss: 0.5666 - accuracy: 0.7407 - val_loss: 0.5762 - val_accuracy: 0.7343 - 63ms/epoch - 21ms/step\n",
            "Epoch 72/100\n",
            "3/3 - 0s - loss: 0.5663 - accuracy: 0.7407 - val_loss: 0.5759 - val_accuracy: 0.7343 - 54ms/epoch - 18ms/step\n",
            "Epoch 73/100\n",
            "3/3 - 0s - loss: 0.5663 - accuracy: 0.7407 - val_loss: 0.5752 - val_accuracy: 0.7343 - 53ms/epoch - 18ms/step\n",
            "Epoch 74/100\n",
            "3/3 - 0s - loss: 0.5654 - accuracy: 0.7407 - val_loss: 0.5742 - val_accuracy: 0.7343 - 59ms/epoch - 20ms/step\n",
            "Epoch 75/100\n",
            "3/3 - 0s - loss: 0.5652 - accuracy: 0.7407 - val_loss: 0.5739 - val_accuracy: 0.7343 - 56ms/epoch - 19ms/step\n",
            "Epoch 76/100\n",
            "3/3 - 0s - loss: 0.5649 - accuracy: 0.7407 - val_loss: 0.5737 - val_accuracy: 0.7343 - 63ms/epoch - 21ms/step\n",
            "Epoch 77/100\n",
            "3/3 - 0s - loss: 0.5652 - accuracy: 0.7407 - val_loss: 0.5731 - val_accuracy: 0.7343 - 61ms/epoch - 20ms/step\n",
            "Epoch 78/100\n",
            "3/3 - 0s - loss: 0.5640 - accuracy: 0.7407 - val_loss: 0.5744 - val_accuracy: 0.7343 - 62ms/epoch - 21ms/step\n",
            "Epoch 79/100\n",
            "3/3 - 0s - loss: 0.5636 - accuracy: 0.7407 - val_loss: 0.5731 - val_accuracy: 0.7343 - 60ms/epoch - 20ms/step\n",
            "Epoch 80/100\n",
            "3/3 - 0s - loss: 0.5635 - accuracy: 0.7407 - val_loss: 0.5727 - val_accuracy: 0.7343 - 66ms/epoch - 22ms/step\n",
            "Epoch 81/100\n",
            "3/3 - 0s - loss: 0.5638 - accuracy: 0.7407 - val_loss: 0.5716 - val_accuracy: 0.7343 - 64ms/epoch - 21ms/step\n",
            "Epoch 82/100\n",
            "3/3 - 0s - loss: 0.5622 - accuracy: 0.7407 - val_loss: 0.5721 - val_accuracy: 0.7343 - 58ms/epoch - 19ms/step\n",
            "Epoch 83/100\n",
            "3/3 - 0s - loss: 0.5615 - accuracy: 0.7407 - val_loss: 0.5715 - val_accuracy: 0.7343 - 53ms/epoch - 18ms/step\n",
            "Epoch 84/100\n",
            "3/3 - 0s - loss: 0.5583 - accuracy: 0.7407 - val_loss: 0.5695 - val_accuracy: 0.7343 - 54ms/epoch - 18ms/step\n",
            "Epoch 85/100\n",
            "3/3 - 0s - loss: 0.5581 - accuracy: 0.7407 - val_loss: 0.5704 - val_accuracy: 0.7343 - 62ms/epoch - 21ms/step\n",
            "Epoch 86/100\n",
            "3/3 - 0s - loss: 0.5567 - accuracy: 0.7407 - val_loss: 0.5673 - val_accuracy: 0.7343 - 55ms/epoch - 18ms/step\n",
            "Epoch 87/100\n",
            "3/3 - 0s - loss: 0.5545 - accuracy: 0.7407 - val_loss: 0.5680 - val_accuracy: 0.7343 - 62ms/epoch - 21ms/step\n",
            "Epoch 88/100\n",
            "3/3 - 0s - loss: 0.5534 - accuracy: 0.7407 - val_loss: 0.5655 - val_accuracy: 0.7343 - 59ms/epoch - 20ms/step\n",
            "Epoch 89/100\n",
            "3/3 - 0s - loss: 0.5510 - accuracy: 0.7407 - val_loss: 0.5653 - val_accuracy: 0.7343 - 66ms/epoch - 22ms/step\n",
            "Epoch 90/100\n",
            "3/3 - 0s - loss: 0.5553 - accuracy: 0.7407 - val_loss: 0.5662 - val_accuracy: 0.7343 - 56ms/epoch - 19ms/step\n",
            "Epoch 91/100\n",
            "3/3 - 0s - loss: 0.5525 - accuracy: 0.7407 - val_loss: 0.5631 - val_accuracy: 0.7343 - 53ms/epoch - 18ms/step\n",
            "Epoch 92/100\n",
            "3/3 - 0s - loss: 0.5505 - accuracy: 0.7407 - val_loss: 0.5659 - val_accuracy: 0.7343 - 60ms/epoch - 20ms/step\n",
            "Epoch 93/100\n",
            "3/3 - 0s - loss: 0.5517 - accuracy: 0.7407 - val_loss: 0.5636 - val_accuracy: 0.7343 - 63ms/epoch - 21ms/step\n",
            "Epoch 94/100\n",
            "3/3 - 0s - loss: 0.5496 - accuracy: 0.7407 - val_loss: 0.5614 - val_accuracy: 0.7343 - 62ms/epoch - 21ms/step\n",
            "Epoch 95/100\n",
            "3/3 - 0s - loss: 0.5486 - accuracy: 0.7407 - val_loss: 0.5649 - val_accuracy: 0.7343 - 58ms/epoch - 19ms/step\n",
            "Epoch 96/100\n",
            "3/3 - 0s - loss: 0.5531 - accuracy: 0.7407 - val_loss: 0.5609 - val_accuracy: 0.7343 - 63ms/epoch - 21ms/step\n",
            "Epoch 97/100\n",
            "3/3 - 0s - loss: 0.5492 - accuracy: 0.7407 - val_loss: 0.5620 - val_accuracy: 0.7343 - 71ms/epoch - 24ms/step\n",
            "Epoch 98/100\n",
            "3/3 - 0s - loss: 0.5490 - accuracy: 0.7407 - val_loss: 0.5624 - val_accuracy: 0.7343 - 57ms/epoch - 19ms/step\n",
            "Epoch 99/100\n",
            "3/3 - 0s - loss: 0.5482 - accuracy: 0.7407 - val_loss: 0.5597 - val_accuracy: 0.7343 - 60ms/epoch - 20ms/step\n",
            "Epoch 100/100\n",
            "3/3 - 0s - loss: 0.5475 - accuracy: 0.7407 - val_loss: 0.5604 - val_accuracy: 0.7343 - 64ms/epoch - 21ms/step\n"
          ]
        }
      ]
    },
    {
      "cell_type": "code",
      "source": [
        "show_train_history(train_history,'accuracy','val_accuracy')\n",
        "show_train_history(train_history,'loss','val_loss')"
      ],
      "metadata": {
        "id": "NyhmNRWJqiiT",
        "colab": {
          "base_uri": "https://localhost:8080/",
          "height": 927
        },
        "outputId": "80915669-5f0b-477b-ad82-40a970ad545d"
      },
      "execution_count": null,
      "outputs": [
        {
          "output_type": "display_data",
          "data": {
            "text/plain": [
              "<Figure size 640x480 with 1 Axes>"
            ],
            "image/png": "[encoded data removed]"
          },
          "metadata": {}
        },
        {
          "output_type": "display_data",
          "data": {
            "text/plain": [
              "<Figure size 640x480 with 1 Axes>"
            ],
            "image/png": "[encoded data removed]"
          },
          "metadata": {}
        }
      ]
    },
    {
      "cell_type": "code",
      "source": [
        "scores = model1.evaluate(x_test, y_test)\n",
        "print('\\n')\n",
        "print('accuracy=',scores[1])"
      ],
      "metadata": {
        "colab": {
          "base_uri": "https://localhost:8080/"
        },
        "id": "DgQ6aDj9PbHz",
        "outputId": "74aeb0f0-02dc-441e-cf53-90690c72da0a"
      },
      "execution_count": null,
      "outputs": [
        {
          "output_type": "stream",
          "name": "stdout",
          "text": [
            "45/45 [==============================] - 0s 2ms/step - loss: 0.5634 - accuracy: 0.7310\n",
            "\n",
            "\n",
            "accuracy= 0.7310149073600769\n"
          ]
        }
      ]
    },
    {
      "cell_type": "code",
      "source": [
        "y_pred1 = model1.predict(x_test)\n",
        "accuracy1 = accuracy_score(y_test, np.argmax(y_pred1, axis=1))\n",
        "f11 = f1_score(y_test, np.argmax(y_pred1, axis=1))\n",
        "roc_auc1 = roc_auc_score(tf.keras.utils.to_categorical(y_test), y_pred1)"
      ],
      "metadata": {
        "colab": {
          "base_uri": "https://localhost:8080/"
        },
        "id": "RR87vNsFdVZJ",
        "outputId": "6bd0e674-171a-45e1-f86c-3b21ae184811"
      },
      "execution_count": null,
      "outputs": [
        {
          "output_type": "stream",
          "name": "stdout",
          "text": [
            "45/45 [==============================] - 1s 2ms/step\n"
          ]
        }
      ]
    },
    {
      "cell_type": "code",
      "source": [
        "y_pred1 = (y_pred1 > 0.5)\n",
        "y_pred1"
      ],
      "metadata": {
        "colab": {
          "base_uri": "https://localhost:8080/"
        },
        "id": "96QDMEaVf47C",
        "outputId": "6bb616be-a069-4f2e-c530-418d8cc59874"
      },
      "execution_count": null,
      "outputs": [
        {
          "output_type": "execute_result",
          "data": {
            "text/plain": [
              "array([[False],\n",
              "       [False],\n",
              "       [False],\n",
              "       ...,\n",
              "       [False],\n",
              "       [False],\n",
              "       [False]])"
            ]
          },
          "metadata": {},
          "execution_count": 22
        }
      ]
    },
    {
      "cell_type": "code",
      "source": [
        "cm = confusion_matrix(y_pred1,y_test)\n",
        "plt.figure(figsize=(8, 6))\n",
        "sns.heatmap(cm, annot=True, fmt='d', cmap='Blues', cbar=False)\n",
        "plt.ylabel('Predicted')\n",
        "plt.xlabel('True')\n",
        "plt.title('Confusion Matrix')\n",
        "plt.show()"
      ],
      "metadata": {
        "colab": {
          "base_uri": "https://localhost:8080/",
          "height": 564
        },
        "id": "20z5tQ0AmiQV",
        "outputId": "6544916c-1d9c-4b64-e1c2-0c3b43bfd031"
      },
      "execution_count": null,
      "outputs": [
        {
          "output_type": "display_data",
          "data": {
            "text/plain": [
              "<Figure size 800x600 with 1 Axes>"
            ],
            "image/png": "[encoded data removed]"
          },
          "metadata": {}
        }
      ]
    },
    {
      "cell_type": "code",
      "source": [
        "print(classification_report(y_test,y_pred1))"
      ],
      "metadata": {
        "colab": {
          "base_uri": "https://localhost:8080/"
        },
        "id": "P3VrgbSgdkaB",
        "outputId": "d2a8be3c-5fa0-47ff-b4d4-554b1854bed7"
      },
      "execution_count": null,
      "outputs": [
        {
          "output_type": "stream",
          "name": "stdout",
          "text": [
            "              precision    recall  f1-score   support\n",
            "\n",
            "           0       0.73      1.00      0.84      1030\n",
            "           1       0.00      0.00      0.00       379\n",
            "\n",
            "    accuracy                           0.73      1409\n",
            "   macro avg       0.37      0.50      0.42      1409\n",
            "weighted avg       0.53      0.73      0.62      1409\n",
            "\n"
          ]
        },
        {
          "output_type": "stream",
          "name": "stderr",
          "text": [
            "/usr/local/lib/python3.10/dist-packages/sklearn/metrics/_classification.py:1344: UndefinedMetricWarning:\n",
            "\n",
            "Precision and F-score are ill-defined and being set to 0.0 in labels with no predicted samples. Use `zero_division` parameter to control this behavior.\n",
            "\n",
            "/usr/local/lib/python3.10/dist-packages/sklearn/metrics/_classification.py:1344: UndefinedMetricWarning:\n",
            "\n",
            "Precision and F-score are ill-defined and being set to 0.0 in labels with no predicted samples. Use `zero_division` parameter to control this behavior.\n",
            "\n",
            "/usr/local/lib/python3.10/dist-packages/sklearn/metrics/_classification.py:1344: UndefinedMetricWarning:\n",
            "\n",
            "Precision and F-score are ill-defined and being set to 0.0 in labels with no predicted samples. Use `zero_division` parameter to control this behavior.\n",
            "\n"
          ]
        }
      ]
    },
    {
      "cell_type": "markdown",
      "source": [
        "**Deep Neural Network with Dropout**\n",
        "\n",
        "---\n",
        "\n"
      ],
      "metadata": {
        "id": "HqWe6XB1Pm23"
      }
    },
    {
      "cell_type": "code",
      "source": [
        "model2 = Sequential()\n",
        "model2.add(Dense(6, kernel_initializer = 'he_uniform',activation='relu',input_dim = 19))\n",
        "model2.add(Dropout(0.5))\n",
        "model2.add(Dense(6, kernel_initializer = 'he_uniform',activation='relu'))\n",
        "model2.add(Dropout(0.5))\n",
        "model2.add(Dense(1, kernel_initializer = 'glorot_uniform',activation='sigmoid'))\n",
        "print(model2.summary())"
      ],
      "metadata": {
        "colab": {
          "base_uri": "https://localhost:8080/"
        },
        "id": "ysx0v7HUPsKq",
        "outputId": "bc5c0981-d119-414b-b560-8b73e7efaca3"
      },
      "execution_count": null,
      "outputs": [
        {
          "output_type": "stream",
          "name": "stdout",
          "text": [
            "Model: \"sequential_1\"\n",
            "_________________________________________________________________\n",
            " Layer (type)                Output Shape              Param #   \n",
            "=================================================================\n",
            " dense_3 (Dense)             (None, 6)                 120       \n",
            "                                                                 \n",
            " dropout (Dropout)           (None, 6)                 0         \n",
            "                                                                 \n",
            " dense_4 (Dense)             (None, 6)                 42        \n",
            "                                                                 \n",
            " dropout_1 (Dropout)         (None, 6)                 0         \n",
            "                                                                 \n",
            " dense_5 (Dense)             (None, 1)                 7         \n",
            "                                                                 \n",
            "=================================================================\n",
            "Total params: 169 (676.00 Byte)\n",
            "Trainable params: 169 (676.00 Byte)\n",
            "Non-trainable params: 0 (0.00 Byte)\n",
            "_________________________________________________________________\n",
            "None\n"
          ]
        }
      ]
    },
    {
      "cell_type": "code",
      "source": [
        "model2.compile(loss='binary_crossentropy',  optimizer=tf.keras.optimizers.Adam(learning_rate=0.01), metrics=['accuracy'])\n",
        "train_history = model2.fit(x= x_train, y=y_train,  validation_split=0.33, epochs= 100,  batch_size=10, verbose=2)"
      ],
      "metadata": {
        "colab": {
          "base_uri": "https://localhost:8080/"
        },
        "id": "DO1GA8VtP90E",
        "outputId": "a7917f6e-0cc5-4b4f-bb6a-ce359519ab55"
      },
      "execution_count": null,
      "outputs": [
        {
          "output_type": "stream",
          "name": "stdout",
          "text": [
            "Epoch 1/100\n",
            "378/378 - 2s - loss: 8.3521 - accuracy: 0.7252 - val_loss: 0.5783 - val_accuracy: 0.7403 - 2s/epoch - 6ms/step\n",
            "Epoch 2/100\n",
            "378/378 - 1s - loss: 0.5839 - accuracy: 0.7332 - val_loss: 0.5766 - val_accuracy: 0.7403 - 838ms/epoch - 2ms/step\n",
            "Epoch 3/100\n",
            "378/378 - 1s - loss: 0.5812 - accuracy: 0.7332 - val_loss: 0.5732 - val_accuracy: 0.7403 - 920ms/epoch - 2ms/step\n",
            "Epoch 4/100\n",
            "378/378 - 1s - loss: 0.5805 - accuracy: 0.7332 - val_loss: 0.5729 - val_accuracy: 0.7403 - 816ms/epoch - 2ms/step\n",
            "Epoch 5/100\n",
            "378/378 - 1s - loss: 0.5806 - accuracy: 0.7332 - val_loss: 0.5731 - val_accuracy: 0.7403 - 818ms/epoch - 2ms/step\n",
            "Epoch 6/100\n",
            "378/378 - 1s - loss: 0.5806 - accuracy: 0.7332 - val_loss: 0.5734 - val_accuracy: 0.7403 - 898ms/epoch - 2ms/step\n",
            "Epoch 7/100\n",
            "378/378 - 1s - loss: 0.5804 - accuracy: 0.7332 - val_loss: 0.5742 - val_accuracy: 0.7403 - 827ms/epoch - 2ms/step\n",
            "Epoch 8/100\n",
            "378/378 - 1s - loss: 0.5808 - accuracy: 0.7332 - val_loss: 0.5731 - val_accuracy: 0.7403 - 837ms/epoch - 2ms/step\n",
            "Epoch 9/100\n",
            "378/378 - 1s - loss: 0.5806 - accuracy: 0.7332 - val_loss: 0.5732 - val_accuracy: 0.7403 - 799ms/epoch - 2ms/step\n",
            "Epoch 10/100\n",
            "378/378 - 1s - loss: 0.5807 - accuracy: 0.7332 - val_loss: 0.5737 - val_accuracy: 0.7403 - 823ms/epoch - 2ms/step\n",
            "Epoch 11/100\n",
            "378/378 - 1s - loss: 0.5803 - accuracy: 0.7332 - val_loss: 0.5735 - val_accuracy: 0.7403 - 892ms/epoch - 2ms/step\n",
            "Epoch 12/100\n",
            "378/378 - 2s - loss: 0.5809 - accuracy: 0.7329 - val_loss: 0.5731 - val_accuracy: 0.7403 - 2s/epoch - 4ms/step\n",
            "Epoch 13/100\n",
            "378/378 - 1s - loss: 0.5805 - accuracy: 0.7332 - val_loss: 0.5733 - val_accuracy: 0.7403 - 989ms/epoch - 3ms/step\n",
            "Epoch 14/100\n",
            "378/378 - 1s - loss: 0.5806 - accuracy: 0.7332 - val_loss: 0.5729 - val_accuracy: 0.7403 - 819ms/epoch - 2ms/step\n",
            "Epoch 15/100\n",
            "378/378 - 1s - loss: 0.5806 - accuracy: 0.7332 - val_loss: 0.5728 - val_accuracy: 0.7403 - 814ms/epoch - 2ms/step\n",
            "Epoch 16/100\n",
            "378/378 - 1s - loss: 0.5805 - accuracy: 0.7332 - val_loss: 0.5730 - val_accuracy: 0.7403 - 864ms/epoch - 2ms/step\n",
            "Epoch 17/100\n",
            "378/378 - 1s - loss: 0.5805 - accuracy: 0.7332 - val_loss: 0.5731 - val_accuracy: 0.7403 - 915ms/epoch - 2ms/step\n",
            "Epoch 18/100\n",
            "378/378 - 1s - loss: 0.5807 - accuracy: 0.7332 - val_loss: 0.5730 - val_accuracy: 0.7403 - 899ms/epoch - 2ms/step\n",
            "Epoch 19/100\n",
            "378/378 - 1s - loss: 0.5805 - accuracy: 0.7332 - val_loss: 0.5727 - val_accuracy: 0.7403 - 814ms/epoch - 2ms/step\n",
            "Epoch 20/100\n",
            "378/378 - 1s - loss: 0.5806 - accuracy: 0.7332 - val_loss: 0.5727 - val_accuracy: 0.7403 - 902ms/epoch - 2ms/step\n",
            "Epoch 21/100\n",
            "378/378 - 1s - loss: 0.5805 - accuracy: 0.7332 - val_loss: 0.5727 - val_accuracy: 0.7403 - 813ms/epoch - 2ms/step\n",
            "Epoch 22/100\n",
            "378/378 - 1s - loss: 0.5805 - accuracy: 0.7332 - val_loss: 0.5727 - val_accuracy: 0.7403 - 904ms/epoch - 2ms/step\n",
            "Epoch 23/100\n",
            "378/378 - 1s - loss: 0.5803 - accuracy: 0.7332 - val_loss: 0.5738 - val_accuracy: 0.7403 - 803ms/epoch - 2ms/step\n",
            "Epoch 24/100\n",
            "378/378 - 1s - loss: 0.5807 - accuracy: 0.7332 - val_loss: 0.5728 - val_accuracy: 0.7403 - 833ms/epoch - 2ms/step\n",
            "Epoch 25/100\n",
            "378/378 - 1s - loss: 0.5806 - accuracy: 0.7332 - val_loss: 0.5728 - val_accuracy: 0.7403 - 1s/epoch - 3ms/step\n",
            "Epoch 26/100\n",
            "378/378 - 2s - loss: 0.5798 - accuracy: 0.7332 - val_loss: 0.5740 - val_accuracy: 0.7403 - 2s/epoch - 4ms/step\n",
            "Epoch 27/100\n",
            "378/378 - 1s - loss: 0.5804 - accuracy: 0.7332 - val_loss: 0.5743 - val_accuracy: 0.7403 - 825ms/epoch - 2ms/step\n",
            "Epoch 28/100\n",
            "378/378 - 1s - loss: 0.5804 - accuracy: 0.7332 - val_loss: 0.5739 - val_accuracy: 0.7403 - 829ms/epoch - 2ms/step\n",
            "Epoch 29/100\n",
            "378/378 - 1s - loss: 0.5806 - accuracy: 0.7332 - val_loss: 0.5728 - val_accuracy: 0.7403 - 794ms/epoch - 2ms/step\n",
            "Epoch 30/100\n",
            "378/378 - 1s - loss: 0.5803 - accuracy: 0.7332 - val_loss: 0.5739 - val_accuracy: 0.7403 - 915ms/epoch - 2ms/step\n",
            "Epoch 31/100\n",
            "378/378 - 1s - loss: 0.5807 - accuracy: 0.7332 - val_loss: 0.5727 - val_accuracy: 0.7403 - 846ms/epoch - 2ms/step\n",
            "Epoch 32/100\n",
            "378/378 - 1s - loss: 0.5805 - accuracy: 0.7332 - val_loss: 0.5728 - val_accuracy: 0.7403 - 829ms/epoch - 2ms/step\n",
            "Epoch 33/100\n",
            "378/378 - 1s - loss: 0.5806 - accuracy: 0.7332 - val_loss: 0.5727 - val_accuracy: 0.7403 - 911ms/epoch - 2ms/step\n",
            "Epoch 34/100\n",
            "378/378 - 1s - loss: 0.5807 - accuracy: 0.7332 - val_loss: 0.5728 - val_accuracy: 0.7403 - 807ms/epoch - 2ms/step\n",
            "Epoch 35/100\n",
            "378/378 - 1s - loss: 0.5806 - accuracy: 0.7332 - val_loss: 0.5731 - val_accuracy: 0.7403 - 915ms/epoch - 2ms/step\n",
            "Epoch 36/100\n",
            "378/378 - 1s - loss: 0.5805 - accuracy: 0.7332 - val_loss: 0.5738 - val_accuracy: 0.7403 - 823ms/epoch - 2ms/step\n",
            "Epoch 37/100\n",
            "378/378 - 2s - loss: 0.5804 - accuracy: 0.7332 - val_loss: 0.5728 - val_accuracy: 0.7403 - 2s/epoch - 6ms/step\n",
            "Epoch 38/100\n",
            "378/378 - 1s - loss: 0.5805 - accuracy: 0.7332 - val_loss: 0.5730 - val_accuracy: 0.7403 - 1s/epoch - 4ms/step\n",
            "Epoch 39/100\n",
            "378/378 - 1s - loss: 0.5804 - accuracy: 0.7332 - val_loss: 0.5729 - val_accuracy: 0.7403 - 797ms/epoch - 2ms/step\n",
            "Epoch 40/100\n",
            "378/378 - 1s - loss: 0.5806 - accuracy: 0.7332 - val_loss: 0.5727 - val_accuracy: 0.7403 - 897ms/epoch - 2ms/step\n",
            "Epoch 41/100\n",
            "378/378 - 1s - loss: 0.5805 - accuracy: 0.7332 - val_loss: 0.5727 - val_accuracy: 0.7403 - 924ms/epoch - 2ms/step\n",
            "Epoch 42/100\n",
            "378/378 - 1s - loss: 0.5805 - accuracy: 0.7332 - val_loss: 0.5731 - val_accuracy: 0.7403 - 818ms/epoch - 2ms/step\n",
            "Epoch 43/100\n",
            "378/378 - 1s - loss: 0.5806 - accuracy: 0.7332 - val_loss: 0.5728 - val_accuracy: 0.7403 - 827ms/epoch - 2ms/step\n",
            "Epoch 44/100\n",
            "378/378 - 2s - loss: 0.5806 - accuracy: 0.7332 - val_loss: 0.5727 - val_accuracy: 0.7403 - 2s/epoch - 5ms/step\n",
            "Epoch 45/100\n",
            "378/378 - 2s - loss: 0.5808 - accuracy: 0.7332 - val_loss: 0.5728 - val_accuracy: 0.7403 - 2s/epoch - 6ms/step\n",
            "Epoch 46/100\n",
            "378/378 - 1s - loss: 0.5806 - accuracy: 0.7332 - val_loss: 0.5730 - val_accuracy: 0.7403 - 924ms/epoch - 2ms/step\n",
            "Epoch 47/100\n",
            "378/378 - 1s - loss: 0.5801 - accuracy: 0.7332 - val_loss: 0.5744 - val_accuracy: 0.7403 - 1s/epoch - 3ms/step\n",
            "Epoch 48/100\n",
            "378/378 - 1s - loss: 0.5808 - accuracy: 0.7332 - val_loss: 0.5738 - val_accuracy: 0.7403 - 1s/epoch - 3ms/step\n",
            "Epoch 49/100\n",
            "378/378 - 1s - loss: 0.5806 - accuracy: 0.7332 - val_loss: 0.5727 - val_accuracy: 0.7403 - 1s/epoch - 3ms/step\n",
            "Epoch 50/100\n",
            "378/378 - 1s - loss: 0.5805 - accuracy: 0.7332 - val_loss: 0.5727 - val_accuracy: 0.7403 - 837ms/epoch - 2ms/step\n",
            "Epoch 51/100\n",
            "378/378 - 1s - loss: 0.5803 - accuracy: 0.7332 - val_loss: 0.5733 - val_accuracy: 0.7403 - 824ms/epoch - 2ms/step\n",
            "Epoch 52/100\n",
            "378/378 - 1s - loss: 0.5804 - accuracy: 0.7332 - val_loss: 0.5736 - val_accuracy: 0.7403 - 938ms/epoch - 2ms/step\n",
            "Epoch 53/100\n",
            "378/378 - 1s - loss: 0.5805 - accuracy: 0.7332 - val_loss: 0.5732 - val_accuracy: 0.7403 - 910ms/epoch - 2ms/step\n",
            "Epoch 54/100\n",
            "378/378 - 1s - loss: 0.5807 - accuracy: 0.7332 - val_loss: 0.5732 - val_accuracy: 0.7403 - 813ms/epoch - 2ms/step\n",
            "Epoch 55/100\n",
            "378/378 - 1s - loss: 0.5806 - accuracy: 0.7332 - val_loss: 0.5728 - val_accuracy: 0.7403 - 807ms/epoch - 2ms/step\n",
            "Epoch 56/100\n",
            "378/378 - 1s - loss: 0.5806 - accuracy: 0.7332 - val_loss: 0.5728 - val_accuracy: 0.7403 - 910ms/epoch - 2ms/step\n",
            "Epoch 57/100\n",
            "378/378 - 1s - loss: 0.5803 - accuracy: 0.7332 - val_loss: 0.5729 - val_accuracy: 0.7403 - 811ms/epoch - 2ms/step\n",
            "Epoch 58/100\n",
            "378/378 - 1s - loss: 0.5805 - accuracy: 0.7332 - val_loss: 0.5730 - val_accuracy: 0.7403 - 903ms/epoch - 2ms/step\n",
            "Epoch 59/100\n",
            "378/378 - 1s - loss: 0.5802 - accuracy: 0.7332 - val_loss: 0.5733 - val_accuracy: 0.7403 - 918ms/epoch - 2ms/step\n",
            "Epoch 60/100\n",
            "378/378 - 1s - loss: 0.5805 - accuracy: 0.7332 - val_loss: 0.5745 - val_accuracy: 0.7403 - 831ms/epoch - 2ms/step\n",
            "Epoch 61/100\n",
            "378/378 - 1s - loss: 0.5809 - accuracy: 0.7332 - val_loss: 0.5728 - val_accuracy: 0.7403 - 1s/epoch - 3ms/step\n",
            "Epoch 62/100\n",
            "378/378 - 2s - loss: 0.5802 - accuracy: 0.7332 - val_loss: 0.5737 - val_accuracy: 0.7403 - 2s/epoch - 4ms/step\n",
            "Epoch 63/100\n",
            "378/378 - 1s - loss: 0.5808 - accuracy: 0.7332 - val_loss: 0.5728 - val_accuracy: 0.7403 - 920ms/epoch - 2ms/step\n",
            "Epoch 64/100\n",
            "378/378 - 1s - loss: 0.5804 - accuracy: 0.7332 - val_loss: 0.5728 - val_accuracy: 0.7403 - 845ms/epoch - 2ms/step\n",
            "Epoch 65/100\n",
            "378/378 - 1s - loss: 0.5806 - accuracy: 0.7332 - val_loss: 0.5727 - val_accuracy: 0.7403 - 821ms/epoch - 2ms/step\n",
            "Epoch 66/100\n",
            "378/378 - 1s - loss: 0.5806 - accuracy: 0.7332 - val_loss: 0.5727 - val_accuracy: 0.7403 - 827ms/epoch - 2ms/step\n",
            "Epoch 67/100\n",
            "378/378 - 1s - loss: 0.5805 - accuracy: 0.7332 - val_loss: 0.5728 - val_accuracy: 0.7403 - 900ms/epoch - 2ms/step\n",
            "Epoch 68/100\n",
            "378/378 - 1s - loss: 0.5804 - accuracy: 0.7332 - val_loss: 0.5728 - val_accuracy: 0.7403 - 902ms/epoch - 2ms/step\n",
            "Epoch 69/100\n",
            "378/378 - 1s - loss: 0.5805 - accuracy: 0.7332 - val_loss: 0.5731 - val_accuracy: 0.7403 - 898ms/epoch - 2ms/step\n",
            "Epoch 70/100\n",
            "378/378 - 1s - loss: 0.5809 - accuracy: 0.7332 - val_loss: 0.5729 - val_accuracy: 0.7403 - 928ms/epoch - 2ms/step\n",
            "Epoch 71/100\n",
            "378/378 - 1s - loss: 0.5805 - accuracy: 0.7332 - val_loss: 0.5729 - val_accuracy: 0.7403 - 934ms/epoch - 2ms/step\n",
            "Epoch 72/100\n",
            "378/378 - 1s - loss: 0.5809 - accuracy: 0.7332 - val_loss: 0.5729 - val_accuracy: 0.7403 - 846ms/epoch - 2ms/step\n",
            "Epoch 73/100\n",
            "378/378 - 1s - loss: 0.5805 - accuracy: 0.7332 - val_loss: 0.5728 - val_accuracy: 0.7403 - 823ms/epoch - 2ms/step\n",
            "Epoch 74/100\n",
            "378/378 - 1s - loss: 0.5804 - accuracy: 0.7332 - val_loss: 0.5728 - val_accuracy: 0.7403 - 1s/epoch - 3ms/step\n",
            "Epoch 75/100\n",
            "378/378 - 2s - loss: 0.5805 - accuracy: 0.7332 - val_loss: 0.5738 - val_accuracy: 0.7403 - 2s/epoch - 4ms/step\n",
            "Epoch 76/100\n",
            "378/378 - 1s - loss: 0.5803 - accuracy: 0.7332 - val_loss: 0.5728 - val_accuracy: 0.7403 - 840ms/epoch - 2ms/step\n",
            "Epoch 77/100\n",
            "378/378 - 2s - loss: 0.5802 - accuracy: 0.7332 - val_loss: 0.5730 - val_accuracy: 0.7403 - 2s/epoch - 4ms/step\n",
            "Epoch 78/100\n",
            "378/378 - 1s - loss: 0.5805 - accuracy: 0.7332 - val_loss: 0.5728 - val_accuracy: 0.7403 - 1s/epoch - 3ms/step\n",
            "Epoch 79/100\n",
            "378/378 - 1s - loss: 0.5807 - accuracy: 0.7332 - val_loss: 0.5729 - val_accuracy: 0.7403 - 916ms/epoch - 2ms/step\n",
            "Epoch 80/100\n",
            "378/378 - 1s - loss: 0.5804 - accuracy: 0.7332 - val_loss: 0.5731 - val_accuracy: 0.7403 - 897ms/epoch - 2ms/step\n",
            "Epoch 81/100\n",
            "378/378 - 1s - loss: 0.5804 - accuracy: 0.7332 - val_loss: 0.5727 - val_accuracy: 0.7403 - 972ms/epoch - 3ms/step\n",
            "Epoch 82/100\n",
            "378/378 - 1s - loss: 0.5807 - accuracy: 0.7332 - val_loss: 0.5729 - val_accuracy: 0.7403 - 922ms/epoch - 2ms/step\n",
            "Epoch 83/100\n",
            "378/378 - 1s - loss: 0.5803 - accuracy: 0.7332 - val_loss: 0.5727 - val_accuracy: 0.7403 - 908ms/epoch - 2ms/step\n",
            "Epoch 84/100\n",
            "378/378 - 1s - loss: 0.5804 - accuracy: 0.7332 - val_loss: 0.5727 - val_accuracy: 0.7403 - 818ms/epoch - 2ms/step\n",
            "Epoch 85/100\n",
            "378/378 - 1s - loss: 0.5805 - accuracy: 0.7332 - val_loss: 0.5727 - val_accuracy: 0.7403 - 868ms/epoch - 2ms/step\n",
            "Epoch 86/100\n",
            "378/378 - 2s - loss: 0.5805 - accuracy: 0.7332 - val_loss: 0.5728 - val_accuracy: 0.7403 - 2s/epoch - 4ms/step\n",
            "Epoch 87/100\n",
            "378/378 - 1s - loss: 0.5804 - accuracy: 0.7332 - val_loss: 0.5734 - val_accuracy: 0.7403 - 1s/epoch - 3ms/step\n",
            "Epoch 88/100\n",
            "378/378 - 1s - loss: 0.5805 - accuracy: 0.7332 - val_loss: 0.5732 - val_accuracy: 0.7403 - 803ms/epoch - 2ms/step\n",
            "Epoch 89/100\n",
            "378/378 - 1s - loss: 0.5806 - accuracy: 0.7332 - val_loss: 0.5727 - val_accuracy: 0.7403 - 816ms/epoch - 2ms/step\n",
            "Epoch 90/100\n",
            "378/378 - 1s - loss: 0.5806 - accuracy: 0.7332 - val_loss: 0.5728 - val_accuracy: 0.7403 - 842ms/epoch - 2ms/step\n",
            "Epoch 91/100\n",
            "378/378 - 1s - loss: 0.5806 - accuracy: 0.7332 - val_loss: 0.5731 - val_accuracy: 0.7403 - 908ms/epoch - 2ms/step\n",
            "Epoch 92/100\n",
            "378/378 - 1s - loss: 0.5806 - accuracy: 0.7332 - val_loss: 0.5730 - val_accuracy: 0.7403 - 923ms/epoch - 2ms/step\n",
            "Epoch 93/100\n",
            "378/378 - 1s - loss: 0.5803 - accuracy: 0.7332 - val_loss: 0.5744 - val_accuracy: 0.7403 - 886ms/epoch - 2ms/step\n",
            "Epoch 94/100\n",
            "378/378 - 1s - loss: 0.5808 - accuracy: 0.7332 - val_loss: 0.5734 - val_accuracy: 0.7403 - 919ms/epoch - 2ms/step\n",
            "Epoch 95/100\n",
            "378/378 - 1s - loss: 0.5804 - accuracy: 0.7332 - val_loss: 0.5728 - val_accuracy: 0.7403 - 820ms/epoch - 2ms/step\n",
            "Epoch 96/100\n",
            "378/378 - 1s - loss: 0.5804 - accuracy: 0.7332 - val_loss: 0.5731 - val_accuracy: 0.7403 - 930ms/epoch - 2ms/step\n",
            "Epoch 97/100\n",
            "378/378 - 1s - loss: 0.5808 - accuracy: 0.7332 - val_loss: 0.5727 - val_accuracy: 0.7403 - 835ms/epoch - 2ms/step\n",
            "Epoch 98/100\n",
            "378/378 - 1s - loss: 0.5804 - accuracy: 0.7332 - val_loss: 0.5732 - val_accuracy: 0.7403 - 935ms/epoch - 2ms/step\n",
            "Epoch 99/100\n",
            "378/378 - 1s - loss: 0.5804 - accuracy: 0.7332 - val_loss: 0.5742 - val_accuracy: 0.7403 - 1s/epoch - 3ms/step\n",
            "Epoch 100/100\n",
            "378/378 - 2s - loss: 0.5806 - accuracy: 0.7332 - val_loss: 0.5728 - val_accuracy: 0.7403 - 2s/epoch - 4ms/step\n"
          ]
        }
      ]
    },
    {
      "cell_type": "code",
      "source": [
        "show_train_history(train_history,'accuracy','val_accuracy')\n",
        "show_train_history(train_history,'loss','val_loss')"
      ],
      "metadata": {
        "id": "2yTKxVXjqlSI",
        "colab": {
          "base_uri": "https://localhost:8080/",
          "height": 927
        },
        "outputId": "452c302e-ba07-4585-dcb6-8e88d82e56c1"
      },
      "execution_count": null,
      "outputs": [
        {
          "output_type": "display_data",
          "data": {
            "text/plain": [
              "<Figure size 640x480 with 1 Axes>"
            ],
            "image/png": "[encoded data removed]"
          },
          "metadata": {}
        },
        {
          "output_type": "display_data",
          "data": {
            "text/plain": [
              "<Figure size 640x480 with 1 Axes>"
            ],
            "image/png": "[encoded data removed]"
          },
          "metadata": {}
        }
      ]
    },
    {
      "cell_type": "code",
      "source": [
        "scores = model2.evaluate(x_test, y_test)\n",
        "print('\\n')\n",
        "print('accuracy=',scores[1])"
      ],
      "metadata": {
        "colab": {
          "base_uri": "https://localhost:8080/"
        },
        "id": "OHGrEC-0QFkh",
        "outputId": "a436cea6-d7b8-4db2-898d-0206e9272333"
      },
      "execution_count": null,
      "outputs": [
        {
          "output_type": "stream",
          "name": "stdout",
          "text": [
            "45/45 [==============================] - 0s 2ms/step - loss: 0.5823 - accuracy: 0.7310\n",
            "\n",
            "\n",
            "accuracy= 0.7310149073600769\n"
          ]
        }
      ]
    },
    {
      "cell_type": "code",
      "source": [
        "y_pred2 = model2.predict(x_test)\n",
        "accuracy2 = accuracy_score(y_test, np.argmax(y_pred2, axis=1))\n",
        "f12 = f1_score(y_test, np.argmax(y_pred2, axis=1))\n",
        "roc_auc2 = roc_auc_score(tf.keras.utils.to_categorical(y_test), y_pred2)"
      ],
      "metadata": {
        "colab": {
          "base_uri": "https://localhost:8080/"
        },
        "id": "ZsNNUhY-hIE2",
        "outputId": "8f7f8a6c-8b5c-4096-f8a0-1288c8a390ee"
      },
      "execution_count": null,
      "outputs": [
        {
          "output_type": "stream",
          "name": "stdout",
          "text": [
            "45/45 [==============================] - 0s 1ms/step\n"
          ]
        }
      ]
    },
    {
      "cell_type": "code",
      "source": [
        "y_pred2 = (y_pred2 > 0.5)\n",
        "y_pred2"
      ],
      "metadata": {
        "colab": {
          "base_uri": "https://localhost:8080/"
        },
        "id": "C8sdFOOShPu9",
        "outputId": "3498a205-e0c4-44f7-eeb2-fe57ffbf36d1"
      },
      "execution_count": null,
      "outputs": [
        {
          "output_type": "execute_result",
          "data": {
            "text/plain": [
              "array([[False],\n",
              "       [False],\n",
              "       [False],\n",
              "       ...,\n",
              "       [False],\n",
              "       [False],\n",
              "       [False]])"
            ]
          },
          "metadata": {},
          "execution_count": 30
        }
      ]
    },
    {
      "cell_type": "code",
      "source": [
        "cm = confusion_matrix(y_pred2,y_test)\n",
        "plt.figure(figsize=(8, 6))\n",
        "sns.heatmap(cm, annot=True, fmt='d', cmap='Blues', cbar=False)\n",
        "plt.xlabel('True')\n",
        "plt.ylabel('Predicted')\n",
        "plt.title('Confusion Matrix')\n",
        "plt.show()"
      ],
      "metadata": {
        "colab": {
          "base_uri": "https://localhost:8080/",
          "height": 564
        },
        "id": "RqORyqiFnYPy",
        "outputId": "bce7bbcd-b74c-4e55-d405-74dff1298726"
      },
      "execution_count": null,
      "outputs": [
        {
          "output_type": "display_data",
          "data": {
            "text/plain": [
              "<Figure size 800x600 with 1 Axes>"
            ],
            "image/png": "[encoded data removed]"
          },
          "metadata": {}
        }
      ]
    },
    {
      "cell_type": "code",
      "source": [
        "print(classification_report(y_test,y_pred2))"
      ],
      "metadata": {
        "colab": {
          "base_uri": "https://localhost:8080/"
        },
        "id": "OM6pFdDUhUx5",
        "outputId": "d712912a-dd9b-4143-dec8-a5fd81bc5026"
      },
      "execution_count": null,
      "outputs": [
        {
          "output_type": "stream",
          "name": "stdout",
          "text": [
            "              precision    recall  f1-score   support\n",
            "\n",
            "           0       0.73      1.00      0.84      1030\n",
            "           1       0.00      0.00      0.00       379\n",
            "\n",
            "    accuracy                           0.73      1409\n",
            "   macro avg       0.37      0.50      0.42      1409\n",
            "weighted avg       0.53      0.73      0.62      1409\n",
            "\n"
          ]
        },
        {
          "output_type": "stream",
          "name": "stderr",
          "text": [
            "/usr/local/lib/python3.10/dist-packages/sklearn/metrics/_classification.py:1344: UndefinedMetricWarning:\n",
            "\n",
            "Precision and F-score are ill-defined and being set to 0.0 in labels with no predicted samples. Use `zero_division` parameter to control this behavior.\n",
            "\n",
            "/usr/local/lib/python3.10/dist-packages/sklearn/metrics/_classification.py:1344: UndefinedMetricWarning:\n",
            "\n",
            "Precision and F-score are ill-defined and being set to 0.0 in labels with no predicted samples. Use `zero_division` parameter to control this behavior.\n",
            "\n",
            "/usr/local/lib/python3.10/dist-packages/sklearn/metrics/_classification.py:1344: UndefinedMetricWarning:\n",
            "\n",
            "Precision and F-score are ill-defined and being set to 0.0 in labels with no predicted samples. Use `zero_division` parameter to control this behavior.\n",
            "\n"
          ]
        }
      ]
    },
    {
      "cell_type": "markdown",
      "source": [
        "**Implementing Layer-wise Dropout:**\n",
        "\n",
        "---\n",
        "\n",
        "\n",
        "\n",
        "● Modify the DNN architecture to incorporate layer-wise dropout, where dropout is applied after each hidden layer with varying dropout rates (e.g., 0.2, 0.3, 0.4).\n",
        "\n",
        "● Train the modified model and assess its performance using validation metrics."
      ],
      "metadata": {
        "id": "Riy9xdz6QMOR"
      }
    },
    {
      "cell_type": "code",
      "source": [
        "model3 = Sequential()\n",
        "model3.add(Dense(6, kernel_initializer = 'he_uniform',activation='relu',input_dim = 19))\n",
        "model3.add(Dropout(0.3))\n",
        "model3.add(Dense(6, kernel_initializer = 'he_uniform',activation='relu'))\n",
        "model3.add(Dropout(0.2))\n",
        "model3.add(Dense(1, kernel_initializer = 'glorot_uniform',activation='sigmoid'))\n",
        "print(model3.summary())"
      ],
      "metadata": {
        "colab": {
          "base_uri": "https://localhost:8080/"
        },
        "id": "VyfD-MnJQSsL",
        "outputId": "9109a2eb-a332-460e-fe06-9643897ddd75"
      },
      "execution_count": null,
      "outputs": [
        {
          "output_type": "stream",
          "name": "stdout",
          "text": [
            "Model: \"sequential_2\"\n",
            "_________________________________________________________________\n",
            " Layer (type)                Output Shape              Param #   \n",
            "=================================================================\n",
            " dense_6 (Dense)             (None, 6)                 120       \n",
            "                                                                 \n",
            " dropout_2 (Dropout)         (None, 6)                 0         \n",
            "                                                                 \n",
            " dense_7 (Dense)             (None, 6)                 42        \n",
            "                                                                 \n",
            " dropout_3 (Dropout)         (None, 6)                 0         \n",
            "                                                                 \n",
            " dense_8 (Dense)             (None, 1)                 7         \n",
            "                                                                 \n",
            "=================================================================\n",
            "Total params: 169 (676.00 Byte)\n",
            "Trainable params: 169 (676.00 Byte)\n",
            "Non-trainable params: 0 (0.00 Byte)\n",
            "_________________________________________________________________\n",
            "None\n"
          ]
        }
      ]
    },
    {
      "cell_type": "code",
      "source": [
        "model3.compile(loss='binary_crossentropy',  optimizer=tf.keras.optimizers.Adam(learning_rate=0.01), metrics=['accuracy'])\n",
        "train_history = model3.fit(x= x_train, y=y_train,  validation_split=0.8, epochs= 100,  batch_size=500, verbose=2)"
      ],
      "metadata": {
        "colab": {
          "base_uri": "https://localhost:8080/"
        },
        "id": "DlHII5FGQjLJ",
        "outputId": "733ca8f0-05ea-4412-da50-6c0452bdc36d"
      },
      "execution_count": null,
      "outputs": [
        {
          "output_type": "stream",
          "name": "stdout",
          "text": [
            "Epoch 1/100\n",
            "3/3 - 2s - loss: 1215.8270 - accuracy: 0.3588 - val_loss: 762.2770 - val_accuracy: 0.2677 - 2s/epoch - 537ms/step\n",
            "Epoch 2/100\n",
            "3/3 - 0s - loss: 892.5419 - accuracy: 0.3792 - val_loss: 458.8278 - val_accuracy: 0.2706 - 95ms/epoch - 32ms/step\n",
            "Epoch 3/100\n",
            "3/3 - 0s - loss: 588.5767 - accuracy: 0.3970 - val_loss: 194.1380 - val_accuracy: 0.2930 - 114ms/epoch - 38ms/step\n",
            "Epoch 4/100\n",
            "3/3 - 0s - loss: 419.2325 - accuracy: 0.4396 - val_loss: 41.8643 - val_accuracy: 0.7343 - 125ms/epoch - 42ms/step\n",
            "Epoch 5/100\n",
            "3/3 - 0s - loss: 289.9576 - accuracy: 0.5737 - val_loss: 105.2587 - val_accuracy: 0.7343 - 93ms/epoch - 31ms/step\n",
            "Epoch 6/100\n",
            "3/3 - 0s - loss: 258.2843 - accuracy: 0.5995 - val_loss: 132.1623 - val_accuracy: 0.7343 - 91ms/epoch - 30ms/step\n",
            "Epoch 7/100\n",
            "3/3 - 0s - loss: 245.9862 - accuracy: 0.6021 - val_loss: 137.7703 - val_accuracy: 0.7343 - 118ms/epoch - 39ms/step\n",
            "Epoch 8/100\n",
            "3/3 - 0s - loss: 223.9787 - accuracy: 0.6119 - val_loss: 128.7772 - val_accuracy: 0.7343 - 134ms/epoch - 45ms/step\n",
            "Epoch 9/100\n",
            "3/3 - 0s - loss: 195.7739 - accuracy: 0.6119 - val_loss: 115.0799 - val_accuracy: 0.7343 - 71ms/epoch - 24ms/step\n",
            "Epoch 10/100\n",
            "3/3 - 0s - loss: 149.2635 - accuracy: 0.6350 - val_loss: 99.6194 - val_accuracy: 0.7343 - 59ms/epoch - 20ms/step\n",
            "Epoch 11/100\n",
            "3/3 - 0s - loss: 144.2465 - accuracy: 0.6341 - val_loss: 84.2856 - val_accuracy: 0.7343 - 62ms/epoch - 21ms/step\n",
            "Epoch 12/100\n",
            "3/3 - 0s - loss: 111.2837 - accuracy: 0.6563 - val_loss: 70.2976 - val_accuracy: 0.7343 - 57ms/epoch - 19ms/step\n",
            "Epoch 13/100\n",
            "3/3 - 0s - loss: 98.2655 - accuracy: 0.6492 - val_loss: 58.1318 - val_accuracy: 0.7343 - 55ms/epoch - 18ms/step\n",
            "Epoch 14/100\n",
            "3/3 - 0s - loss: 75.2119 - accuracy: 0.6794 - val_loss: 48.0809 - val_accuracy: 0.7340 - 98ms/epoch - 33ms/step\n",
            "Epoch 15/100\n",
            "3/3 - 0s - loss: 64.0703 - accuracy: 0.6492 - val_loss: 39.4067 - val_accuracy: 0.7338 - 63ms/epoch - 21ms/step\n",
            "Epoch 16/100\n",
            "3/3 - 0s - loss: 51.5241 - accuracy: 0.6776 - val_loss: 31.5846 - val_accuracy: 0.7334 - 59ms/epoch - 20ms/step\n",
            "Epoch 17/100\n",
            "3/3 - 0s - loss: 40.8730 - accuracy: 0.6874 - val_loss: 24.5050 - val_accuracy: 0.7336 - 55ms/epoch - 18ms/step\n",
            "Epoch 18/100\n",
            "3/3 - 0s - loss: 32.7037 - accuracy: 0.6812 - val_loss: 17.8825 - val_accuracy: 0.7336 - 59ms/epoch - 20ms/step\n",
            "Epoch 19/100\n",
            "3/3 - 0s - loss: 24.6433 - accuracy: 0.6865 - val_loss: 12.0387 - val_accuracy: 0.7325 - 58ms/epoch - 19ms/step\n",
            "Epoch 20/100\n",
            "3/3 - 0s - loss: 16.2988 - accuracy: 0.6812 - val_loss: 7.8149 - val_accuracy: 0.7318 - 58ms/epoch - 19ms/step\n",
            "Epoch 21/100\n",
            "3/3 - 0s - loss: 12.8265 - accuracy: 0.6750 - val_loss: 5.0797 - val_accuracy: 0.7316 - 61ms/epoch - 20ms/step\n",
            "Epoch 22/100\n",
            "3/3 - 0s - loss: 10.3843 - accuracy: 0.6652 - val_loss: 3.2386 - val_accuracy: 0.7311 - 63ms/epoch - 21ms/step\n",
            "Epoch 23/100\n",
            "3/3 - 0s - loss: 7.7461 - accuracy: 0.6803 - val_loss: 2.3616 - val_accuracy: 0.7314 - 110ms/epoch - 37ms/step\n",
            "Epoch 24/100\n",
            "3/3 - 0s - loss: 5.0191 - accuracy: 0.6927 - val_loss: 1.4425 - val_accuracy: 0.7314 - 61ms/epoch - 20ms/step\n",
            "Epoch 25/100\n",
            "3/3 - 0s - loss: 4.1816 - accuracy: 0.6696 - val_loss: 0.8354 - val_accuracy: 0.7314 - 63ms/epoch - 21ms/step\n",
            "Epoch 26/100\n",
            "3/3 - 0s - loss: 2.3280 - accuracy: 0.6909 - val_loss: 0.5734 - val_accuracy: 0.7316 - 53ms/epoch - 18ms/step\n",
            "Epoch 27/100\n",
            "3/3 - 0s - loss: 1.5132 - accuracy: 0.6661 - val_loss: 0.6245 - val_accuracy: 0.7311 - 59ms/epoch - 20ms/step\n",
            "Epoch 28/100\n",
            "3/3 - 0s - loss: 0.7233 - accuracy: 0.7016 - val_loss: 0.6530 - val_accuracy: 0.7311 - 63ms/epoch - 21ms/step\n",
            "Epoch 29/100\n",
            "3/3 - 0s - loss: 0.6633 - accuracy: 0.7309 - val_loss: 0.6513 - val_accuracy: 0.7314 - 61ms/epoch - 20ms/step\n",
            "Epoch 30/100\n",
            "3/3 - 0s - loss: 0.6556 - accuracy: 0.7362 - val_loss: 0.6461 - val_accuracy: 0.7314 - 59ms/epoch - 20ms/step\n",
            "Epoch 31/100\n",
            "3/3 - 0s - loss: 0.6403 - accuracy: 0.7371 - val_loss: 0.6405 - val_accuracy: 0.7320 - 54ms/epoch - 18ms/step\n",
            "Epoch 32/100\n",
            "3/3 - 0s - loss: 0.6453 - accuracy: 0.7309 - val_loss: 0.6347 - val_accuracy: 0.7318 - 64ms/epoch - 21ms/step\n",
            "Epoch 33/100\n",
            "3/3 - 0s - loss: 0.6245 - accuracy: 0.7398 - val_loss: 0.6289 - val_accuracy: 0.7316 - 59ms/epoch - 20ms/step\n",
            "Epoch 34/100\n",
            "3/3 - 0s - loss: 0.6276 - accuracy: 0.7371 - val_loss: 0.6233 - val_accuracy: 0.7316 - 59ms/epoch - 20ms/step\n",
            "Epoch 35/100\n",
            "3/3 - 0s - loss: 0.6173 - accuracy: 0.7362 - val_loss: 0.6179 - val_accuracy: 0.7320 - 60ms/epoch - 20ms/step\n",
            "Epoch 36/100\n",
            "3/3 - 0s - loss: 0.6135 - accuracy: 0.7362 - val_loss: 0.6132 - val_accuracy: 0.7318 - 57ms/epoch - 19ms/step\n",
            "Epoch 37/100\n",
            "3/3 - 0s - loss: 0.6090 - accuracy: 0.7371 - val_loss: 0.6090 - val_accuracy: 0.7320 - 63ms/epoch - 21ms/step\n",
            "Epoch 38/100\n",
            "3/3 - 0s - loss: 0.6031 - accuracy: 0.7389 - val_loss: 0.6054 - val_accuracy: 0.7320 - 106ms/epoch - 35ms/step\n",
            "Epoch 39/100\n",
            "3/3 - 0s - loss: 0.6103 - accuracy: 0.7336 - val_loss: 0.6024 - val_accuracy: 0.7320 - 58ms/epoch - 19ms/step\n",
            "Epoch 40/100\n",
            "3/3 - 0s - loss: 0.6000 - accuracy: 0.7380 - val_loss: 0.5998 - val_accuracy: 0.7323 - 54ms/epoch - 18ms/step\n",
            "Epoch 41/100\n",
            "3/3 - 0s - loss: 0.5983 - accuracy: 0.7371 - val_loss: 0.5971 - val_accuracy: 0.7323 - 56ms/epoch - 19ms/step\n",
            "Epoch 42/100\n",
            "3/3 - 0s - loss: 0.5886 - accuracy: 0.7398 - val_loss: 0.5947 - val_accuracy: 0.7327 - 57ms/epoch - 19ms/step\n",
            "Epoch 43/100\n",
            "3/3 - 0s - loss: 0.5882 - accuracy: 0.7398 - val_loss: 0.5927 - val_accuracy: 0.7327 - 54ms/epoch - 18ms/step\n",
            "Epoch 44/100\n",
            "3/3 - 0s - loss: 0.5923 - accuracy: 0.7353 - val_loss: 0.5911 - val_accuracy: 0.7327 - 55ms/epoch - 18ms/step\n",
            "Epoch 45/100\n",
            "3/3 - 0s - loss: 0.5861 - accuracy: 0.7389 - val_loss: 0.5898 - val_accuracy: 0.7327 - 59ms/epoch - 20ms/step\n",
            "Epoch 46/100\n",
            "3/3 - 0s - loss: 0.5853 - accuracy: 0.7371 - val_loss: 0.5887 - val_accuracy: 0.7327 - 57ms/epoch - 19ms/step\n",
            "Epoch 47/100\n",
            "3/3 - 0s - loss: 0.5866 - accuracy: 0.7380 - val_loss: 0.5875 - val_accuracy: 0.7327 - 56ms/epoch - 19ms/step\n",
            "Epoch 48/100\n",
            "3/3 - 0s - loss: 0.5891 - accuracy: 0.7362 - val_loss: 0.5863 - val_accuracy: 0.7329 - 63ms/epoch - 21ms/step\n",
            "Epoch 49/100\n",
            "3/3 - 0s - loss: 0.5877 - accuracy: 0.7345 - val_loss: 0.5854 - val_accuracy: 0.7334 - 60ms/epoch - 20ms/step\n",
            "Epoch 50/100\n",
            "3/3 - 0s - loss: 0.5784 - accuracy: 0.7398 - val_loss: 0.5846 - val_accuracy: 0.7338 - 60ms/epoch - 20ms/step\n",
            "Epoch 51/100\n",
            "3/3 - 0s - loss: 0.5744 - accuracy: 0.7389 - val_loss: 0.5841 - val_accuracy: 0.7338 - 53ms/epoch - 18ms/step\n",
            "Epoch 52/100\n",
            "3/3 - 0s - loss: 0.5787 - accuracy: 0.7398 - val_loss: 0.5837 - val_accuracy: 0.7340 - 63ms/epoch - 21ms/step\n",
            "Epoch 53/100\n",
            "3/3 - 0s - loss: 0.5792 - accuracy: 0.7416 - val_loss: 0.5833 - val_accuracy: 0.7340 - 60ms/epoch - 20ms/step\n",
            "Epoch 54/100\n",
            "3/3 - 0s - loss: 0.5798 - accuracy: 0.7371 - val_loss: 0.5830 - val_accuracy: 0.7340 - 64ms/epoch - 21ms/step\n",
            "Epoch 55/100\n",
            "3/3 - 0s - loss: 0.5795 - accuracy: 0.7398 - val_loss: 0.5827 - val_accuracy: 0.7340 - 63ms/epoch - 21ms/step\n",
            "Epoch 56/100\n",
            "3/3 - 0s - loss: 0.5818 - accuracy: 0.7380 - val_loss: 0.5825 - val_accuracy: 0.7340 - 57ms/epoch - 19ms/step\n",
            "Epoch 57/100\n",
            "3/3 - 0s - loss: 0.5887 - accuracy: 0.7336 - val_loss: 0.5823 - val_accuracy: 0.7340 - 56ms/epoch - 19ms/step\n",
            "Epoch 58/100\n",
            "3/3 - 0s - loss: 0.5824 - accuracy: 0.7362 - val_loss: 0.5822 - val_accuracy: 0.7340 - 56ms/epoch - 19ms/step\n",
            "Epoch 59/100\n",
            "3/3 - 0s - loss: 0.5848 - accuracy: 0.7362 - val_loss: 0.5821 - val_accuracy: 0.7340 - 56ms/epoch - 19ms/step\n",
            "Epoch 60/100\n",
            "3/3 - 0s - loss: 0.5805 - accuracy: 0.7353 - val_loss: 0.5819 - val_accuracy: 0.7340 - 61ms/epoch - 20ms/step\n",
            "Epoch 61/100\n",
            "3/3 - 0s - loss: 0.5781 - accuracy: 0.7398 - val_loss: 0.5818 - val_accuracy: 0.7340 - 60ms/epoch - 20ms/step\n",
            "Epoch 62/100\n",
            "3/3 - 0s - loss: 0.5799 - accuracy: 0.7389 - val_loss: 0.5817 - val_accuracy: 0.7340 - 63ms/epoch - 21ms/step\n",
            "Epoch 63/100\n",
            "3/3 - 0s - loss: 0.5792 - accuracy: 0.7380 - val_loss: 0.5817 - val_accuracy: 0.7340 - 61ms/epoch - 20ms/step\n",
            "Epoch 64/100\n",
            "3/3 - 0s - loss: 0.5827 - accuracy: 0.7389 - val_loss: 0.5816 - val_accuracy: 0.7340 - 62ms/epoch - 21ms/step\n",
            "Epoch 65/100\n",
            "3/3 - 0s - loss: 0.5780 - accuracy: 0.7398 - val_loss: 0.5815 - val_accuracy: 0.7340 - 61ms/epoch - 20ms/step\n",
            "Epoch 66/100\n",
            "3/3 - 0s - loss: 0.5782 - accuracy: 0.7389 - val_loss: 0.5815 - val_accuracy: 0.7340 - 60ms/epoch - 20ms/step\n",
            "Epoch 67/100\n",
            "3/3 - 0s - loss: 0.5772 - accuracy: 0.7398 - val_loss: 0.5815 - val_accuracy: 0.7340 - 61ms/epoch - 20ms/step\n",
            "Epoch 68/100\n",
            "3/3 - 0s - loss: 0.5836 - accuracy: 0.7380 - val_loss: 0.5814 - val_accuracy: 0.7340 - 67ms/epoch - 22ms/step\n",
            "Epoch 69/100\n",
            "3/3 - 0s - loss: 0.5755 - accuracy: 0.7398 - val_loss: 0.5813 - val_accuracy: 0.7340 - 56ms/epoch - 19ms/step\n",
            "Epoch 70/100\n",
            "3/3 - 0s - loss: 0.5788 - accuracy: 0.7389 - val_loss: 0.5812 - val_accuracy: 0.7340 - 68ms/epoch - 23ms/step\n",
            "Epoch 71/100\n",
            "3/3 - 0s - loss: 0.5820 - accuracy: 0.7380 - val_loss: 0.5812 - val_accuracy: 0.7340 - 58ms/epoch - 19ms/step\n",
            "Epoch 72/100\n",
            "3/3 - 0s - loss: 0.5783 - accuracy: 0.7398 - val_loss: 0.5812 - val_accuracy: 0.7340 - 98ms/epoch - 33ms/step\n",
            "Epoch 73/100\n",
            "3/3 - 0s - loss: 0.5772 - accuracy: 0.7407 - val_loss: 0.5812 - val_accuracy: 0.7340 - 59ms/epoch - 20ms/step\n",
            "Epoch 74/100\n",
            "3/3 - 0s - loss: 0.5759 - accuracy: 0.7416 - val_loss: 0.5812 - val_accuracy: 0.7340 - 54ms/epoch - 18ms/step\n",
            "Epoch 75/100\n",
            "3/3 - 0s - loss: 0.5758 - accuracy: 0.7407 - val_loss: 0.5813 - val_accuracy: 0.7340 - 60ms/epoch - 20ms/step\n",
            "Epoch 76/100\n",
            "3/3 - 0s - loss: 0.5757 - accuracy: 0.7407 - val_loss: 0.5813 - val_accuracy: 0.7338 - 54ms/epoch - 18ms/step\n",
            "Epoch 77/100\n",
            "3/3 - 0s - loss: 0.5821 - accuracy: 0.7371 - val_loss: 0.5813 - val_accuracy: 0.7338 - 60ms/epoch - 20ms/step\n",
            "Epoch 78/100\n",
            "3/3 - 0s - loss: 0.5705 - accuracy: 0.7398 - val_loss: 0.5813 - val_accuracy: 0.7338 - 103ms/epoch - 34ms/step\n",
            "Epoch 79/100\n",
            "3/3 - 0s - loss: 0.5791 - accuracy: 0.7371 - val_loss: 0.5812 - val_accuracy: 0.7338 - 58ms/epoch - 19ms/step\n",
            "Epoch 80/100\n",
            "3/3 - 0s - loss: 0.5809 - accuracy: 0.7380 - val_loss: 0.5812 - val_accuracy: 0.7338 - 57ms/epoch - 19ms/step\n",
            "Epoch 81/100\n",
            "3/3 - 0s - loss: 0.5783 - accuracy: 0.7389 - val_loss: 0.5812 - val_accuracy: 0.7338 - 60ms/epoch - 20ms/step\n",
            "Epoch 82/100\n",
            "3/3 - 0s - loss: 0.5760 - accuracy: 0.7389 - val_loss: 0.5811 - val_accuracy: 0.7338 - 58ms/epoch - 19ms/step\n",
            "Epoch 83/100\n",
            "3/3 - 0s - loss: 0.5800 - accuracy: 0.7380 - val_loss: 0.5811 - val_accuracy: 0.7338 - 103ms/epoch - 34ms/step\n",
            "Epoch 84/100\n",
            "3/3 - 0s - loss: 0.5810 - accuracy: 0.7389 - val_loss: 0.5809 - val_accuracy: 0.7340 - 66ms/epoch - 22ms/step\n",
            "Epoch 85/100\n",
            "3/3 - 0s - loss: 0.5789 - accuracy: 0.7380 - val_loss: 0.5808 - val_accuracy: 0.7340 - 62ms/epoch - 21ms/step\n",
            "Epoch 86/100\n",
            "3/3 - 0s - loss: 0.5724 - accuracy: 0.7416 - val_loss: 0.5807 - val_accuracy: 0.7340 - 59ms/epoch - 20ms/step\n",
            "Epoch 87/100\n",
            "3/3 - 0s - loss: 0.5813 - accuracy: 0.7380 - val_loss: 0.5807 - val_accuracy: 0.7340 - 60ms/epoch - 20ms/step\n",
            "Epoch 88/100\n",
            "3/3 - 0s - loss: 0.5792 - accuracy: 0.7389 - val_loss: 0.5807 - val_accuracy: 0.7340 - 54ms/epoch - 18ms/step\n",
            "Epoch 89/100\n",
            "3/3 - 0s - loss: 0.5754 - accuracy: 0.7389 - val_loss: 0.5807 - val_accuracy: 0.7340 - 62ms/epoch - 21ms/step\n",
            "Epoch 90/100\n",
            "3/3 - 0s - loss: 0.5771 - accuracy: 0.7389 - val_loss: 0.5806 - val_accuracy: 0.7340 - 59ms/epoch - 20ms/step\n",
            "Epoch 91/100\n",
            "3/3 - 0s - loss: 0.5769 - accuracy: 0.7407 - val_loss: 0.5805 - val_accuracy: 0.7340 - 55ms/epoch - 18ms/step\n",
            "Epoch 92/100\n",
            "3/3 - 0s - loss: 0.5775 - accuracy: 0.7398 - val_loss: 0.5804 - val_accuracy: 0.7340 - 61ms/epoch - 20ms/step\n",
            "Epoch 93/100\n",
            "3/3 - 0s - loss: 0.5775 - accuracy: 0.7371 - val_loss: 0.5804 - val_accuracy: 0.7340 - 59ms/epoch - 20ms/step\n",
            "Epoch 94/100\n",
            "3/3 - 0s - loss: 0.5808 - accuracy: 0.7389 - val_loss: 0.5804 - val_accuracy: 0.7340 - 56ms/epoch - 19ms/step\n",
            "Epoch 95/100\n",
            "3/3 - 0s - loss: 0.5782 - accuracy: 0.7398 - val_loss: 0.5803 - val_accuracy: 0.7340 - 54ms/epoch - 18ms/step\n",
            "Epoch 96/100\n",
            "3/3 - 0s - loss: 0.5785 - accuracy: 0.7362 - val_loss: 0.5803 - val_accuracy: 0.7340 - 62ms/epoch - 21ms/step\n",
            "Epoch 97/100\n",
            "3/3 - 0s - loss: 0.5733 - accuracy: 0.7389 - val_loss: 0.5803 - val_accuracy: 0.7340 - 58ms/epoch - 19ms/step\n",
            "Epoch 98/100\n",
            "3/3 - 0s - loss: 0.5737 - accuracy: 0.7389 - val_loss: 0.5803 - val_accuracy: 0.7340 - 55ms/epoch - 18ms/step\n",
            "Epoch 99/100\n",
            "3/3 - 0s - loss: 0.5737 - accuracy: 0.7407 - val_loss: 0.5804 - val_accuracy: 0.7340 - 101ms/epoch - 34ms/step\n",
            "Epoch 100/100\n",
            "3/3 - 0s - loss: 0.5718 - accuracy: 0.7407 - val_loss: 0.5804 - val_accuracy: 0.7340 - 71ms/epoch - 24ms/step\n"
          ]
        }
      ]
    },
    {
      "cell_type": "code",
      "source": [
        "show_train_history(train_history,'accuracy','val_accuracy')\n",
        "show_train_history(train_history,'loss','val_loss')"
      ],
      "metadata": {
        "colab": {
          "base_uri": "https://localhost:8080/",
          "height": 927
        },
        "id": "FRdvLuM8qnxe",
        "outputId": "077b6dd3-5014-4937-b79d-8795be367707"
      },
      "execution_count": null,
      "outputs": [
        {
          "output_type": "display_data",
          "data": {
            "text/plain": [
              "<Figure size 640x480 with 1 Axes>"
            ],
            "image/png": "[encoded data removed]"
          },
          "metadata": {}
        },
        {
          "output_type": "display_data",
          "data": {
            "text/plain": [
              "<Figure size 640x480 with 1 Axes>"
            ],
            "image/png": "[encoded data removed]"
          },
          "metadata": {}
        }
      ]
    },
    {
      "cell_type": "code",
      "source": [
        "scores = model3.evaluate(x_test, y_test)\n",
        "print('\\n')\n",
        "print('accuracy=',scores[1])"
      ],
      "metadata": {
        "colab": {
          "base_uri": "https://localhost:8080/"
        },
        "id": "A3oOH-iVQoFt",
        "outputId": "740d7436-a388-4435-9253-a435b57f0251"
      },
      "execution_count": null,
      "outputs": [
        {
          "output_type": "stream",
          "name": "stdout",
          "text": [
            "45/45 [==============================] - 0s 2ms/step - loss: 0.5853 - accuracy: 0.7296\n",
            "\n",
            "\n",
            "accuracy= 0.7295954823493958\n"
          ]
        }
      ]
    },
    {
      "cell_type": "code",
      "source": [
        "y_pred3 = model3.predict(x_test)\n",
        "accuracy3 = accuracy_score(y_test, np.argmax(y_pred3, axis=1))\n",
        "f13 = f1_score(y_test, np.argmax(y_pred3, axis=1))\n",
        "roc_auc3 = roc_auc_score(tf.keras.utils.to_categorical(y_test), y_pred3)"
      ],
      "metadata": {
        "colab": {
          "base_uri": "https://localhost:8080/"
        },
        "id": "CW5itDvChty6",
        "outputId": "bef8c0ee-380d-49e2-9513-1078b7991da9"
      },
      "execution_count": null,
      "outputs": [
        {
          "output_type": "stream",
          "name": "stdout",
          "text": [
            "45/45 [==============================] - 0s 2ms/step\n"
          ]
        }
      ]
    },
    {
      "cell_type": "code",
      "source": [
        "y_pred3 = (y_pred3>0.5)"
      ],
      "metadata": {
        "id": "vacEpKM4iYPw"
      },
      "execution_count": null,
      "outputs": []
    },
    {
      "cell_type": "code",
      "source": [
        "cm = confusion_matrix(y_pred3,y_test)\n",
        "plt.figure(figsize=(8, 6))\n",
        "sns.heatmap(cm, annot=True, fmt='d', cmap='Blues', cbar=False)\n",
        "plt.xlabel('True')\n",
        "plt.ylabel('Predicted')\n",
        "plt.title('Confusion Matrix')\n",
        "plt.show()"
      ],
      "metadata": {
        "colab": {
          "base_uri": "https://localhost:8080/",
          "height": 564
        },
        "id": "DlNuXJvAkx3m",
        "outputId": "33441e8a-c4a8-45b6-8538-8b1ac9d63dd9"
      },
      "execution_count": null,
      "outputs": [
        {
          "output_type": "display_data",
          "data": {
            "text/plain": [
              "<Figure size 800x600 with 1 Axes>"
            ],
            "image/png": "[encoded data removed]"
          },
          "metadata": {}
        }
      ]
    },
    {
      "cell_type": "code",
      "source": [
        "print(classification_report(y_test,y_pred3))"
      ],
      "metadata": {
        "colab": {
          "base_uri": "https://localhost:8080/"
        },
        "id": "lZBIsh72ieTZ",
        "outputId": "e11280c4-e0b6-4bff-9656-ce87e37321f6"
      },
      "execution_count": null,
      "outputs": [
        {
          "output_type": "stream",
          "name": "stdout",
          "text": [
            "              precision    recall  f1-score   support\n",
            "\n",
            "           0       0.73      1.00      0.84      1030\n",
            "           1       0.25      0.00      0.01       379\n",
            "\n",
            "    accuracy                           0.73      1409\n",
            "   macro avg       0.49      0.50      0.42      1409\n",
            "weighted avg       0.60      0.73      0.62      1409\n",
            "\n"
          ]
        }
      ]
    },
    {
      "cell_type": "markdown",
      "source": [
        "**Implementing Monte Carlo Dropout:**\n",
        "\n",
        "---\n",
        "\n",
        "\n",
        "\n",
        "● Extend the DNN architecture to include Monte Carlo dropout, enabling dropout\n",
        "during both training and inference phases.\n",
        "\n",
        "● Train the model using this architecture and evaluate its performance on the\n",
        "validation set."
      ],
      "metadata": {
        "id": "HW0o3XYlRLYB"
      }
    },
    {
      "cell_type": "code",
      "source": [
        "def monte_carlo_inference(model, x, num_samples):\n",
        "    y_preds = np.zeros((num_samples, x.shape[0], 10))\n",
        "    for i in range(num_samples):\n",
        "        y_preds[i] = tf.nn.softmax(model(x, training=True)).numpy()\n",
        "    return y_preds"
      ],
      "metadata": {
        "id": "nLZTnhOSROlu"
      },
      "execution_count": null,
      "outputs": []
    },
    {
      "cell_type": "code",
      "source": [
        "x_test = np.array(x_test)"
      ],
      "metadata": {
        "id": "IIBc2K4dXRfL"
      },
      "execution_count": null,
      "outputs": []
    },
    {
      "cell_type": "code",
      "source": [
        "# Perform Monte Carlo Dropout inference on test data\n",
        "y_preds_mc = monte_carlo_inference(model1, x_test, 10)"
      ],
      "metadata": {
        "id": "eA8eEoL_WOgk"
      },
      "execution_count": null,
      "outputs": []
    },
    {
      "cell_type": "code",
      "source": [
        "y_preds_mc = (y_preds_mc>0.5)"
      ],
      "metadata": {
        "id": "bTXp3C7FpT7L"
      },
      "execution_count": null,
      "outputs": []
    },
    {
      "cell_type": "code",
      "source": [
        "mean_prediction = np.mean(y_preds_mc, axis=0)\n",
        "uncertainty = np.std(y_preds_mc, axis=0)"
      ],
      "metadata": {
        "id": "MUl_WEeeWU4Z"
      },
      "execution_count": null,
      "outputs": []
    },
    {
      "cell_type": "code",
      "source": [
        "# Evaluate accuracy\n",
        "accuracy = np.mean(np.argmax(mean_prediction, axis=1) == y_test)\n",
        "print(\"Accuracy: {:.2f}%\".format(accuracy * 100))"
      ],
      "metadata": {
        "colab": {
          "base_uri": "https://localhost:8080/"
        },
        "id": "5nRWBt6fWbsh",
        "outputId": "027c0f05-71ae-4463-ea53-e039d13e6c30"
      },
      "execution_count": null,
      "outputs": [
        {
          "output_type": "stream",
          "name": "stdout",
          "text": [
            "Accuracy: 73.10%\n"
          ]
        }
      ]
    },
    {
      "cell_type": "code",
      "source": [
        "conf_matrix = confusion_matrix(y_test, np.argmax(mean_prediction, axis=1))\n",
        "plt.figure(figsize=(8, 6))\n",
        "sns.heatmap(cm, annot=True, fmt='d', cmap='Blues', cbar=False)\n",
        "plt.xlabel('True')\n",
        "plt.ylabel('Predicted')\n",
        "plt.title('Confusion Matrix')\n",
        "plt.show()"
      ],
      "metadata": {
        "colab": {
          "base_uri": "https://localhost:8080/",
          "height": 564
        },
        "id": "evmfMMLEqA3h",
        "outputId": "d5337593-a9d7-48b6-aca0-f7f45cccd3cc"
      },
      "execution_count": null,
      "outputs": [
        {
          "output_type": "display_data",
          "data": {
            "text/plain": [
              "<Figure size 800x600 with 1 Axes>"
            ],
            "image/png": "[encoded data removed]"
          },
          "metadata": {}
        }
      ]
    },
    {
      "cell_type": "markdown",
      "source": [
        "**Comparison and Visualization:**\n",
        "\n",
        "● Compare the performance metrics (e.g., accuracy, F1 score, ROC curve) of the\n",
        "three models (baseline, with dropout, with layer-wise dropout, with Monte Carlo\n",
        "dropout).\n",
        "\n",
        "● Visualize the training and validation accuracy/loss curves for each model to\n",
        "observe their convergence and potential overfitting."
      ],
      "metadata": {
        "id": "7fp2NwQWqUb5"
      }
    },
    {
      "cell_type": "code",
      "source": [
        "fpr1, tpr1, _ = roc_curve(y_test, y_pred1)\n",
        "roc_auc1 = auc(fpr1, tpr1)\n",
        "\n",
        "fpr2, tpr2, _ = roc_curve(y_test, y_pred1)\n",
        "roc_auc2 = auc(fpr2, tpr2)\n",
        "\n",
        "fpr3, tpr3, _ = roc_curve(y_test, y_pred1)\n",
        "roc_auc3 = auc(fpr3, tpr3)\n",
        "\n",
        "fpr4, tpr4, _ = roc_curve(y_test, np.argmax(mean_prediction, axis=1))\n",
        "roc_auc4 = auc(fpr4, tpr4)\n",
        "\n",
        "# Plot ROC curves\n",
        "plt.plot(fpr1, tpr1, label='Without Regularization (AUC = %0.2f)' % roc_auc1)\n",
        "plt.plot(fpr2, tpr2, label='Applying L1 Regularization (AUC = %0.2f)' % roc_auc2)\n",
        "plt.plot(fpr3, tpr3, label='Applying L2 Regularization (AUC = %0.2f)' % roc_auc3)\n",
        "plt.plot(fpr4, tpr4, label='Applying Elastic Net Regularization (AUC = %0.2f)' % roc_auc4)\n",
        "\n",
        "plt.xlabel('False Positive Rate')\n",
        "plt.ylabel('True Positive Rate')\n",
        "plt.title('Receiver Operating Characteristic (ROC) Curve')\n",
        "plt.legend(loc='lower right')\n",
        "plt.show()"
      ],
      "metadata": {
        "id": "Zq9BJ5CXqT6N",
        "colab": {
          "base_uri": "https://localhost:8080/",
          "height": 472
        },
        "outputId": "75e9c303-d314-481b-b459-233d41969981"
      },
      "execution_count": null,
      "outputs": [
        {
          "output_type": "display_data",
          "data": {
            "text/plain": [
              "<Figure size 640x480 with 1 Axes>"
            ],
            "image/png": "[encoded data removed]"
          },
          "metadata": {}
        }
      ]
    },
    {
      "cell_type": "code",
      "source": [
        "accuracies = {'Baseline': accuracy1,'Dropout': accuracy2,'Layer-wise Dropout': accuracy3,'Monte Carlo Dropout': accuracy}\n",
        "\n",
        "# Plot accuracies\n",
        "plt.figure(figsize=(10, 6))\n",
        "plt.bar(accuracies.keys(), accuracies.values(), color=['blue', 'orange', 'green', 'red'])\n",
        "plt.xlabel('Model')\n",
        "plt.ylabel('Accuracy')\n",
        "plt.title('Accuracy Comparison of Different Models')\n",
        "plt.ylim(0, 1)\n",
        "plt.xticks(rotation=45)\n",
        "plt.grid(axis='y', linestyle='--', alpha=0.7)\n",
        "plt.show()"
      ],
      "metadata": {
        "colab": {
          "base_uri": "https://localhost:8080/",
          "height": 662
        },
        "id": "5vbU6j_2q1-F",
        "outputId": "15476898-0645-4c8c-cee4-89de78e92bdf"
      },
      "execution_count": null,
      "outputs": [
        {
          "output_type": "display_data",
          "data": {
            "text/plain": [
              "<Figure size 1000x600 with 1 Axes>"
            ],
            "image/png": "[encoded data removed]"
          },
          "metadata": {}
        }
      ]
    }
  ]
}